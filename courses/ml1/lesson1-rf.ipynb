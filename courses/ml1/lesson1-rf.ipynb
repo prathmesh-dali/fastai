{
  "nbformat": 4,
  "nbformat_minor": 0,
  "metadata": {
    "colab": {
      "name": "lesson1-rf.ipynb",
      "version": "0.3.2",
      "provenance": []
    },
    "kernelspec": {
      "display_name": "Python 3",
      "language": "python",
      "name": "python3"
    }
  },
  "cells": [
    {
      "metadata": {
        "id": "DqsMCWWdAkf5",
        "colab_type": "text"
      },
      "cell_type": "markdown",
      "source": [
        "# Intro to Random Forests"
      ]
    },
    {
      "metadata": {
        "id": "_RImBArpAkf-",
        "colab_type": "text"
      },
      "cell_type": "markdown",
      "source": [
        "## About this course"
      ]
    },
    {
      "metadata": {
        "id": "r0ZuV8KKAkgA",
        "colab_type": "text"
      },
      "cell_type": "markdown",
      "source": [
        "### Teaching approach"
      ]
    },
    {
      "metadata": {
        "id": "UQTgQq1JAkgB",
        "colab_type": "text"
      },
      "cell_type": "markdown",
      "source": [
        "This course is being taught by Jeremy Howard, and was developed by Jeremy along with Rachel Thomas. Rachel has been dealing with a life-threatening illness so will not be teaching as originally planned this year.\n",
        "\n",
        "Jeremy has worked in a number of different areas - feel free to ask about anything that he might be able to help you with at any time, even if not directly related to the current topic:\n",
        "\n",
        "- Management consultant (McKinsey; AT Kearney)\n",
        "- Self-funded startup entrepreneur (Fastmail: first consumer synchronized email; Optimal Decisions: first optimized insurance pricing)\n",
        "- VC-funded startup entrepreneur: (Kaggle; Enlitic: first deep-learning medical company)"
      ]
    },
    {
      "metadata": {
        "id": "3Qd_B69tAkgB",
        "colab_type": "text"
      },
      "cell_type": "markdown",
      "source": [
        "I'll be using a *top-down* teaching method, which is different from how most math courses operate.  Typically, in a *bottom-up* approach, you first learn all the separate components you will be using, and then you gradually build them up into more complex structures.  The problems with this are that students often lose motivation, don't have a sense of the \"big picture\", and don't know what they'll need.\n",
        "\n",
        "If you took the fast.ai deep learning course, that is what we used.  You can hear more about my teaching philosophy [in this blog post](http://www.fast.ai/2016/10/08/teaching-philosophy/) or [in this talk](https://vimeo.com/214233053).\n",
        "\n",
        "Harvard Professor David Perkins has a book, [Making Learning Whole](https://www.amazon.com/Making-Learning-Whole-Principles-Transform/dp/0470633719) in which he uses baseball as an analogy.  We don't require kids to memorize all the rules of baseball and understand all the technical details before we let them play the game.  Rather, they start playing with a just general sense of it, and then gradually learn more rules/details as time goes on.\n",
        "\n",
        "All that to say, don't worry if you don't understand everything at first!  You're not supposed to.  We will start using some \"black boxes\" such as random forests that haven't yet been explained in detail, and then we'll dig into the lower level details later.\n",
        "\n",
        "To start, focus on what things DO, not what they ARE."
      ]
    },
    {
      "metadata": {
        "id": "lGtzGb2YAkgD",
        "colab_type": "text"
      },
      "cell_type": "markdown",
      "source": [
        "### Your practice"
      ]
    },
    {
      "metadata": {
        "id": "NYzvyF7eAkgD",
        "colab_type": "text"
      },
      "cell_type": "markdown",
      "source": [
        "People learn by:\n",
        "1. **doing** (coding and building)\n",
        "2. **explaining** what they've learned (by writing or helping others)\n",
        "\n",
        "Therefore, we suggest that you practice these skills on Kaggle by:\n",
        "1. Entering competitions (*doing*)\n",
        "2. Creating Kaggle kernels (*explaining*)\n",
        "\n",
        "It's OK if you don't get good competition ranks or any kernel votes at first - that's totally normal! Just try to keep improving every day, and you'll see the results over time."
      ]
    },
    {
      "metadata": {
        "id": "pg0ZyyEkAkgE",
        "colab_type": "text"
      },
      "cell_type": "markdown",
      "source": [
        "To get better at technical writing, study the top ranked Kaggle kernels from past competitions, and read posts from well-regarded technical bloggers. Some good role models include:\n",
        "\n",
        "- [Peter Norvig](http://nbviewer.jupyter.org/url/norvig.com/ipython/ProbabilityParadox.ipynb) (more [here](http://norvig.com/ipython/))\n",
        "- [Stephen Merity](https://smerity.com/articles/2017/deepcoder_and_ai_hype.html)\n",
        "- [Julia Evans](https://codewords.recurse.com/issues/five/why-do-neural-networks-think-a-panda-is-a-vulture) (more [here](https://jvns.ca/blog/2014/08/12/what-happens-if-you-write-a-tcp-stack-in-python/))\n",
        "- [Julia Ferraioli](http://blog.juliaferraioli.com/2016/02/exploring-world-using-vision-twilio.html)\n",
        "- [Edwin Chen](http://blog.echen.me/2014/10/07/moving-beyond-ctr-better-recommendations-through-human-evaluation/)\n",
        "- [Slav Ivanov](https://blog.slavv.com/picking-an-optimizer-for-style-transfer-86e7b8cba84b) (fast.ai student)\n",
        "- [Brad Kenstler](https://hackernoon.com/non-artistic-style-transfer-or-how-to-draw-kanye-using-captain-picards-face-c4a50256b814) (fast.ai and USF MSAN student)"
      ]
    },
    {
      "metadata": {
        "id": "Uqg1jeq6AkgG",
        "colab_type": "text"
      },
      "cell_type": "markdown",
      "source": [
        "### Books"
      ]
    },
    {
      "metadata": {
        "id": "JtAacGvnAkgH",
        "colab_type": "text"
      },
      "cell_type": "markdown",
      "source": [
        "The more familiarity you have with numeric programming in Python, the better. If you're looking to improve in this area, we strongly suggest Wes McKinney's [Python for Data Analysis, 2nd ed](https://www.amazon.com/Python-Data-Analysis-Wrangling-IPython/dp/1491957662/ref=asap_bc?ie=UTF8).\n",
        "\n",
        "For machine learning with Python, we recommend:\n",
        "\n",
        "- [Introduction to Machine Learning with Python](https://www.amazon.com/Introduction-Machine-Learning-Andreas-Mueller/dp/1449369413): From one of the scikit-learn authors, which is the main library we'll be using\n",
        "- [Python Machine Learning: Machine Learning and Deep Learning with Python, scikit-learn, and TensorFlow, 2nd Edition](https://www.amazon.com/Python-Machine-Learning-scikit-learn-TensorFlow/dp/1787125939/ref=dp_ob_title_bk): New version of a very successful book. A lot of the new material however covers deep learning in Tensorflow, which isn't relevant to this course\n",
        "- [Hands-On Machine Learning with Scikit-Learn and TensorFlow](https://www.amazon.com/Hands-Machine-Learning-Scikit-Learn-TensorFlow/dp/1491962291/ref=pd_lpo_sbs_14_t_0?_encoding=UTF8&psc=1&refRID=MBV2QMFH3EZ6B3YBY40K)\n"
      ]
    },
    {
      "metadata": {
        "id": "ttxR3LJzAkgI",
        "colab_type": "text"
      },
      "cell_type": "markdown",
      "source": [
        "### Syllabus in brief"
      ]
    },
    {
      "metadata": {
        "id": "OxH_LNQvAkgJ",
        "colab_type": "text"
      },
      "cell_type": "markdown",
      "source": [
        "Depending on time and class interests, we'll cover something like (not necessarily in this order):\n",
        "\n",
        "- Train vs test\n",
        "  - Effective validation set construction\n",
        "- Trees and ensembles\n",
        "  - Creating random forests\n",
        "  - Interpreting random forests\n",
        "- What is ML?  Why do we use it?\n",
        "  - What makes a good ML project?\n",
        "  - Structured vs unstructured data\n",
        "  - Examples of failures/mistakes\n",
        "- Feature engineering\n",
        "  - Domain specific - dates, URLs, text\n",
        "  - Embeddings / latent factors\n",
        "- Regularized models trained with SGD\n",
        "  - GLMs, Elasticnet, etc (NB: see what James covered)\n",
        "- Basic neural nets\n",
        "  - PyTorch\n",
        "  - Broadcasting, Matrix Multiplication\n",
        "  - Training loop, backpropagation\n",
        "- KNN\n",
        "- CV / bootstrap (Diabetes data set?)\n",
        "- Ethical considerations"
      ]
    },
    {
      "metadata": {
        "id": "mpdhmSmyAkgK",
        "colab_type": "text"
      },
      "cell_type": "markdown",
      "source": [
        "Skip:\n",
        "\n",
        "- Dimensionality reduction\n",
        "- Interactions\n",
        "- Monitoring training\n",
        "- Collaborative filtering\n",
        "- Momentum and LR annealing\n"
      ]
    },
    {
      "metadata": {
        "id": "9rc4_-PFAkgM",
        "colab_type": "text"
      },
      "cell_type": "markdown",
      "source": [
        "## Imports"
      ]
    },
    {
      "metadata": {
        "id": "7hjd5dYaAkgN",
        "colab_type": "code",
        "colab": {}
      },
      "cell_type": "code",
      "source": [
        "%load_ext autoreload\n",
        "%autoreload 2\n",
        "\n",
        "%matplotlib inline"
      ],
      "execution_count": 0,
      "outputs": []
    },
    {
      "metadata": {
        "id": "TwEymOETBbj_",
        "colab_type": "code",
        "colab": {
          "base_uri": "https://localhost:8080/",
          "height": 4553
        },
        "outputId": "936184ec-6480-485a-916a-3b0d01970aa8"
      },
      "cell_type": "code",
      "source": [
        "!wget -c https://repo.continuum.io/archive/Anaconda3-5.1.0-Linux-x86_64.sh\n",
        "!chmod +x Anaconda3-5.1.0-Linux-x86_64.sh\n",
        "!bash ./Anaconda3-5.1.0-Linux-x86_64.sh -b -f -p /usr/local\n"
      ],
      "execution_count": 2,
      "outputs": [
        {
          "output_type": "stream",
          "text": [
            "\n",
            "Redirecting output to ‘wget-log’.\n",
            "PREFIX=/usr/local\n",
            "installing: python-3.6.4-hc3d631a_1 ...\n",
            "Python 3.6.4 :: Anaconda, Inc.\n",
            "installing: ca-certificates-2017.08.26-h1d4fec5_0 ...\n",
            "installing: conda-env-2.6.0-h36134e3_1 ...\n",
            "installing: intel-openmp-2018.0.0-hc7b2577_8 ...\n",
            "installing: libgcc-ng-7.2.0-h7cc24e2_2 ...\n",
            "installing: libgfortran-ng-7.2.0-h9f7466a_2 ...\n",
            "installing: libstdcxx-ng-7.2.0-h7a57d05_2 ...\n",
            "installing: bzip2-1.0.6-h9a117a8_4 ...\n",
            "installing: expat-2.2.5-he0dffb1_0 ...\n",
            "installing: gmp-6.1.2-h6c8ec71_1 ...\n",
            "installing: graphite2-1.3.10-hf63cedd_1 ...\n",
            "installing: icu-58.2-h9c2bf20_1 ...\n",
            "installing: jbig-2.1-hdba287a_0 ...\n",
            "installing: jpeg-9b-h024ee3a_2 ...\n",
            "installing: libffi-3.2.1-hd88cf55_4 ...\n",
            "installing: libsodium-1.0.15-hf101ebd_0 ...\n",
            "installing: libtool-2.4.6-h544aabb_3 ...\n",
            "installing: libxcb-1.12-hcd93eb1_4 ...\n",
            "installing: lzo-2.10-h49e0be7_2 ...\n",
            "installing: mkl-2018.0.1-h19d6760_4 ...\n",
            "installing: ncurses-6.0-h9df7e31_2 ...\n",
            "installing: openssl-1.0.2n-hb7f436b_0 ...\n",
            "installing: patchelf-0.9-hf79760b_2 ...\n",
            "installing: pcre-8.41-hc27e229_1 ...\n",
            "installing: pixman-0.34.0-hceecf20_3 ...\n",
            "installing: tk-8.6.7-hc745277_3 ...\n",
            "installing: unixodbc-2.3.4-hc36303a_1 ...\n",
            "installing: xz-5.2.3-h55aa19d_2 ...\n",
            "installing: yaml-0.1.7-had09818_2 ...\n",
            "installing: zlib-1.2.11-ha838bed_2 ...\n",
            "installing: glib-2.53.6-h5d9569c_2 ...\n",
            "installing: hdf5-1.10.1-h9caa474_1 ...\n",
            "installing: libedit-3.1-heed3624_0 ...\n",
            "installing: libpng-1.6.34-hb9fc6fc_0 ...\n",
            "installing: libssh2-1.8.0-h9cfc8f7_4 ...\n",
            "installing: libtiff-4.0.9-h28f6b97_0 ...\n",
            "installing: libxml2-2.9.7-h26e45fe_0 ...\n",
            "installing: mpfr-3.1.5-h11a74b3_2 ...\n",
            "installing: pandoc-1.19.2.1-hea2e7c5_1 ...\n",
            "installing: readline-7.0-ha6073c6_4 ...\n",
            "installing: zeromq-4.2.2-hbedb6e5_2 ...\n",
            "installing: dbus-1.12.2-hc3f9b76_1 ...\n",
            "installing: freetype-2.8-hab7d2ae_1 ...\n",
            "installing: gstreamer-1.12.4-hb53b477_0 ...\n",
            "installing: libcurl-7.58.0-h1ad7b7a_0 ...\n",
            "installing: libxslt-1.1.32-h1312cb7_0 ...\n",
            "installing: mpc-1.0.3-hec55b23_5 ...\n",
            "installing: sqlite-3.22.0-h1bed415_0 ...\n",
            "installing: curl-7.58.0-h84994c4_0 ...\n",
            "installing: fontconfig-2.12.4-h88586e7_1 ...\n",
            "installing: gst-plugins-base-1.12.4-h33fb286_0 ...\n",
            "installing: alabaster-0.7.10-py36h306e16b_0 ...\n",
            "installing: asn1crypto-0.24.0-py36_0 ...\n",
            "installing: attrs-17.4.0-py36_0 ...\n",
            "installing: backports-1.0-py36hfa02d7e_1 ...\n",
            "installing: beautifulsoup4-4.6.0-py36h49b8c8c_1 ...\n",
            "installing: bitarray-0.8.1-py36h14c3975_1 ...\n",
            "installing: boto-2.48.0-py36h6e4cd66_1 ...\n",
            "installing: cairo-1.14.12-h77bcde2_0 ...\n",
            "installing: certifi-2018.1.18-py36_0 ...\n",
            "installing: chardet-3.0.4-py36h0f667ec_1 ...\n",
            "installing: click-6.7-py36h5253387_0 ...\n",
            "installing: cloudpickle-0.5.2-py36_1 ...\n",
            "installing: colorama-0.3.9-py36h489cec4_0 ...\n",
            "installing: contextlib2-0.5.5-py36h6c84a62_0 ...\n",
            "installing: dask-core-0.16.1-py36_0 ...\n",
            "installing: decorator-4.2.1-py36_0 ...\n",
            "installing: docutils-0.14-py36hb0f60f5_0 ...\n",
            "installing: entrypoints-0.2.3-py36h1aec115_2 ...\n",
            "installing: et_xmlfile-1.0.1-py36hd6bccc3_0 ...\n",
            "installing: fastcache-1.0.2-py36h14c3975_2 ...\n",
            "installing: filelock-2.0.13-py36h646ffb5_0 ...\n",
            "installing: glob2-0.6-py36he249c77_0 ...\n",
            "installing: gmpy2-2.0.8-py36hc8893dd_2 ...\n",
            "installing: greenlet-0.4.12-py36h2d503a6_0 ...\n",
            "installing: heapdict-1.0.0-py36_2 ...\n",
            "installing: idna-2.6-py36h82fb2a8_1 ...\n",
            "installing: imagesize-0.7.1-py36h52d8127_0 ...\n",
            "installing: ipython_genutils-0.2.0-py36hb52b0d5_0 ...\n",
            "installing: itsdangerous-0.24-py36h93cc618_1 ...\n",
            "installing: jdcal-1.3-py36h4c697fb_0 ...\n",
            "installing: lazy-object-proxy-1.3.1-py36h10fcdad_0 ...\n",
            "installing: llvmlite-0.21.0-py36ha241eea_0 ...\n",
            "installing: locket-0.2.0-py36h787c0ad_1 ...\n",
            "installing: lxml-4.1.1-py36hf71bdeb_1 ...\n",
            "installing: markupsafe-1.0-py36hd9260cd_1 ...\n",
            "installing: mccabe-0.6.1-py36h5ad9710_1 ...\n",
            "installing: mistune-0.8.3-py36_0 ...\n",
            "installing: mkl-service-1.1.2-py36h17a0993_4 ...\n",
            "installing: mpmath-1.0.0-py36hfeacd6b_2 ...\n",
            "installing: msgpack-python-0.5.1-py36h6bb024c_0 ...\n",
            "installing: multipledispatch-0.4.9-py36h41da3fb_0 ...\n",
            "installing: numpy-1.14.0-py36h3dfced4_1 ...\n",
            "installing: olefile-0.45.1-py36_0 ...\n",
            "installing: pandocfilters-1.4.2-py36ha6701b7_1 ...\n",
            "installing: parso-0.1.1-py36h35f843b_0 ...\n",
            "installing: path.py-10.5-py36h55ceabb_0 ...\n",
            "installing: pep8-1.7.1-py36_0 ...\n",
            "installing: pickleshare-0.7.4-py36h63277f8_0 ...\n",
            "installing: pkginfo-1.4.1-py36h215d178_1 ...\n",
            "installing: pluggy-0.6.0-py36hb689045_0 ...\n",
            "installing: ply-3.10-py36hed35086_0 ...\n",
            "installing: psutil-5.4.3-py36h14c3975_0 ...\n",
            "installing: ptyprocess-0.5.2-py36h69acd42_0 ...\n",
            "installing: py-1.5.2-py36h29bf505_0 ...\n",
            "installing: pycodestyle-2.3.1-py36hf609f19_0 ...\n",
            "installing: pycosat-0.6.3-py36h0a5515d_0 ...\n",
            "installing: pycparser-2.18-py36hf9f622e_1 ...\n",
            "installing: pycrypto-2.6.1-py36h14c3975_7 ...\n",
            "installing: pycurl-7.43.0.1-py36hb7f436b_0 ...\n",
            "installing: pyodbc-4.0.22-py36hf484d3e_0 ...\n",
            "installing: pyparsing-2.2.0-py36hee85983_1 ...\n",
            "installing: pysocks-1.6.7-py36hd97a5b1_1 ...\n",
            "installing: pytz-2017.3-py36h63b9c63_0 ...\n",
            "installing: pyyaml-3.12-py36hafb9ca4_1 ...\n",
            "installing: pyzmq-16.0.3-py36he2533c7_0 ...\n",
            "installing: qt-5.6.2-h974d657_12 ...\n",
            "installing: qtpy-1.3.1-py36h3691cc8_0 ...\n",
            "installing: rope-0.10.7-py36h147e2ec_0 ...\n",
            "installing: ruamel_yaml-0.15.35-py36h14c3975_1 ...\n",
            "installing: send2trash-1.4.2-py36_0 ...\n",
            "installing: simplegeneric-0.8.1-py36_2 ...\n",
            "installing: sip-4.18.1-py36h51ed4ed_2 ...\n",
            "installing: six-1.11.0-py36h372c433_1 ...\n",
            "installing: snowballstemmer-1.2.1-py36h6febd40_0 ...\n",
            "installing: sortedcontainers-1.5.9-py36_0 ...\n",
            "installing: sphinxcontrib-1.0-py36h6d0f590_1 ...\n",
            "installing: sqlalchemy-1.2.1-py36h14c3975_0 ...\n",
            "installing: tblib-1.3.2-py36h34cf8b6_0 ...\n",
            "installing: testpath-0.3.1-py36h8cadb63_0 ...\n",
            "installing: toolz-0.9.0-py36_0 ...\n",
            "installing: tornado-4.5.3-py36_0 ...\n",
            "installing: typing-3.6.2-py36h7da032a_0 ...\n",
            "installing: unicodecsv-0.14.1-py36ha668878_0 ...\n",
            "installing: wcwidth-0.1.7-py36hdf4376a_0 ...\n",
            "installing: webencodings-0.5.1-py36h800622e_1 ...\n",
            "installing: werkzeug-0.14.1-py36_0 ...\n",
            "installing: wrapt-1.10.11-py36h28b7045_0 ...\n",
            "installing: xlrd-1.1.0-py36h1db9f0c_1 ...\n",
            "installing: xlsxwriter-1.0.2-py36h3de1aca_0 ...\n",
            "installing: xlwt-1.3.0-py36h7b00a1f_0 ...\n",
            "installing: babel-2.5.3-py36_0 ...\n",
            "installing: backports.shutil_get_terminal_size-1.0.0-py36hfea85ff_2 ...\n",
            "installing: bottleneck-1.2.1-py36haac1ea0_0 ...\n",
            "installing: cffi-1.11.4-py36h9745a5d_0 ...\n",
            "installing: conda-verify-2.0.0-py36h98955d8_0 ...\n",
            "installing: cycler-0.10.0-py36h93f1223_0 ...\n",
            "installing: cytoolz-0.9.0-py36h14c3975_0 ...\n",
            "installing: h5py-2.7.1-py36h3585f63_0 ...\n",
            "installing: harfbuzz-1.7.4-hc5b324e_0 ...\n",
            "installing: html5lib-1.0.1-py36h2f9c1c0_0 ...\n",
            "installing: jedi-0.11.1-py36_0 ...\n",
            "installing: networkx-2.1-py36_0 ...\n",
            "installing: nltk-3.2.5-py36h7532b22_0 ...\n",
            "installing: numba-0.36.2-np114py36hc6662d5_0 ...\n",
            "installing: numexpr-2.6.4-py36hc4a3f9a_0 ...\n",
            "installing: openpyxl-2.4.10-py36_0 ...\n",
            "installing: packaging-16.8-py36ha668100_1 ...\n",
            "installing: partd-0.3.8-py36h36fd896_0 ...\n",
            "installing: pathlib2-2.3.0-py36h49efa8e_0 ...\n",
            "installing: pexpect-4.3.1-py36_0 ...\n",
            "installing: pillow-5.0.0-py36h3deb7b8_0 ...\n",
            "installing: pyqt-5.6.0-py36h0386399_5 ...\n",
            "installing: python-dateutil-2.6.1-py36h88d3b88_1 ...\n",
            "installing: pywavelets-0.5.2-py36he602eb0_0 ...\n",
            "installing: qtawesome-0.4.4-py36h609ed8c_0 ...\n",
            "installing: scipy-1.0.0-py36hbf646e7_0 ...\n",
            "installing: setuptools-38.4.0-py36_0 ...\n",
            "installing: singledispatch-3.4.0.3-py36h7a266c3_0 ...\n",
            "installing: sortedcollections-0.5.3-py36h3c761f9_0 ...\n",
            "installing: sphinxcontrib-websupport-1.0.1-py36hb5cb234_1 ...\n",
            "installing: sympy-1.1.1-py36hc6d1c1c_0 ...\n",
            "installing: terminado-0.8.1-py36_1 ...\n",
            "installing: traitlets-4.3.2-py36h674d592_0 ...\n",
            "installing: zict-0.1.3-py36h3a3bf81_0 ...\n",
            "installing: astroid-1.6.1-py36_0 ...\n",
            "installing: bleach-2.1.2-py36_0 ...\n",
            "installing: clyent-1.2.2-py36h7e57e65_1 ...\n",
            "installing: cryptography-2.1.4-py36hd09be54_0 ...\n",
            "installing: cython-0.27.3-py36h1860423_0 ...\n",
            "installing: datashape-0.5.4-py36h3ad6b5c_0 ...\n",
            "installing: distributed-1.20.2-py36_0 ...\n",
            "installing: get_terminal_size-1.0.0-haa9412d_0 ...\n",
            "installing: gevent-1.2.2-py36h2fe25dc_0 ...\n",
            "installing: imageio-2.2.0-py36he555465_0 ...\n",
            "installing: isort-4.2.15-py36had401c0_0 ...\n",
            "installing: jinja2-2.10-py36ha16c418_0 ...\n",
            "installing: jsonschema-2.6.0-py36h006f8b5_0 ...\n",
            "installing: jupyter_core-4.4.0-py36h7c827e3_0 ...\n",
            "installing: matplotlib-2.1.2-py36h0e671d2_0 ...\n",
            "installing: navigator-updater-0.1.0-py36h14770f7_0 ...\n",
            "installing: nose-1.3.7-py36hcdf7029_2 ...\n",
            "installing: pandas-0.22.0-py36hf484d3e_0 ...\n",
            "installing: pango-1.41.0-hd475d92_0 ...\n",
            "installing: patsy-0.5.0-py36_0 ...\n",
            "installing: pyflakes-1.6.0-py36h7bd6a15_0 ...\n",
            "installing: pygments-2.2.0-py36h0d3125c_0 ...\n",
            "installing: pytables-3.4.2-py36h3b5282a_2 ...\n",
            "installing: pytest-3.3.2-py36_0 ...\n",
            "installing: scikit-learn-0.19.1-py36h7aa7ec6_0 ...\n",
            "installing: wheel-0.30.0-py36hfd4bba0_1 ...\n",
            "installing: astropy-2.0.3-py36h14c3975_0 ...\n",
            "installing: bkcharts-0.2-py36h735825a_0 ...\n",
            "installing: bokeh-0.12.13-py36h2f9c1c0_0 ...\n",
            "installing: flask-0.12.2-py36hb24657c_0 ...\n",
            "installing: jupyter_client-5.2.2-py36_0 ...\n",
            "installing: nbformat-4.4.0-py36h31c9010_0 ...\n",
            "installing: pip-9.0.1-py36h6c6f9ce_4 ...\n",
            "installing: prompt_toolkit-1.0.15-py36h17d85b1_0 ...\n",
            "installing: pylint-1.8.2-py36_0 ...\n",
            "installing: pyopenssl-17.5.0-py36h20ba746_0 ...\n",
            "installing: statsmodels-0.8.0-py36h8533d0b_0 ...\n",
            "installing: dask-0.16.1-py36_0 ...\n",
            "installing: flask-cors-3.0.3-py36h2d857d3_0 ...\n",
            "installing: ipython-6.2.1-py36h88c514a_1 ...\n",
            "installing: nbconvert-5.3.1-py36hb41ffb7_0 ...\n",
            "installing: seaborn-0.8.1-py36hfad7ec4_0 ...\n",
            "installing: urllib3-1.22-py36hbe7ace6_0 ...\n",
            "installing: ipykernel-4.8.0-py36_0 ...\n",
            "installing: odo-0.5.1-py36h90ed295_0 ...\n",
            "installing: requests-2.18.4-py36he2e5f8d_1 ...\n",
            "installing: scikit-image-0.13.1-py36h14c3975_1 ...\n",
            "installing: anaconda-client-1.6.9-py36_0 ...\n",
            "installing: blaze-0.11.3-py36h4e06776_0 ...\n",
            "installing: jupyter_console-5.2.0-py36he59e554_1 ...\n",
            "installing: notebook-5.4.0-py36_0 ...\n",
            "installing: qtconsole-4.3.1-py36h8f73b5b_0 ...\n",
            "installing: sphinx-1.6.6-py36_0 ...\n",
            "installing: anaconda-project-0.8.2-py36h44fb852_0 ...\n",
            "installing: jupyterlab_launcher-0.10.2-py36_0 ...\n",
            "installing: numpydoc-0.7.0-py36h18f165f_0 ...\n",
            "installing: widgetsnbextension-3.1.0-py36_0 ...\n",
            "installing: anaconda-navigator-1.7.0-py36_0 ...\n",
            "installing: ipywidgets-7.1.1-py36_0 ...\n",
            "installing: jupyterlab-0.31.5-py36_0 ...\n",
            "installing: spyder-3.2.6-py36_0 ...\n",
            "installing: _ipyw_jlab_nb_ext_conf-0.1.0-py36he11e457_0 ...\n",
            "installing: jupyter-1.0.0-py36_4 ...\n",
            "installing: anaconda-5.1.0-py36_2 ...\n",
            "installing: conda-4.4.10-py36_0 ...\n",
            "installing: conda-build-3.4.1-py36_0 ...\n",
            "installation finished.\n",
            "WARNING:\n",
            "    You currently have a PYTHONPATH environment variable set. This may cause\n",
            "    unexpected behavior when running the Python interpreter in Anaconda3.\n",
            "    For best results, please verify that your PYTHONPATH only points to\n",
            "    directories of packages that are compatible with the Python interpreter\n",
            "    in Anaconda3: /usr/local\n"
          ],
          "name": "stdout"
        }
      ]
    },
    {
      "metadata": {
        "id": "qEhFmWtJaSY2",
        "colab_type": "code",
        "colab": {
          "base_uri": "https://localhost:8080/",
          "height": 3655
        },
        "outputId": "0b94ece8-5ac5-4e5e-b936-5480e2835022"
      },
      "cell_type": "code",
      "source": [
        "!pip install fastai==0.7.0\n",
        "!conda install -y --prefix /usr/local -c pytorch pytorch-nightly cuda92\n",
        "\n",
        "\n",
        "import sys\n",
        "sys.path.append('/usr/local/lib/python3.6/site-packages/')\n"
      ],
      "execution_count": 3,
      "outputs": [
        {
          "output_type": "stream",
          "text": [
            "Collecting fastai==0.7.0\n",
            "  Downloading https://files.pythonhosted.org/packages/50/6d/9d0d6e17a78b0598d5e8c49a0d03ffc7ff265ae62eca3e2345fab14edb9b/fastai-0.7.0-py3-none-any.whl (112kB)\n",
            "\u001b[K    100% |████████████████████████████████| 122kB 2.7MB/s \n",
            "\u001b[?25hRequirement already satisfied: traitlets in /usr/local/lib/python3.6/site-packages (from fastai==0.7.0)\n",
            "Requirement already satisfied: simplegeneric in /usr/local/lib/python3.6/site-packages (from fastai==0.7.0)\n",
            "Collecting bcolz (from fastai==0.7.0)\n",
            "  Downloading https://files.pythonhosted.org/packages/5c/4e/23942de9d5c0fb16f10335fa83e52b431bcb8c0d4a8419c9ac206268c279/bcolz-1.2.1.tar.gz (1.5MB)\n",
            "\u001b[K    100% |████████████████████████████████| 1.5MB 747kB/s \n",
            "\u001b[?25hRequirement already satisfied: jupyter in /usr/local/lib/python3.6/site-packages (from fastai==0.7.0)\n",
            "Requirement already satisfied: ptyprocess in /usr/local/lib/python3.6/site-packages (from fastai==0.7.0)\n",
            "Collecting torchvision (from fastai==0.7.0)\n",
            "  Downloading https://files.pythonhosted.org/packages/ca/0d/f00b2885711e08bd71242ebe7b96561e6f6d01fdb4b9dcf4d37e2e13c5e1/torchvision-0.2.1-py2.py3-none-any.whl (54kB)\n",
            "\u001b[K    100% |████████████████████████████████| 61kB 7.6MB/s \n",
            "\u001b[?25hCollecting torchtext (from fastai==0.7.0)\n",
            "  Downloading https://files.pythonhosted.org/packages/78/90/474d5944d43001a6e72b9aaed5c3e4f77516fbef2317002da2096fd8b5ea/torchtext-0.2.3.tar.gz (42kB)\n",
            "\u001b[K    100% |████████████████████████████████| 51kB 8.6MB/s \n",
            "\u001b[?25hCollecting isoweek (from fastai==0.7.0)\n",
            "  Downloading https://files.pythonhosted.org/packages/c2/d4/fe7e2637975c476734fcbf53776e650a29680194eb0dd21dbdc020ca92de/isoweek-1.3.3-py2.py3-none-any.whl\n",
            "Requirement already satisfied: entrypoints in /usr/local/lib/python3.6/site-packages (from fastai==0.7.0)\n",
            "Requirement already satisfied: cycler in /usr/local/lib/python3.6/site-packages (from fastai==0.7.0)\n",
            "Requirement already satisfied: ipython in /usr/local/lib/python3.6/site-packages (from fastai==0.7.0)\n",
            "Requirement already satisfied: ipywidgets in /usr/local/lib/python3.6/site-packages (from fastai==0.7.0)\n",
            "Requirement already satisfied: PyYAML in /usr/local/lib/python3.6/site-packages (from fastai==0.7.0)\n",
            "Requirement already satisfied: Pygments in /usr/local/lib/python3.6/site-packages (from fastai==0.7.0)\n",
            "Requirement already satisfied: seaborn in /usr/local/lib/python3.6/site-packages (from fastai==0.7.0)\n",
            "Collecting tqdm (from fastai==0.7.0)\n",
            "  Downloading https://files.pythonhosted.org/packages/79/43/19c9fee28110cd47f73e6bc596394337fe9f3e5825b4de402bbf30b3beb5/tqdm-4.26.0-py2.py3-none-any.whl (43kB)\n",
            "\u001b[K    100% |████████████████████████████████| 51kB 8.1MB/s \n",
            "\u001b[?25hRequirement already satisfied: testpath in /usr/local/lib/python3.6/site-packages (from fastai==0.7.0)\n",
            "Requirement already satisfied: bleach in /usr/local/lib/python3.6/site-packages (from fastai==0.7.0)\n",
            "Requirement already satisfied: python-dateutil in /usr/local/lib/python3.6/site-packages (from fastai==0.7.0)\n",
            "Collecting sklearn-pandas (from fastai==0.7.0)\n",
            "  Downloading https://files.pythonhosted.org/packages/7e/9c/c94f46b40b86d2c77c46c4c1b858fc66c117b4390665eca28f2e0812db45/sklearn_pandas-1.7.0-py2.py3-none-any.whl\n",
            "Collecting torch<0.4 (from fastai==0.7.0)\n",
            "  Downloading https://files.pythonhosted.org/packages/5b/a5/e8b50b55b1abac9f1e3346c4242f1e42a82d368a8442cbd50c532922f6c4/torch-0.3.1-cp36-cp36m-manylinux1_x86_64.whl (496.4MB)\n",
            "\u001b[K    100% |████████████████████████████████| 496.4MB 2.4kB/s \n",
            "\u001b[?25hRequirement already satisfied: widgetsnbextension in /usr/local/lib/python3.6/site-packages (from fastai==0.7.0)\n",
            "Requirement already satisfied: ipykernel in /usr/local/lib/python3.6/site-packages (from fastai==0.7.0)\n",
            "Collecting opencv-python (from fastai==0.7.0)\n",
            "  Downloading https://files.pythonhosted.org/packages/18/7f/c836c44ab30074a8486e30f8ea6adc8e6ac02332851ab6cc069e2ac35b84/opencv_python-3.4.3.18-cp36-cp36m-manylinux1_x86_64.whl (25.0MB)\n",
            "\u001b[K    100% |████████████████████████████████| 25.0MB 47kB/s \n",
            "\u001b[?25hRequirement already satisfied: pickleshare in /usr/local/lib/python3.6/site-packages (from fastai==0.7.0)\n",
            "Requirement already satisfied: jsonschema in /usr/local/lib/python3.6/site-packages (from fastai==0.7.0)\n",
            "Requirement already satisfied: decorator in /usr/local/lib/python3.6/site-packages (from fastai==0.7.0)\n",
            "Requirement already satisfied: tornado in /usr/local/lib/python3.6/site-packages (from fastai==0.7.0)\n",
            "Requirement already satisfied: webencodings in /usr/local/lib/python3.6/site-packages (from fastai==0.7.0)\n",
            "Requirement already satisfied: pytz in /usr/local/lib/python3.6/site-packages (from fastai==0.7.0)\n",
            "Requirement already satisfied: numpy in /usr/local/lib/python3.6/site-packages (from fastai==0.7.0)\n",
            "Requirement already satisfied: MarkupSafe in /usr/local/lib/python3.6/site-packages (from fastai==0.7.0)\n",
            "Collecting pandas-summary (from fastai==0.7.0)\n",
            "  Downloading https://files.pythonhosted.org/packages/97/55/ea54109a4e7a8e7342bdf23e9382c858224263d984b0d95610568e564f59/pandas_summary-0.0.5-py2.py3-none-any.whl\n",
            "Requirement already satisfied: wcwidth in /usr/local/lib/python3.6/site-packages (from fastai==0.7.0)\n",
            "Collecting feather-format (from fastai==0.7.0)\n",
            "  Downloading https://files.pythonhosted.org/packages/08/55/940b97cc6f19a19f5dab9efef2f68a0ce43a7632f858b272391f0b851a7e/feather-format-0.4.0.tar.gz\n",
            "Requirement already satisfied: pandas in /usr/local/lib/python3.6/site-packages (from fastai==0.7.0)\n",
            "Requirement already satisfied: scipy in /usr/local/lib/python3.6/site-packages (from fastai==0.7.0)\n",
            "Requirement already satisfied: pyparsing in /usr/local/lib/python3.6/site-packages (from fastai==0.7.0)\n",
            "Requirement already satisfied: matplotlib in /usr/local/lib/python3.6/site-packages (from fastai==0.7.0)\n",
            "Requirement already satisfied: pyzmq in /usr/local/lib/python3.6/site-packages (from fastai==0.7.0)\n",
            "Requirement already satisfied: Jinja2 in /usr/local/lib/python3.6/site-packages (from fastai==0.7.0)\n",
            "Requirement already satisfied: certifi in /usr/local/lib/python3.6/site-packages (from fastai==0.7.0)\n",
            "Requirement already satisfied: ipython-genutils in /usr/local/lib/python3.6/site-packages (from fastai==0.7.0)\n",
            "Collecting graphviz (from fastai==0.7.0)\n",
            "  Downloading https://files.pythonhosted.org/packages/47/87/313cd4ea4f75472826acb74c57f94fc83e04ba93e4ccf35656f6b7f502e2/graphviz-0.9-py2.py3-none-any.whl\n",
            "Requirement already satisfied: Pillow in /usr/local/lib/python3.6/site-packages (from fastai==0.7.0)\n",
            "Requirement already satisfied: html5lib in /usr/local/lib/python3.6/site-packages (from fastai==0.7.0)\n",
            "Requirement already satisfied: jedi in /usr/local/lib/python3.6/site-packages (from fastai==0.7.0)\n",
            "Collecting plotnine (from fastai==0.7.0)\n",
            "  Downloading https://files.pythonhosted.org/packages/fe/49/7af942bc63277dfca6ad397415f4cff60789c56d173b1f7edf0bd30e27e0/plotnine-0.4.0-py2.py3-none-any.whl (3.6MB)\n",
            "\u001b[K    100% |████████████████████████████████| 3.6MB 272kB/s \n",
            "\u001b[?25hRequirement already satisfied: six in /usr/local/lib/python3.6/site-packages (from traitlets->fastai==0.7.0)\n",
            "Requirement already satisfied: notebook in /usr/local/lib/python3.6/site-packages (from jupyter->fastai==0.7.0)\n",
            "Requirement already satisfied: qtconsole in /usr/local/lib/python3.6/site-packages (from jupyter->fastai==0.7.0)\n",
            "Requirement already satisfied: jupyter-console in /usr/local/lib/python3.6/site-packages (from jupyter->fastai==0.7.0)\n",
            "Requirement already satisfied: nbconvert in /usr/local/lib/python3.6/site-packages (from jupyter->fastai==0.7.0)\n",
            "Requirement already satisfied: requests in /usr/local/lib/python3.6/site-packages (from torchtext->fastai==0.7.0)\n",
            "Requirement already satisfied: setuptools>=18.5 in /usr/local/lib/python3.6/site-packages (from ipython->fastai==0.7.0)\n",
            "Requirement already satisfied: prompt_toolkit<2.0.0,>=1.0.4 in /usr/local/lib/python3.6/site-packages (from ipython->fastai==0.7.0)\n",
            "Requirement already satisfied: pexpect in /usr/local/lib/python3.6/site-packages (from ipython->fastai==0.7.0)\n",
            "Requirement already satisfied: nbformat>=4.2.0 in /usr/local/lib/python3.6/site-packages (from ipywidgets->fastai==0.7.0)\n",
            "Requirement already satisfied: scikit-learn>=0.15.0 in /usr/local/lib/python3.6/site-packages (from sklearn-pandas->fastai==0.7.0)\n",
            "Requirement already satisfied: jupyter_client in /usr/local/lib/python3.6/site-packages (from ipykernel->fastai==0.7.0)\n",
            "Collecting pyarrow>=0.4.0 (from feather-format->fastai==0.7.0)\n",
            "  Downloading https://files.pythonhosted.org/packages/c9/b8/076ebd968f3c6d4e9b6e5de696f0b19964a3d4b7dc020fd32db4e868ad74/pyarrow-0.10.0-cp36-cp36m-manylinux1_x86_64.whl (11.6MB)\n",
            "\u001b[K    100% |████████████████████████████████| 11.6MB 92kB/s \n",
            "\u001b[?25hRequirement already satisfied: parso==0.1.* in /usr/local/lib/python3.6/site-packages (from jedi->fastai==0.7.0)\n",
            "Requirement already satisfied: statsmodels>=0.8.0 in /usr/local/lib/python3.6/site-packages (from plotnine->fastai==0.7.0)\n",
            "Requirement already satisfied: patsy>=0.4.1 in /usr/local/lib/python3.6/site-packages (from plotnine->fastai==0.7.0)\n",
            "Collecting descartes>=1.1.0 (from plotnine->fastai==0.7.0)\n",
            "  Downloading https://files.pythonhosted.org/packages/e5/b6/1ed2eb03989ae574584664985367ba70cd9cf8b32ee8cad0e8aaeac819f3/descartes-1.1.0-py3-none-any.whl\n",
            "Collecting mizani>=0.4.5 (from plotnine->fastai==0.7.0)\n",
            "  Downloading https://files.pythonhosted.org/packages/52/01/8a3b4c6e45749674a1e5241174b4b63cd6435125e124bec275f3e02c96ac/mizani-0.4.6-py2.py3-none-any.whl (65kB)\n",
            "\u001b[K    100% |████████████████████████████████| 71kB 10.1MB/s \n",
            "\u001b[?25hCollecting geopandas>=0.3.0 (from plotnine->fastai==0.7.0)\n",
            "  Downloading https://files.pythonhosted.org/packages/24/11/d77c157c16909bd77557d00798b05a5b6615ed60acb5900fbe6a65d35e93/geopandas-0.4.0-py2.py3-none-any.whl (899kB)\n",
            "\u001b[K    100% |████████████████████████████████| 901kB 588kB/s \n",
            "\u001b[?25hRequirement already satisfied: jupyter_core>=4.4.0 in /usr/local/lib/python3.6/site-packages (from notebook->jupyter->fastai==0.7.0)\n",
            "Requirement already satisfied: Send2Trash in /usr/local/lib/python3.6/site-packages (from notebook->jupyter->fastai==0.7.0)\n",
            "Requirement already satisfied: terminado>=0.8.1 in /usr/local/lib/python3.6/site-packages (from notebook->jupyter->fastai==0.7.0)\n",
            "Requirement already satisfied: mistune>=0.7.4 in /usr/local/lib/python3.6/site-packages (from nbconvert->jupyter->fastai==0.7.0)\n",
            "Requirement already satisfied: pandocfilters>=1.4.1 in /usr/local/lib/python3.6/site-packages (from nbconvert->jupyter->fastai==0.7.0)\n",
            "Requirement already satisfied: chardet<3.1.0,>=3.0.2 in /usr/local/lib/python3.6/site-packages (from requests->torchtext->fastai==0.7.0)\n",
            "Requirement already satisfied: idna<2.7,>=2.5 in /usr/local/lib/python3.6/site-packages (from requests->torchtext->fastai==0.7.0)\n",
            "Requirement already satisfied: urllib3<1.23,>=1.21.1 in /usr/local/lib/python3.6/site-packages (from requests->torchtext->fastai==0.7.0)\n",
            "Collecting palettable (from mizani>=0.4.5->plotnine->fastai==0.7.0)\n",
            "  Downloading https://files.pythonhosted.org/packages/56/8a/84537c0354f0d1f03bf644b71bf8e0a50db9c1294181905721a5f3efbf66/palettable-3.1.1-py2.py3-none-any.whl (77kB)\n",
            "\u001b[K    100% |████████████████████████████████| 81kB 7.8MB/s \n",
            "\u001b[?25hCollecting pyproj (from geopandas>=0.3.0->plotnine->fastai==0.7.0)\n",
            "  Downloading https://files.pythonhosted.org/packages/29/72/5c1888c4948a0c7b736d10e0f0f69966e7c0874a660222ed0a2c2c6daa9f/pyproj-1.9.5.1.tar.gz (4.4MB)\n",
            "\u001b[K    100% |████████████████████████████████| 4.4MB 190kB/s \n",
            "\u001b[?25hCollecting shapely (from geopandas>=0.3.0->plotnine->fastai==0.7.0)\n",
            "  Downloading https://files.pythonhosted.org/packages/38/b6/b53f19062afd49bb5abd049aeed36f13bf8d57ef8f3fa07a5203531a0252/Shapely-1.6.4.post2-cp36-cp36m-manylinux1_x86_64.whl (1.5MB)\n",
            "\u001b[K    100% |████████████████████████████████| 1.5MB 424kB/s \n",
            "\u001b[?25hCollecting fiona (from geopandas>=0.3.0->plotnine->fastai==0.7.0)\n",
            "  Downloading https://files.pythonhosted.org/packages/e3/bf/029958f4e3811ce7017fb5805d5203e8bde6c1816b902964acb2dec67863/Fiona-1.7.13-cp36-cp36m-manylinux1_x86_64.whl (15.8MB)\n",
            "\u001b[K    100% |████████████████████████████████| 15.8MB 77kB/s \n",
            "\u001b[?25hCollecting munch (from fiona->geopandas>=0.3.0->plotnine->fastai==0.7.0)\n",
            "  Downloading https://files.pythonhosted.org/packages/68/f4/260ec98ea840757a0da09e0ed8135333d59b8dfebe9752a365b04857660a/munch-2.3.2.tar.gz\n",
            "Collecting click-plugins (from fiona->geopandas>=0.3.0->plotnine->fastai==0.7.0)\n",
            "  Downloading https://files.pythonhosted.org/packages/95/dd/fef84cf1678418f241ef542c0288bdf215bdd3e35f1fe03dc5223a2e80ba/click_plugins-1.0.4-py2.py3-none-any.whl\n",
            "Collecting cligj>=0.4 (from fiona->geopandas>=0.3.0->plotnine->fastai==0.7.0)\n",
            "  Downloading https://files.pythonhosted.org/packages/e4/be/30a58b4b0733850280d01f8bd132591b4668ed5c7046761098d665ac2174/cligj-0.5.0-py3-none-any.whl\n",
            "Requirement already satisfied: click>=3.0 in /usr/local/lib/python3.6/site-packages (from click-plugins->fiona->geopandas>=0.3.0->plotnine->fastai==0.7.0)\n",
            "Building wheels for collected packages: bcolz, torchtext, feather-format, pyproj, munch\n",
            "  Running setup.py bdist_wheel for bcolz ... \u001b[?25l-\b \b\\\b \b|\b \b/\b \b-\b \b\\\b \b|\b \b/\b \b-\b \b\\\b \b|\b \b/\b \b-\b \b\\\b \b|\b \b/\b \b-\b \b\\\b \b|\b \b/\b \b-\b \b\\\b \b|\b \b/\b \b-\b \b\\\b \b|\b \b/\b \b-\b \b\\\b \b|\b \b/\b \b-\b \b\\\b \b|\b \b/\b \b-\b \b\\\b \b|\b \b/\b \b-\b \b\\\b \b|\b \b/\b \b-\b \b\\\b \b|\b \b/\b \b-\b \b\\\b \b|\b \b/\b \b-\b \b\\\b \b|\b \b/\b \b-\b \b\\\b \b|\b \b/\b \b-\b \b\\\b \b|\b \b/\b \b-\b \bdone\n",
            "\u001b[?25h  Stored in directory: /root/.cache/pip/wheels/9f/78/26/fb8c0acb91a100dc8914bf236c4eaa4b207cb876893c40b745\n",
            "  Running setup.py bdist_wheel for torchtext ... \u001b[?25l-\b \bdone\n",
            "\u001b[?25h  Stored in directory: /root/.cache/pip/wheels/42/a6/f4/b267328bde6bb680094a0c173e8e5627ccc99543abded97204\n",
            "  Running setup.py bdist_wheel for feather-format ... \u001b[?25l-\b \bdone\n",
            "\u001b[?25h  Stored in directory: /root/.cache/pip/wheels/85/7d/12/2dfa5c0195f921ac935f5e8f27deada74972edc0ae9988a9c1\n",
            "  Running setup.py bdist_wheel for pyproj ... \u001b[?25l-\b \b\\\b \b|\b \b/\b \b-\b \b\\\b \b|\b \b/\b \b-\b \b\\\b \b|\b \b/\b \b-\b \b\\\b \b|\b \b/\b \b-\b \b\\\b \b|\b \b/\b \b-\b \b\\\b \b|\b \b/\b \b-\b \b\\\b \b|\b \b/\b \b-\b \b\\\b \b|\b \b/\b \b-\b \b\\\b \b|\b \b/\b \b-\b \b\\\b \b|\b \b/\b \b-\b \b\\\b \b|\b \b/\b \b-\b \b\\\b \b|\b \b/\b \b-\b \b\\\b \b|\b \b/\b \b-\b \b\\\b \b|\b \b/\b \b-\b \b\\\b \b|\b \b/\b \b-\b \b\\\b \b|\b \b/\b \b-\b \b\\\b \b|\b \b/\b \b-\b \b\\\b \b|\b \b/\b \b-\b \b\\\b \b|\b \b/\b \b-\b \b\\\b \b|\b \b/\b \b-\b \b\\\b \b|\b \b/\b \b-\b \b\\\b \b|\b \b/\b \b-\b \b\\\b \b|\b \b/\b \b-\b \b\\\b \b|\b \b/\b \b-\b \b\\\b \b|\b \b/\b \b-\b \b\\\b \b|\b \b/\b \b-\b \b\\\b \b|\b \b/\b \b-\b \b\\\b \b|\b \b/\b \b-\b \b\\\b \b|\b \b/\b \b-\b \b\\\b \b|\b \b/\b \b-\b \b\\\b \b|\b \b/\b \bdone\n",
            "\u001b[?25h  Stored in directory: /root/.cache/pip/wheels/89/77/ec/a537585d1022dafde0317dd19d33c4a30d4ee61e19f25ebd8e\n",
            "  Running setup.py bdist_wheel for munch ... \u001b[?25l-\b \bdone\n",
            "\u001b[?25h  Stored in directory: /root/.cache/pip/wheels/db/bf/bc/06a3e1bfe0ab27d2e720ceb3cff3159398d92644c0cec2c125\n",
            "Successfully built bcolz torchtext feather-format pyproj munch\n",
            "Installing collected packages: bcolz, torch, torchvision, tqdm, torchtext, isoweek, sklearn-pandas, opencv-python, pandas-summary, pyarrow, feather-format, graphviz, descartes, palettable, mizani, pyproj, shapely, munch, click-plugins, cligj, fiona, geopandas, plotnine, fastai\n",
            "Successfully installed bcolz-1.2.1 click-plugins-1.0.4 cligj-0.5.0 descartes-1.1.0 fastai-0.7.0 feather-format-0.4.0 fiona-1.7.13 geopandas-0.4.0 graphviz-0.9 isoweek-1.3.3 mizani-0.4.6 munch-2.3.2 opencv-python-3.4.3.18 palettable-3.1.1 pandas-summary-0.0.5 plotnine-0.4.0 pyarrow-0.10.0 pyproj-1.9.5.1 shapely-1.6.4.post2 sklearn-pandas-1.7.0 torch-0.3.1 torchtext-0.2.3 torchvision-0.2.1 tqdm-4.26.0\n",
            "Solving environment: - \b\b\\ \b\b| \b\b/ \b\b- \b\b\\ \b\b| \b\b/ \b\b- \b\b\\ \b\b| \b\b/ \b\b- \b\b\\ \b\b| \b\b/ \b\b- \b\b\\ \b\b| \b\b/ \b\b- \b\b\\ \b\b| \b\b/ \b\b- \b\b\\ \b\b| \b\b/ \b\b- \b\b\\ \b\b| \b\b/ \b\b- \b\b\\ \b\b| \b\b/ \b\b- \b\b\\ \b\b| \b\b/ \b\b- \b\b\\ \b\b| \b\b/ \b\b- \b\b\\ \b\b| \b\b/ \b\b- \b\b\\ \b\b| \b\b/ \b\b- \b\b\\ \b\b| \b\b/ \b\b- \b\b\\ \b\b| \b\b/ \b\b- \b\b\\ \b\b| \b\b/ \b\b- \b\b\\ \b\b| \b\b/ \b\b- \b\b\\ \b\b| \b\b/ \b\b- \b\b\\ \b\b| \b\b/ \b\b- \b\b\\ \b\b| \b\b/ \b\b- \b\b\\ \b\b| \b\b/ \b\b- \b\b\\ \b\b| \b\b/ \b\b- \b\b\\ \b\b| \b\b/ \b\b- \b\b\\ \b\b| \b\b/ \b\b- \b\b\\ \b\b| \b\b/ \b\b- \b\b\\ \b\b| \b\b/ \b\b- \b\b\\ \b\b| \b\b/ \b\b- \b\b\\ \b\b| \b\b/ \b\bdone\n",
            "\n",
            "\n",
            "==> WARNING: A newer version of conda exists. <==\n",
            "  current version: 4.4.10\n",
            "  latest version: 4.5.11\n",
            "\n",
            "Please update conda by running\n",
            "\n",
            "    $ conda update -n base conda\n",
            "\n",
            "\n",
            "\n",
            "## Package Plan ##\n",
            "\n",
            "  environment location: /usr/local\n",
            "\n",
            "  added / updated specs: \n",
            "    - cuda92\n",
            "    - pytorch-nightly\n",
            "\n",
            "\n",
            "The following packages will be downloaded:\n",
            "\n",
            "    package                    |            build\n",
            "    ---------------------------|-----------------\n",
            "    ninja-1.8.2                |   py36h6bb024c_1         1.3 MB\n",
            "    blas-1.0                   |              mkl           6 KB\n",
            "    certifi-2018.8.24          |           py36_1         140 KB\n",
            "    pytorch-nightly-1.0.0.dev20181002|py3.6_cuda9.2.148_cudnn7.1.4_0       465.6 MB  pytorch\n",
            "    openssl-1.0.2p             |       h14c3975_0         3.5 MB\n",
            "    ca-certificates-2018.03.07 |                0         124 KB\n",
            "    numpy-1.14.2               |   py36hdbf6ddf_0         4.0 MB\n",
            "    cuda92-1.0                 |                0           4 KB  pytorch\n",
            "    ------------------------------------------------------------\n",
            "                                           Total:       474.7 MB\n",
            "\n",
            "The following NEW packages will be INSTALLED:\n",
            "\n",
            "    blas:            1.0-mkl                                                 \n",
            "    cuda92:          1.0-0                                            pytorch\n",
            "    ninja:           1.8.2-py36h6bb024c_1                                    \n",
            "    pytorch-nightly: 1.0.0.dev20181002-py3.6_cuda9.2.148_cudnn7.1.4_0 pytorch [cuda92]\n",
            "\n",
            "The following packages will be UPDATED:\n",
            "\n",
            "    ca-certificates: 2017.08.26-h1d4fec5_0                                    --> 2018.03.07-0         \n",
            "    certifi:         2018.1.18-py36_0                                         --> 2018.8.24-py36_1     \n",
            "    numpy:           1.14.0-py36h3dfced4_1                                    --> 1.14.2-py36hdbf6ddf_0\n",
            "    openssl:         1.0.2n-hb7f436b_0                                        --> 1.0.2p-h14c3975_0    \n",
            "\n",
            "\n",
            "Downloading and Extracting Packages\n",
            "ninja 1.8.2: 100% 1.0/1 [00:00<00:00,  1.60it/s] \n",
            "blas 1.0: 100% 1.0/1 [00:00<00:00, 15.52it/s]\n",
            "certifi 2018.8.24: 100% 1.0/1 [00:00<00:00, 14.34it/s]\n",
            "pytorch-nightly 1.0.0.dev20181002: 100% 1.0/1 [02:32<00:00, 180997.08s/it]            \n",
            "openssl 1.0.2p: 100% 1.0/1 [00:02<00:00,  2.41s/it]               \n",
            "ca-certificates 2018.03.07: 100% 1.0/1 [00:00<00:00, 15.63it/s]\n",
            "numpy 1.14.2: 100% 1.0/1 [00:02<00:00,  2.29s/it]               \n",
            "cuda92 1.0: 100% 1.0/1 [00:00<00:00,  4.29it/s] \n",
            "Preparing transaction: \\ \b\b| \b\bdone\n",
            "Verifying transaction: - \b\b\\ \b\b| \b\b/ \b\b- \b\b\\ \b\b| \b\b/ \b\b- \b\b\\ \b\b| \b\b/ \b\b- \b\b\\ \b\b| \b\b/ \b\b- \b\b\\ \b\b| \b\b/ \b\b- \b\b\\ \b\b| \b\b/ \b\b- \b\b\\ \b\b| \b\b/ \b\b- \b\b\\ \b\b| \b\b/ \b\b- \b\b\\ \b\b| \b\b/ \b\b- \b\b\\ \b\b| \b\b/ \b\b- \b\b\\ \b\b| \b\b/ \b\b- \b\b\\ \b\b| \b\b/ \b\b- \b\b\\ \b\bdone\n",
            "Executing transaction: / \b\b- \b\b\\ \b\b| \b\b/ \b\b- \b\b\\ \b\bdone\n"
          ],
          "name": "stdout"
        }
      ]
    },
    {
      "metadata": {
        "id": "o_9ZwPbpd5c0",
        "colab_type": "code",
        "colab": {}
      },
      "cell_type": "code",
      "source": [
        "!mkdir data\n",
        "cd data\n",
        "!mkdir bulldozers\n",
        "cd bulldozers"
      ],
      "execution_count": 0,
      "outputs": []
    },
    {
      "metadata": {
        "id": "eJt0jfbUeTjY",
        "colab_type": "code",
        "colab": {
          "base_uri": "https://localhost:8080/",
          "height": 71
        },
        "outputId": "e6805ba4-ccbb-4dbd-db23-e3eee78eada3"
      },
      "cell_type": "code",
      "source": [
        "!curl <curl Link from browser> -o bulldozers.zip"
      ],
      "execution_count": 15,
      "outputs": [
        {
          "output_type": "stream",
          "text": [
            "  % Total    % Received % Xferd  Average Speed   Time    Time     Time  Current\n",
            "                                 Dload  Upload   Total   Spent    Left  Speed\n",
            "\r  0     0    0     0    0     0      0      0 --:--:-- --:--:-- --:--:--     0\r100 9504k  100 9504k    0     0  53.3M      0 --:--:-- --:--:-- --:--:-- 53.3M\n"
          ],
          "name": "stdout"
        }
      ]
    },
    {
      "metadata": {
        "id": "zQSh2SnWfpuh",
        "colab_type": "code",
        "colab": {
          "base_uri": "https://localhost:8080/",
          "height": 53
        },
        "outputId": "6c3ea731-ed8e-444f-b775-08b5f7d478e1"
      },
      "cell_type": "code",
      "source": [
        "!unzip bulldozers.zip\n",
        "cd ../.."
      ],
      "execution_count": 18,
      "outputs": [
        {
          "output_type": "stream",
          "text": [
            "Archive:  bulldozers.zip\n",
            "  inflating: Train.csv               \n"
          ],
          "name": "stdout"
        }
      ]
    },
    {
      "metadata": {
        "id": "J2WKHM0tgU9L",
        "colab_type": "code",
        "colab": {}
      },
      "cell_type": "code",
      "source": [
        ""
      ],
      "execution_count": 0,
      "outputs": []
    },
    {
      "metadata": {
        "id": "0O3oDga9AkgS",
        "colab_type": "code",
        "colab": {}
      },
      "cell_type": "code",
      "source": [
        "from fastai.imports import *\n",
        "from fastai.structured import *\n",
        "\n",
        "from pandas_summary import DataFrameSummary\n",
        "from sklearn.ensemble import RandomForestRegressor, RandomForestClassifier\n",
        "from IPython.display import display\n",
        "\n",
        "from sklearn import metrics"
      ],
      "execution_count": 0,
      "outputs": []
    },
    {
      "metadata": {
        "id": "FLMcFkMjAkgY",
        "colab_type": "code",
        "colab": {}
      },
      "cell_type": "code",
      "source": [
        "PATH = \"data/bulldozers/\""
      ],
      "execution_count": 0,
      "outputs": []
    },
    {
      "metadata": {
        "id": "IiCIlUaPAkgd",
        "colab_type": "code",
        "colab": {
          "base_uri": "https://localhost:8080/",
          "height": 35
        },
        "outputId": "4392f18d-4bac-4ed4-c5cc-06a8f82b6375"
      },
      "cell_type": "code",
      "source": [
        "!ls {PATH}"
      ],
      "execution_count": 28,
      "outputs": [
        {
          "output_type": "stream",
          "text": [
            "bulldozers.zip\tTrain.csv\n"
          ],
          "name": "stdout"
        }
      ]
    },
    {
      "metadata": {
        "id": "bmvZts-tAkgi",
        "colab_type": "text"
      },
      "cell_type": "markdown",
      "source": [
        "# Introduction to *Blue Book for Bulldozers*"
      ]
    },
    {
      "metadata": {
        "id": "4OiIXlXeAkgi",
        "colab_type": "text"
      },
      "cell_type": "markdown",
      "source": [
        "## About..."
      ]
    },
    {
      "metadata": {
        "id": "XJjdlcw0Akgk",
        "colab_type": "text"
      },
      "cell_type": "markdown",
      "source": [
        "### ...our teaching"
      ]
    },
    {
      "metadata": {
        "id": "48parVFtAkgl",
        "colab_type": "text"
      },
      "cell_type": "markdown",
      "source": [
        "At fast.ai we have a distinctive [teaching philosophy](http://www.fast.ai/2016/10/08/teaching-philosophy/) of [\"the whole game\"](https://www.amazon.com/Making-Learning-Whole-Principles-Transform/dp/0470633719/ref=sr_1_1?ie=UTF8&qid=1505094653).  This is different from how most traditional math & technical courses are taught, where you have to learn all the individual elements before you can combine them (Harvard professor David Perkins call this *elementitis*), but it is similar to how topics like *driving* and *baseball* are taught.  That is, you can start driving without [knowing how an internal combustion engine works](https://medium.com/towards-data-science/thoughts-after-taking-the-deeplearning-ai-courses-8568f132153), and children begin playing baseball before they learn all the formal rules."
      ]
    },
    {
      "metadata": {
        "id": "ggIdRDETAkgm",
        "colab_type": "text"
      },
      "cell_type": "markdown",
      "source": [
        "### ...our approach to machine learning"
      ]
    },
    {
      "metadata": {
        "id": "SQHYuckMAkgn",
        "colab_type": "text"
      },
      "cell_type": "markdown",
      "source": [
        "Most machine learning courses will throw at you dozens of different algorithms, with a brief technical description of the math behind them, and maybe a toy example. You're left confused by the enormous range of techniques shown and have little practical understanding of how to apply them.\n",
        "\n",
        "The good news is that modern machine learning can be distilled down to a couple of key techniques that are of very wide applicability. Recent studies have shown that the vast majority of datasets can be best modeled with just two methods:\n",
        "\n",
        "- *Ensembles of decision trees* (i.e. Random Forests and Gradient Boosting Machines), mainly for structured data (such as you might find in a database table at most companies)\n",
        "- *Multi-layered neural networks learnt with SGD* (i.e. shallow and/or deep learning), mainly for unstructured data (such as audio, vision, and natural language)\n",
        "\n",
        "In this course we'll be doing a deep dive into random forests, and simple models learnt with SGD. You'll be learning about gradient boosting and deep learning in part 2."
      ]
    },
    {
      "metadata": {
        "id": "OtrOCKKEAkgo",
        "colab_type": "text"
      },
      "cell_type": "markdown",
      "source": [
        "### ...this dataset"
      ]
    },
    {
      "metadata": {
        "id": "FTdE2r2MAkgp",
        "colab_type": "text"
      },
      "cell_type": "markdown",
      "source": [
        "We will be looking at the Blue Book for Bulldozers Kaggle Competition: \"The goal of the contest is to predict the sale price of a particular piece of heavy equiment at auction based on it's usage, equipment type, and configuaration.  The data is sourced from auction result postings and includes information on usage and equipment configurations.\"\n",
        "\n",
        "This is a very common type of dataset and prediciton problem, and similar to what you may see in your project or workplace."
      ]
    },
    {
      "metadata": {
        "id": "j29FwhI6Akgq",
        "colab_type": "text"
      },
      "cell_type": "markdown",
      "source": [
        "### ...Kaggle Competitions"
      ]
    },
    {
      "metadata": {
        "id": "i0UfAuCyAkgr",
        "colab_type": "text"
      },
      "cell_type": "markdown",
      "source": [
        "Kaggle is an awesome resource for aspiring data scientists or anyone looking to improve their machine learning skills.  There is nothing like being able to get hands-on practice and receiving real-time feedback to help you improve your skills.\n",
        "\n",
        "Kaggle provides:\n",
        "\n",
        "1. Interesting data sets\n",
        "2. Feedback on how you're doing\n",
        "3. A leader board to see what's good, what's possible, and what's state-of-art.\n",
        "4. Blog posts by winning contestants share useful tips and techniques."
      ]
    },
    {
      "metadata": {
        "id": "x2vpg8hKAkgt",
        "colab_type": "text"
      },
      "cell_type": "markdown",
      "source": [
        "## The data"
      ]
    },
    {
      "metadata": {
        "id": "WQ3-_WaoAkgu",
        "colab_type": "text"
      },
      "cell_type": "markdown",
      "source": [
        "### Look at the data"
      ]
    },
    {
      "metadata": {
        "id": "eRxGvoHLAkgv",
        "colab_type": "text"
      },
      "cell_type": "markdown",
      "source": [
        "Kaggle provides info about some of the fields of our dataset; on the [Kaggle Data info](https://www.kaggle.com/c/bluebook-for-bulldozers/data) page they say the following:\n",
        "\n",
        "For this competition, you are predicting the sale price of bulldozers sold at auctions. The data for this competition is split into three parts:\n",
        "\n",
        "- **Train.csv** is the training set, which contains data through the end of 2011.\n",
        "- **Valid.csv** is the validation set, which contains data from January 1, 2012 - April 30, 2012 You make predictions on this set throughout the majority of the competition. Your score on this set is used to create the public leaderboard.\n",
        "- **Test.csv** is the test set, which won't be released until the last week of the competition. It contains data from May 1, 2012 - November 2012. Your score on the test set determines your final rank for the competition.\n",
        "\n",
        "The key fields are in train.csv are:\n",
        "\n",
        "- SalesID: the uniue identifier of the sale\n",
        "- MachineID: the unique identifier of a machine.  A machine can be sold multiple times\n",
        "- saleprice: what the machine sold for at auction (only provided in train.csv)\n",
        "- saledate: the date of the sale"
      ]
    },
    {
      "metadata": {
        "id": "VLs0NN8lAkgw",
        "colab_type": "text"
      },
      "cell_type": "markdown",
      "source": [
        "*Question*\n",
        "\n",
        "What stands out to you from the above description?  What needs to be true of our training and validation sets?"
      ]
    },
    {
      "metadata": {
        "id": "sHDc08h0Akgx",
        "colab_type": "code",
        "colab": {}
      },
      "cell_type": "code",
      "source": [
        "df_raw = pd.read_csv(f'{PATH}Train.csv', low_memory=False, \n",
        "                     parse_dates=[\"saledate\"])"
      ],
      "execution_count": 0,
      "outputs": []
    },
    {
      "metadata": {
        "id": "W6Q8j1syAkg0",
        "colab_type": "text"
      },
      "cell_type": "markdown",
      "source": [
        "In any sort of data science work, it's **important to look at your data**, to make sure you understand the format, how it's stored, what type of values it holds, etc. Even if you've read descriptions about your data, the actual data may not be what you expect."
      ]
    },
    {
      "metadata": {
        "id": "2xE4EctNAkg1",
        "colab_type": "code",
        "colab": {}
      },
      "cell_type": "code",
      "source": [
        "def display_all(df):\n",
        "    with pd.option_context(\"display.max_rows\", 1000, \"display.max_columns\", 1000): \n",
        "        display(df)"
      ],
      "execution_count": 0,
      "outputs": []
    },
    {
      "metadata": {
        "id": "gxb5HkaPAkg5",
        "colab_type": "code",
        "colab": {
          "base_uri": "https://localhost:8080/",
          "height": 1709
        },
        "outputId": "a8f68eb4-5662-49b8-9ab0-1d09202d731d"
      },
      "cell_type": "code",
      "source": [
        "display_all(df_raw.tail().T)"
      ],
      "execution_count": 31,
      "outputs": [
        {
          "output_type": "display_data",
          "data": {
            "text/html": [
              "<div>\n",
              "<style scoped>\n",
              "    .dataframe tbody tr th:only-of-type {\n",
              "        vertical-align: middle;\n",
              "    }\n",
              "\n",
              "    .dataframe tbody tr th {\n",
              "        vertical-align: top;\n",
              "    }\n",
              "\n",
              "    .dataframe thead th {\n",
              "        text-align: right;\n",
              "    }\n",
              "</style>\n",
              "<table border=\"1\" class=\"dataframe\">\n",
              "  <thead>\n",
              "    <tr style=\"text-align: right;\">\n",
              "      <th></th>\n",
              "      <th>401120</th>\n",
              "      <th>401121</th>\n",
              "      <th>401122</th>\n",
              "      <th>401123</th>\n",
              "      <th>401124</th>\n",
              "    </tr>\n",
              "  </thead>\n",
              "  <tbody>\n",
              "    <tr>\n",
              "      <th>SalesID</th>\n",
              "      <td>6333336</td>\n",
              "      <td>6333337</td>\n",
              "      <td>6333338</td>\n",
              "      <td>6333341</td>\n",
              "      <td>6333342</td>\n",
              "    </tr>\n",
              "    <tr>\n",
              "      <th>SalePrice</th>\n",
              "      <td>10500</td>\n",
              "      <td>11000</td>\n",
              "      <td>11500</td>\n",
              "      <td>9000</td>\n",
              "      <td>7750</td>\n",
              "    </tr>\n",
              "    <tr>\n",
              "      <th>MachineID</th>\n",
              "      <td>1840702</td>\n",
              "      <td>1830472</td>\n",
              "      <td>1887659</td>\n",
              "      <td>1903570</td>\n",
              "      <td>1926965</td>\n",
              "    </tr>\n",
              "    <tr>\n",
              "      <th>ModelID</th>\n",
              "      <td>21439</td>\n",
              "      <td>21439</td>\n",
              "      <td>21439</td>\n",
              "      <td>21435</td>\n",
              "      <td>21435</td>\n",
              "    </tr>\n",
              "    <tr>\n",
              "      <th>datasource</th>\n",
              "      <td>149</td>\n",
              "      <td>149</td>\n",
              "      <td>149</td>\n",
              "      <td>149</td>\n",
              "      <td>149</td>\n",
              "    </tr>\n",
              "    <tr>\n",
              "      <th>auctioneerID</th>\n",
              "      <td>1</td>\n",
              "      <td>1</td>\n",
              "      <td>1</td>\n",
              "      <td>2</td>\n",
              "      <td>2</td>\n",
              "    </tr>\n",
              "    <tr>\n",
              "      <th>YearMade</th>\n",
              "      <td>2005</td>\n",
              "      <td>2005</td>\n",
              "      <td>2005</td>\n",
              "      <td>2005</td>\n",
              "      <td>2005</td>\n",
              "    </tr>\n",
              "    <tr>\n",
              "      <th>MachineHoursCurrentMeter</th>\n",
              "      <td>NaN</td>\n",
              "      <td>NaN</td>\n",
              "      <td>NaN</td>\n",
              "      <td>NaN</td>\n",
              "      <td>NaN</td>\n",
              "    </tr>\n",
              "    <tr>\n",
              "      <th>UsageBand</th>\n",
              "      <td>NaN</td>\n",
              "      <td>NaN</td>\n",
              "      <td>NaN</td>\n",
              "      <td>NaN</td>\n",
              "      <td>NaN</td>\n",
              "    </tr>\n",
              "    <tr>\n",
              "      <th>saledate</th>\n",
              "      <td>2011-11-02 00:00:00</td>\n",
              "      <td>2011-11-02 00:00:00</td>\n",
              "      <td>2011-11-02 00:00:00</td>\n",
              "      <td>2011-10-25 00:00:00</td>\n",
              "      <td>2011-10-25 00:00:00</td>\n",
              "    </tr>\n",
              "    <tr>\n",
              "      <th>fiModelDesc</th>\n",
              "      <td>35NX2</td>\n",
              "      <td>35NX2</td>\n",
              "      <td>35NX2</td>\n",
              "      <td>30NX</td>\n",
              "      <td>30NX</td>\n",
              "    </tr>\n",
              "    <tr>\n",
              "      <th>fiBaseModel</th>\n",
              "      <td>35</td>\n",
              "      <td>35</td>\n",
              "      <td>35</td>\n",
              "      <td>30</td>\n",
              "      <td>30</td>\n",
              "    </tr>\n",
              "    <tr>\n",
              "      <th>fiSecondaryDesc</th>\n",
              "      <td>NX</td>\n",
              "      <td>NX</td>\n",
              "      <td>NX</td>\n",
              "      <td>NX</td>\n",
              "      <td>NX</td>\n",
              "    </tr>\n",
              "    <tr>\n",
              "      <th>fiModelSeries</th>\n",
              "      <td>2</td>\n",
              "      <td>2</td>\n",
              "      <td>2</td>\n",
              "      <td>NaN</td>\n",
              "      <td>NaN</td>\n",
              "    </tr>\n",
              "    <tr>\n",
              "      <th>fiModelDescriptor</th>\n",
              "      <td>NaN</td>\n",
              "      <td>NaN</td>\n",
              "      <td>NaN</td>\n",
              "      <td>NaN</td>\n",
              "      <td>NaN</td>\n",
              "    </tr>\n",
              "    <tr>\n",
              "      <th>ProductSize</th>\n",
              "      <td>Mini</td>\n",
              "      <td>Mini</td>\n",
              "      <td>Mini</td>\n",
              "      <td>Mini</td>\n",
              "      <td>Mini</td>\n",
              "    </tr>\n",
              "    <tr>\n",
              "      <th>fiProductClassDesc</th>\n",
              "      <td>Hydraulic Excavator, Track - 3.0 to 4.0 Metric...</td>\n",
              "      <td>Hydraulic Excavator, Track - 3.0 to 4.0 Metric...</td>\n",
              "      <td>Hydraulic Excavator, Track - 3.0 to 4.0 Metric...</td>\n",
              "      <td>Hydraulic Excavator, Track - 2.0 to 3.0 Metric...</td>\n",
              "      <td>Hydraulic Excavator, Track - 2.0 to 3.0 Metric...</td>\n",
              "    </tr>\n",
              "    <tr>\n",
              "      <th>state</th>\n",
              "      <td>Maryland</td>\n",
              "      <td>Maryland</td>\n",
              "      <td>Maryland</td>\n",
              "      <td>Florida</td>\n",
              "      <td>Florida</td>\n",
              "    </tr>\n",
              "    <tr>\n",
              "      <th>ProductGroup</th>\n",
              "      <td>TEX</td>\n",
              "      <td>TEX</td>\n",
              "      <td>TEX</td>\n",
              "      <td>TEX</td>\n",
              "      <td>TEX</td>\n",
              "    </tr>\n",
              "    <tr>\n",
              "      <th>ProductGroupDesc</th>\n",
              "      <td>Track Excavators</td>\n",
              "      <td>Track Excavators</td>\n",
              "      <td>Track Excavators</td>\n",
              "      <td>Track Excavators</td>\n",
              "      <td>Track Excavators</td>\n",
              "    </tr>\n",
              "    <tr>\n",
              "      <th>Drive_System</th>\n",
              "      <td>NaN</td>\n",
              "      <td>NaN</td>\n",
              "      <td>NaN</td>\n",
              "      <td>NaN</td>\n",
              "      <td>NaN</td>\n",
              "    </tr>\n",
              "    <tr>\n",
              "      <th>Enclosure</th>\n",
              "      <td>EROPS</td>\n",
              "      <td>EROPS</td>\n",
              "      <td>EROPS</td>\n",
              "      <td>EROPS</td>\n",
              "      <td>EROPS</td>\n",
              "    </tr>\n",
              "    <tr>\n",
              "      <th>Forks</th>\n",
              "      <td>NaN</td>\n",
              "      <td>NaN</td>\n",
              "      <td>NaN</td>\n",
              "      <td>NaN</td>\n",
              "      <td>NaN</td>\n",
              "    </tr>\n",
              "    <tr>\n",
              "      <th>Pad_Type</th>\n",
              "      <td>NaN</td>\n",
              "      <td>NaN</td>\n",
              "      <td>NaN</td>\n",
              "      <td>NaN</td>\n",
              "      <td>NaN</td>\n",
              "    </tr>\n",
              "    <tr>\n",
              "      <th>Ride_Control</th>\n",
              "      <td>NaN</td>\n",
              "      <td>NaN</td>\n",
              "      <td>NaN</td>\n",
              "      <td>NaN</td>\n",
              "      <td>NaN</td>\n",
              "    </tr>\n",
              "    <tr>\n",
              "      <th>Stick</th>\n",
              "      <td>NaN</td>\n",
              "      <td>NaN</td>\n",
              "      <td>NaN</td>\n",
              "      <td>NaN</td>\n",
              "      <td>NaN</td>\n",
              "    </tr>\n",
              "    <tr>\n",
              "      <th>Transmission</th>\n",
              "      <td>NaN</td>\n",
              "      <td>NaN</td>\n",
              "      <td>NaN</td>\n",
              "      <td>NaN</td>\n",
              "      <td>NaN</td>\n",
              "    </tr>\n",
              "    <tr>\n",
              "      <th>Turbocharged</th>\n",
              "      <td>NaN</td>\n",
              "      <td>NaN</td>\n",
              "      <td>NaN</td>\n",
              "      <td>NaN</td>\n",
              "      <td>NaN</td>\n",
              "    </tr>\n",
              "    <tr>\n",
              "      <th>Blade_Extension</th>\n",
              "      <td>NaN</td>\n",
              "      <td>NaN</td>\n",
              "      <td>NaN</td>\n",
              "      <td>NaN</td>\n",
              "      <td>NaN</td>\n",
              "    </tr>\n",
              "    <tr>\n",
              "      <th>Blade_Width</th>\n",
              "      <td>NaN</td>\n",
              "      <td>NaN</td>\n",
              "      <td>NaN</td>\n",
              "      <td>NaN</td>\n",
              "      <td>NaN</td>\n",
              "    </tr>\n",
              "    <tr>\n",
              "      <th>Enclosure_Type</th>\n",
              "      <td>NaN</td>\n",
              "      <td>NaN</td>\n",
              "      <td>NaN</td>\n",
              "      <td>NaN</td>\n",
              "      <td>NaN</td>\n",
              "    </tr>\n",
              "    <tr>\n",
              "      <th>Engine_Horsepower</th>\n",
              "      <td>NaN</td>\n",
              "      <td>NaN</td>\n",
              "      <td>NaN</td>\n",
              "      <td>NaN</td>\n",
              "      <td>NaN</td>\n",
              "    </tr>\n",
              "    <tr>\n",
              "      <th>Hydraulics</th>\n",
              "      <td>Auxiliary</td>\n",
              "      <td>Standard</td>\n",
              "      <td>Auxiliary</td>\n",
              "      <td>Standard</td>\n",
              "      <td>Standard</td>\n",
              "    </tr>\n",
              "    <tr>\n",
              "      <th>Pushblock</th>\n",
              "      <td>NaN</td>\n",
              "      <td>NaN</td>\n",
              "      <td>NaN</td>\n",
              "      <td>NaN</td>\n",
              "      <td>NaN</td>\n",
              "    </tr>\n",
              "    <tr>\n",
              "      <th>Ripper</th>\n",
              "      <td>NaN</td>\n",
              "      <td>NaN</td>\n",
              "      <td>NaN</td>\n",
              "      <td>NaN</td>\n",
              "      <td>NaN</td>\n",
              "    </tr>\n",
              "    <tr>\n",
              "      <th>Scarifier</th>\n",
              "      <td>NaN</td>\n",
              "      <td>NaN</td>\n",
              "      <td>NaN</td>\n",
              "      <td>NaN</td>\n",
              "      <td>NaN</td>\n",
              "    </tr>\n",
              "    <tr>\n",
              "      <th>Tip_Control</th>\n",
              "      <td>NaN</td>\n",
              "      <td>NaN</td>\n",
              "      <td>NaN</td>\n",
              "      <td>NaN</td>\n",
              "      <td>NaN</td>\n",
              "    </tr>\n",
              "    <tr>\n",
              "      <th>Tire_Size</th>\n",
              "      <td>NaN</td>\n",
              "      <td>NaN</td>\n",
              "      <td>NaN</td>\n",
              "      <td>NaN</td>\n",
              "      <td>NaN</td>\n",
              "    </tr>\n",
              "    <tr>\n",
              "      <th>Coupler</th>\n",
              "      <td>None or Unspecified</td>\n",
              "      <td>None or Unspecified</td>\n",
              "      <td>None or Unspecified</td>\n",
              "      <td>None or Unspecified</td>\n",
              "      <td>None or Unspecified</td>\n",
              "    </tr>\n",
              "    <tr>\n",
              "      <th>Coupler_System</th>\n",
              "      <td>NaN</td>\n",
              "      <td>NaN</td>\n",
              "      <td>NaN</td>\n",
              "      <td>NaN</td>\n",
              "      <td>NaN</td>\n",
              "    </tr>\n",
              "    <tr>\n",
              "      <th>Grouser_Tracks</th>\n",
              "      <td>NaN</td>\n",
              "      <td>NaN</td>\n",
              "      <td>NaN</td>\n",
              "      <td>NaN</td>\n",
              "      <td>NaN</td>\n",
              "    </tr>\n",
              "    <tr>\n",
              "      <th>Hydraulics_Flow</th>\n",
              "      <td>NaN</td>\n",
              "      <td>NaN</td>\n",
              "      <td>NaN</td>\n",
              "      <td>NaN</td>\n",
              "      <td>NaN</td>\n",
              "    </tr>\n",
              "    <tr>\n",
              "      <th>Track_Type</th>\n",
              "      <td>Steel</td>\n",
              "      <td>Steel</td>\n",
              "      <td>Steel</td>\n",
              "      <td>Steel</td>\n",
              "      <td>Steel</td>\n",
              "    </tr>\n",
              "    <tr>\n",
              "      <th>Undercarriage_Pad_Width</th>\n",
              "      <td>None or Unspecified</td>\n",
              "      <td>None or Unspecified</td>\n",
              "      <td>None or Unspecified</td>\n",
              "      <td>None or Unspecified</td>\n",
              "      <td>None or Unspecified</td>\n",
              "    </tr>\n",
              "    <tr>\n",
              "      <th>Stick_Length</th>\n",
              "      <td>None or Unspecified</td>\n",
              "      <td>None or Unspecified</td>\n",
              "      <td>None or Unspecified</td>\n",
              "      <td>None or Unspecified</td>\n",
              "      <td>None or Unspecified</td>\n",
              "    </tr>\n",
              "    <tr>\n",
              "      <th>Thumb</th>\n",
              "      <td>None or Unspecified</td>\n",
              "      <td>None or Unspecified</td>\n",
              "      <td>None or Unspecified</td>\n",
              "      <td>None or Unspecified</td>\n",
              "      <td>None or Unspecified</td>\n",
              "    </tr>\n",
              "    <tr>\n",
              "      <th>Pattern_Changer</th>\n",
              "      <td>None or Unspecified</td>\n",
              "      <td>None or Unspecified</td>\n",
              "      <td>None or Unspecified</td>\n",
              "      <td>None or Unspecified</td>\n",
              "      <td>None or Unspecified</td>\n",
              "    </tr>\n",
              "    <tr>\n",
              "      <th>Grouser_Type</th>\n",
              "      <td>Double</td>\n",
              "      <td>Double</td>\n",
              "      <td>Double</td>\n",
              "      <td>Double</td>\n",
              "      <td>Double</td>\n",
              "    </tr>\n",
              "    <tr>\n",
              "      <th>Backhoe_Mounting</th>\n",
              "      <td>NaN</td>\n",
              "      <td>NaN</td>\n",
              "      <td>NaN</td>\n",
              "      <td>NaN</td>\n",
              "      <td>NaN</td>\n",
              "    </tr>\n",
              "    <tr>\n",
              "      <th>Blade_Type</th>\n",
              "      <td>NaN</td>\n",
              "      <td>NaN</td>\n",
              "      <td>NaN</td>\n",
              "      <td>NaN</td>\n",
              "      <td>NaN</td>\n",
              "    </tr>\n",
              "    <tr>\n",
              "      <th>Travel_Controls</th>\n",
              "      <td>NaN</td>\n",
              "      <td>NaN</td>\n",
              "      <td>NaN</td>\n",
              "      <td>NaN</td>\n",
              "      <td>NaN</td>\n",
              "    </tr>\n",
              "    <tr>\n",
              "      <th>Differential_Type</th>\n",
              "      <td>NaN</td>\n",
              "      <td>NaN</td>\n",
              "      <td>NaN</td>\n",
              "      <td>NaN</td>\n",
              "      <td>NaN</td>\n",
              "    </tr>\n",
              "    <tr>\n",
              "      <th>Steering_Controls</th>\n",
              "      <td>NaN</td>\n",
              "      <td>NaN</td>\n",
              "      <td>NaN</td>\n",
              "      <td>NaN</td>\n",
              "      <td>NaN</td>\n",
              "    </tr>\n",
              "  </tbody>\n",
              "</table>\n",
              "</div>"
            ],
            "text/plain": [
              "                                                                     401120  \\\n",
              "SalesID                                                             6333336   \n",
              "SalePrice                                                             10500   \n",
              "MachineID                                                           1840702   \n",
              "ModelID                                                               21439   \n",
              "datasource                                                              149   \n",
              "auctioneerID                                                              1   \n",
              "YearMade                                                               2005   \n",
              "MachineHoursCurrentMeter                                                NaN   \n",
              "UsageBand                                                               NaN   \n",
              "saledate                                                2011-11-02 00:00:00   \n",
              "fiModelDesc                                                           35NX2   \n",
              "fiBaseModel                                                              35   \n",
              "fiSecondaryDesc                                                          NX   \n",
              "fiModelSeries                                                             2   \n",
              "fiModelDescriptor                                                       NaN   \n",
              "ProductSize                                                            Mini   \n",
              "fiProductClassDesc        Hydraulic Excavator, Track - 3.0 to 4.0 Metric...   \n",
              "state                                                              Maryland   \n",
              "ProductGroup                                                            TEX   \n",
              "ProductGroupDesc                                           Track Excavators   \n",
              "Drive_System                                                            NaN   \n",
              "Enclosure                                                             EROPS   \n",
              "Forks                                                                   NaN   \n",
              "Pad_Type                                                                NaN   \n",
              "Ride_Control                                                            NaN   \n",
              "Stick                                                                   NaN   \n",
              "Transmission                                                            NaN   \n",
              "Turbocharged                                                            NaN   \n",
              "Blade_Extension                                                         NaN   \n",
              "Blade_Width                                                             NaN   \n",
              "Enclosure_Type                                                          NaN   \n",
              "Engine_Horsepower                                                       NaN   \n",
              "Hydraulics                                                        Auxiliary   \n",
              "Pushblock                                                               NaN   \n",
              "Ripper                                                                  NaN   \n",
              "Scarifier                                                               NaN   \n",
              "Tip_Control                                                             NaN   \n",
              "Tire_Size                                                               NaN   \n",
              "Coupler                                                 None or Unspecified   \n",
              "Coupler_System                                                          NaN   \n",
              "Grouser_Tracks                                                          NaN   \n",
              "Hydraulics_Flow                                                         NaN   \n",
              "Track_Type                                                            Steel   \n",
              "Undercarriage_Pad_Width                                 None or Unspecified   \n",
              "Stick_Length                                            None or Unspecified   \n",
              "Thumb                                                   None or Unspecified   \n",
              "Pattern_Changer                                         None or Unspecified   \n",
              "Grouser_Type                                                         Double   \n",
              "Backhoe_Mounting                                                        NaN   \n",
              "Blade_Type                                                              NaN   \n",
              "Travel_Controls                                                         NaN   \n",
              "Differential_Type                                                       NaN   \n",
              "Steering_Controls                                                       NaN   \n",
              "\n",
              "                                                                     401121  \\\n",
              "SalesID                                                             6333337   \n",
              "SalePrice                                                             11000   \n",
              "MachineID                                                           1830472   \n",
              "ModelID                                                               21439   \n",
              "datasource                                                              149   \n",
              "auctioneerID                                                              1   \n",
              "YearMade                                                               2005   \n",
              "MachineHoursCurrentMeter                                                NaN   \n",
              "UsageBand                                                               NaN   \n",
              "saledate                                                2011-11-02 00:00:00   \n",
              "fiModelDesc                                                           35NX2   \n",
              "fiBaseModel                                                              35   \n",
              "fiSecondaryDesc                                                          NX   \n",
              "fiModelSeries                                                             2   \n",
              "fiModelDescriptor                                                       NaN   \n",
              "ProductSize                                                            Mini   \n",
              "fiProductClassDesc        Hydraulic Excavator, Track - 3.0 to 4.0 Metric...   \n",
              "state                                                              Maryland   \n",
              "ProductGroup                                                            TEX   \n",
              "ProductGroupDesc                                           Track Excavators   \n",
              "Drive_System                                                            NaN   \n",
              "Enclosure                                                             EROPS   \n",
              "Forks                                                                   NaN   \n",
              "Pad_Type                                                                NaN   \n",
              "Ride_Control                                                            NaN   \n",
              "Stick                                                                   NaN   \n",
              "Transmission                                                            NaN   \n",
              "Turbocharged                                                            NaN   \n",
              "Blade_Extension                                                         NaN   \n",
              "Blade_Width                                                             NaN   \n",
              "Enclosure_Type                                                          NaN   \n",
              "Engine_Horsepower                                                       NaN   \n",
              "Hydraulics                                                         Standard   \n",
              "Pushblock                                                               NaN   \n",
              "Ripper                                                                  NaN   \n",
              "Scarifier                                                               NaN   \n",
              "Tip_Control                                                             NaN   \n",
              "Tire_Size                                                               NaN   \n",
              "Coupler                                                 None or Unspecified   \n",
              "Coupler_System                                                          NaN   \n",
              "Grouser_Tracks                                                          NaN   \n",
              "Hydraulics_Flow                                                         NaN   \n",
              "Track_Type                                                            Steel   \n",
              "Undercarriage_Pad_Width                                 None or Unspecified   \n",
              "Stick_Length                                            None or Unspecified   \n",
              "Thumb                                                   None or Unspecified   \n",
              "Pattern_Changer                                         None or Unspecified   \n",
              "Grouser_Type                                                         Double   \n",
              "Backhoe_Mounting                                                        NaN   \n",
              "Blade_Type                                                              NaN   \n",
              "Travel_Controls                                                         NaN   \n",
              "Differential_Type                                                       NaN   \n",
              "Steering_Controls                                                       NaN   \n",
              "\n",
              "                                                                     401122  \\\n",
              "SalesID                                                             6333338   \n",
              "SalePrice                                                             11500   \n",
              "MachineID                                                           1887659   \n",
              "ModelID                                                               21439   \n",
              "datasource                                                              149   \n",
              "auctioneerID                                                              1   \n",
              "YearMade                                                               2005   \n",
              "MachineHoursCurrentMeter                                                NaN   \n",
              "UsageBand                                                               NaN   \n",
              "saledate                                                2011-11-02 00:00:00   \n",
              "fiModelDesc                                                           35NX2   \n",
              "fiBaseModel                                                              35   \n",
              "fiSecondaryDesc                                                          NX   \n",
              "fiModelSeries                                                             2   \n",
              "fiModelDescriptor                                                       NaN   \n",
              "ProductSize                                                            Mini   \n",
              "fiProductClassDesc        Hydraulic Excavator, Track - 3.0 to 4.0 Metric...   \n",
              "state                                                              Maryland   \n",
              "ProductGroup                                                            TEX   \n",
              "ProductGroupDesc                                           Track Excavators   \n",
              "Drive_System                                                            NaN   \n",
              "Enclosure                                                             EROPS   \n",
              "Forks                                                                   NaN   \n",
              "Pad_Type                                                                NaN   \n",
              "Ride_Control                                                            NaN   \n",
              "Stick                                                                   NaN   \n",
              "Transmission                                                            NaN   \n",
              "Turbocharged                                                            NaN   \n",
              "Blade_Extension                                                         NaN   \n",
              "Blade_Width                                                             NaN   \n",
              "Enclosure_Type                                                          NaN   \n",
              "Engine_Horsepower                                                       NaN   \n",
              "Hydraulics                                                        Auxiliary   \n",
              "Pushblock                                                               NaN   \n",
              "Ripper                                                                  NaN   \n",
              "Scarifier                                                               NaN   \n",
              "Tip_Control                                                             NaN   \n",
              "Tire_Size                                                               NaN   \n",
              "Coupler                                                 None or Unspecified   \n",
              "Coupler_System                                                          NaN   \n",
              "Grouser_Tracks                                                          NaN   \n",
              "Hydraulics_Flow                                                         NaN   \n",
              "Track_Type                                                            Steel   \n",
              "Undercarriage_Pad_Width                                 None or Unspecified   \n",
              "Stick_Length                                            None or Unspecified   \n",
              "Thumb                                                   None or Unspecified   \n",
              "Pattern_Changer                                         None or Unspecified   \n",
              "Grouser_Type                                                         Double   \n",
              "Backhoe_Mounting                                                        NaN   \n",
              "Blade_Type                                                              NaN   \n",
              "Travel_Controls                                                         NaN   \n",
              "Differential_Type                                                       NaN   \n",
              "Steering_Controls                                                       NaN   \n",
              "\n",
              "                                                                     401123  \\\n",
              "SalesID                                                             6333341   \n",
              "SalePrice                                                              9000   \n",
              "MachineID                                                           1903570   \n",
              "ModelID                                                               21435   \n",
              "datasource                                                              149   \n",
              "auctioneerID                                                              2   \n",
              "YearMade                                                               2005   \n",
              "MachineHoursCurrentMeter                                                NaN   \n",
              "UsageBand                                                               NaN   \n",
              "saledate                                                2011-10-25 00:00:00   \n",
              "fiModelDesc                                                            30NX   \n",
              "fiBaseModel                                                              30   \n",
              "fiSecondaryDesc                                                          NX   \n",
              "fiModelSeries                                                           NaN   \n",
              "fiModelDescriptor                                                       NaN   \n",
              "ProductSize                                                            Mini   \n",
              "fiProductClassDesc        Hydraulic Excavator, Track - 2.0 to 3.0 Metric...   \n",
              "state                                                               Florida   \n",
              "ProductGroup                                                            TEX   \n",
              "ProductGroupDesc                                           Track Excavators   \n",
              "Drive_System                                                            NaN   \n",
              "Enclosure                                                             EROPS   \n",
              "Forks                                                                   NaN   \n",
              "Pad_Type                                                                NaN   \n",
              "Ride_Control                                                            NaN   \n",
              "Stick                                                                   NaN   \n",
              "Transmission                                                            NaN   \n",
              "Turbocharged                                                            NaN   \n",
              "Blade_Extension                                                         NaN   \n",
              "Blade_Width                                                             NaN   \n",
              "Enclosure_Type                                                          NaN   \n",
              "Engine_Horsepower                                                       NaN   \n",
              "Hydraulics                                                         Standard   \n",
              "Pushblock                                                               NaN   \n",
              "Ripper                                                                  NaN   \n",
              "Scarifier                                                               NaN   \n",
              "Tip_Control                                                             NaN   \n",
              "Tire_Size                                                               NaN   \n",
              "Coupler                                                 None or Unspecified   \n",
              "Coupler_System                                                          NaN   \n",
              "Grouser_Tracks                                                          NaN   \n",
              "Hydraulics_Flow                                                         NaN   \n",
              "Track_Type                                                            Steel   \n",
              "Undercarriage_Pad_Width                                 None or Unspecified   \n",
              "Stick_Length                                            None or Unspecified   \n",
              "Thumb                                                   None or Unspecified   \n",
              "Pattern_Changer                                         None or Unspecified   \n",
              "Grouser_Type                                                         Double   \n",
              "Backhoe_Mounting                                                        NaN   \n",
              "Blade_Type                                                              NaN   \n",
              "Travel_Controls                                                         NaN   \n",
              "Differential_Type                                                       NaN   \n",
              "Steering_Controls                                                       NaN   \n",
              "\n",
              "                                                                     401124  \n",
              "SalesID                                                             6333342  \n",
              "SalePrice                                                              7750  \n",
              "MachineID                                                           1926965  \n",
              "ModelID                                                               21435  \n",
              "datasource                                                              149  \n",
              "auctioneerID                                                              2  \n",
              "YearMade                                                               2005  \n",
              "MachineHoursCurrentMeter                                                NaN  \n",
              "UsageBand                                                               NaN  \n",
              "saledate                                                2011-10-25 00:00:00  \n",
              "fiModelDesc                                                            30NX  \n",
              "fiBaseModel                                                              30  \n",
              "fiSecondaryDesc                                                          NX  \n",
              "fiModelSeries                                                           NaN  \n",
              "fiModelDescriptor                                                       NaN  \n",
              "ProductSize                                                            Mini  \n",
              "fiProductClassDesc        Hydraulic Excavator, Track - 2.0 to 3.0 Metric...  \n",
              "state                                                               Florida  \n",
              "ProductGroup                                                            TEX  \n",
              "ProductGroupDesc                                           Track Excavators  \n",
              "Drive_System                                                            NaN  \n",
              "Enclosure                                                             EROPS  \n",
              "Forks                                                                   NaN  \n",
              "Pad_Type                                                                NaN  \n",
              "Ride_Control                                                            NaN  \n",
              "Stick                                                                   NaN  \n",
              "Transmission                                                            NaN  \n",
              "Turbocharged                                                            NaN  \n",
              "Blade_Extension                                                         NaN  \n",
              "Blade_Width                                                             NaN  \n",
              "Enclosure_Type                                                          NaN  \n",
              "Engine_Horsepower                                                       NaN  \n",
              "Hydraulics                                                         Standard  \n",
              "Pushblock                                                               NaN  \n",
              "Ripper                                                                  NaN  \n",
              "Scarifier                                                               NaN  \n",
              "Tip_Control                                                             NaN  \n",
              "Tire_Size                                                               NaN  \n",
              "Coupler                                                 None or Unspecified  \n",
              "Coupler_System                                                          NaN  \n",
              "Grouser_Tracks                                                          NaN  \n",
              "Hydraulics_Flow                                                         NaN  \n",
              "Track_Type                                                            Steel  \n",
              "Undercarriage_Pad_Width                                 None or Unspecified  \n",
              "Stick_Length                                            None or Unspecified  \n",
              "Thumb                                                   None or Unspecified  \n",
              "Pattern_Changer                                         None or Unspecified  \n",
              "Grouser_Type                                                         Double  \n",
              "Backhoe_Mounting                                                        NaN  \n",
              "Blade_Type                                                              NaN  \n",
              "Travel_Controls                                                         NaN  \n",
              "Differential_Type                                                       NaN  \n",
              "Steering_Controls                                                       NaN  "
            ]
          },
          "metadata": {
            "tags": []
          }
        }
      ]
    },
    {
      "metadata": {
        "id": "ybSZBbbFAkhD",
        "colab_type": "code",
        "colab": {},
        "outputId": "9dfd7187-c18f-4753-c008-2e385ac58d71"
      },
      "cell_type": "code",
      "source": [
        "display_all(df_raw.describe(include='all').T)"
      ],
      "execution_count": 0,
      "outputs": [
        {
          "output_type": "display_data",
          "data": {
            "text/html": [
              "<div>\n",
              "<style scoped>\n",
              "    .dataframe tbody tr th:only-of-type {\n",
              "        vertical-align: middle;\n",
              "    }\n",
              "\n",
              "    .dataframe tbody tr th {\n",
              "        vertical-align: top;\n",
              "    }\n",
              "\n",
              "    .dataframe thead th {\n",
              "        text-align: right;\n",
              "    }\n",
              "</style>\n",
              "<table border=\"1\" class=\"dataframe\">\n",
              "  <thead>\n",
              "    <tr style=\"text-align: right;\">\n",
              "      <th></th>\n",
              "      <th>count</th>\n",
              "      <th>unique</th>\n",
              "      <th>top</th>\n",
              "      <th>freq</th>\n",
              "      <th>first</th>\n",
              "      <th>last</th>\n",
              "      <th>mean</th>\n",
              "      <th>std</th>\n",
              "      <th>min</th>\n",
              "      <th>25%</th>\n",
              "      <th>50%</th>\n",
              "      <th>75%</th>\n",
              "      <th>max</th>\n",
              "    </tr>\n",
              "  </thead>\n",
              "  <tbody>\n",
              "    <tr>\n",
              "      <th>SalesID</th>\n",
              "      <td>401125</td>\n",
              "      <td>NaN</td>\n",
              "      <td>NaN</td>\n",
              "      <td>NaN</td>\n",
              "      <td>NaN</td>\n",
              "      <td>NaN</td>\n",
              "      <td>1.91971e+06</td>\n",
              "      <td>909021</td>\n",
              "      <td>1.13925e+06</td>\n",
              "      <td>1.41837e+06</td>\n",
              "      <td>1.63942e+06</td>\n",
              "      <td>2.24271e+06</td>\n",
              "      <td>6.33334e+06</td>\n",
              "    </tr>\n",
              "    <tr>\n",
              "      <th>SalePrice</th>\n",
              "      <td>401125</td>\n",
              "      <td>NaN</td>\n",
              "      <td>NaN</td>\n",
              "      <td>NaN</td>\n",
              "      <td>NaN</td>\n",
              "      <td>NaN</td>\n",
              "      <td>31099.7</td>\n",
              "      <td>23036.9</td>\n",
              "      <td>4750</td>\n",
              "      <td>14500</td>\n",
              "      <td>24000</td>\n",
              "      <td>40000</td>\n",
              "      <td>142000</td>\n",
              "    </tr>\n",
              "    <tr>\n",
              "      <th>MachineID</th>\n",
              "      <td>401125</td>\n",
              "      <td>NaN</td>\n",
              "      <td>NaN</td>\n",
              "      <td>NaN</td>\n",
              "      <td>NaN</td>\n",
              "      <td>NaN</td>\n",
              "      <td>1.2179e+06</td>\n",
              "      <td>440992</td>\n",
              "      <td>0</td>\n",
              "      <td>1.0887e+06</td>\n",
              "      <td>1.27949e+06</td>\n",
              "      <td>1.46807e+06</td>\n",
              "      <td>2.48633e+06</td>\n",
              "    </tr>\n",
              "    <tr>\n",
              "      <th>ModelID</th>\n",
              "      <td>401125</td>\n",
              "      <td>NaN</td>\n",
              "      <td>NaN</td>\n",
              "      <td>NaN</td>\n",
              "      <td>NaN</td>\n",
              "      <td>NaN</td>\n",
              "      <td>6889.7</td>\n",
              "      <td>6221.78</td>\n",
              "      <td>28</td>\n",
              "      <td>3259</td>\n",
              "      <td>4604</td>\n",
              "      <td>8724</td>\n",
              "      <td>37198</td>\n",
              "    </tr>\n",
              "    <tr>\n",
              "      <th>datasource</th>\n",
              "      <td>401125</td>\n",
              "      <td>NaN</td>\n",
              "      <td>NaN</td>\n",
              "      <td>NaN</td>\n",
              "      <td>NaN</td>\n",
              "      <td>NaN</td>\n",
              "      <td>134.666</td>\n",
              "      <td>8.96224</td>\n",
              "      <td>121</td>\n",
              "      <td>132</td>\n",
              "      <td>132</td>\n",
              "      <td>136</td>\n",
              "      <td>172</td>\n",
              "    </tr>\n",
              "    <tr>\n",
              "      <th>auctioneerID</th>\n",
              "      <td>380989</td>\n",
              "      <td>NaN</td>\n",
              "      <td>NaN</td>\n",
              "      <td>NaN</td>\n",
              "      <td>NaN</td>\n",
              "      <td>NaN</td>\n",
              "      <td>6.55604</td>\n",
              "      <td>16.9768</td>\n",
              "      <td>0</td>\n",
              "      <td>1</td>\n",
              "      <td>2</td>\n",
              "      <td>4</td>\n",
              "      <td>99</td>\n",
              "    </tr>\n",
              "    <tr>\n",
              "      <th>YearMade</th>\n",
              "      <td>401125</td>\n",
              "      <td>NaN</td>\n",
              "      <td>NaN</td>\n",
              "      <td>NaN</td>\n",
              "      <td>NaN</td>\n",
              "      <td>NaN</td>\n",
              "      <td>1899.16</td>\n",
              "      <td>291.797</td>\n",
              "      <td>1000</td>\n",
              "      <td>1985</td>\n",
              "      <td>1995</td>\n",
              "      <td>2000</td>\n",
              "      <td>2013</td>\n",
              "    </tr>\n",
              "    <tr>\n",
              "      <th>MachineHoursCurrentMeter</th>\n",
              "      <td>142765</td>\n",
              "      <td>NaN</td>\n",
              "      <td>NaN</td>\n",
              "      <td>NaN</td>\n",
              "      <td>NaN</td>\n",
              "      <td>NaN</td>\n",
              "      <td>3457.96</td>\n",
              "      <td>27590.3</td>\n",
              "      <td>0</td>\n",
              "      <td>0</td>\n",
              "      <td>0</td>\n",
              "      <td>3025</td>\n",
              "      <td>2.4833e+06</td>\n",
              "    </tr>\n",
              "    <tr>\n",
              "      <th>UsageBand</th>\n",
              "      <td>69639</td>\n",
              "      <td>3</td>\n",
              "      <td>Medium</td>\n",
              "      <td>33985</td>\n",
              "      <td>NaN</td>\n",
              "      <td>NaN</td>\n",
              "      <td>NaN</td>\n",
              "      <td>NaN</td>\n",
              "      <td>NaN</td>\n",
              "      <td>NaN</td>\n",
              "      <td>NaN</td>\n",
              "      <td>NaN</td>\n",
              "      <td>NaN</td>\n",
              "    </tr>\n",
              "    <tr>\n",
              "      <th>saledate</th>\n",
              "      <td>401125</td>\n",
              "      <td>3919</td>\n",
              "      <td>2009-02-16 00:00:00</td>\n",
              "      <td>1932</td>\n",
              "      <td>1989-01-17 00:00:00</td>\n",
              "      <td>2011-12-30 00:00:00</td>\n",
              "      <td>NaN</td>\n",
              "      <td>NaN</td>\n",
              "      <td>NaN</td>\n",
              "      <td>NaN</td>\n",
              "      <td>NaN</td>\n",
              "      <td>NaN</td>\n",
              "      <td>NaN</td>\n",
              "    </tr>\n",
              "    <tr>\n",
              "      <th>fiModelDesc</th>\n",
              "      <td>401125</td>\n",
              "      <td>4999</td>\n",
              "      <td>310G</td>\n",
              "      <td>5039</td>\n",
              "      <td>NaN</td>\n",
              "      <td>NaN</td>\n",
              "      <td>NaN</td>\n",
              "      <td>NaN</td>\n",
              "      <td>NaN</td>\n",
              "      <td>NaN</td>\n",
              "      <td>NaN</td>\n",
              "      <td>NaN</td>\n",
              "      <td>NaN</td>\n",
              "    </tr>\n",
              "    <tr>\n",
              "      <th>fiBaseModel</th>\n",
              "      <td>401125</td>\n",
              "      <td>1950</td>\n",
              "      <td>580</td>\n",
              "      <td>19798</td>\n",
              "      <td>NaN</td>\n",
              "      <td>NaN</td>\n",
              "      <td>NaN</td>\n",
              "      <td>NaN</td>\n",
              "      <td>NaN</td>\n",
              "      <td>NaN</td>\n",
              "      <td>NaN</td>\n",
              "      <td>NaN</td>\n",
              "      <td>NaN</td>\n",
              "    </tr>\n",
              "    <tr>\n",
              "      <th>fiSecondaryDesc</th>\n",
              "      <td>263934</td>\n",
              "      <td>175</td>\n",
              "      <td>C</td>\n",
              "      <td>43235</td>\n",
              "      <td>NaN</td>\n",
              "      <td>NaN</td>\n",
              "      <td>NaN</td>\n",
              "      <td>NaN</td>\n",
              "      <td>NaN</td>\n",
              "      <td>NaN</td>\n",
              "      <td>NaN</td>\n",
              "      <td>NaN</td>\n",
              "      <td>NaN</td>\n",
              "    </tr>\n",
              "    <tr>\n",
              "      <th>fiModelSeries</th>\n",
              "      <td>56908</td>\n",
              "      <td>122</td>\n",
              "      <td>II</td>\n",
              "      <td>13202</td>\n",
              "      <td>NaN</td>\n",
              "      <td>NaN</td>\n",
              "      <td>NaN</td>\n",
              "      <td>NaN</td>\n",
              "      <td>NaN</td>\n",
              "      <td>NaN</td>\n",
              "      <td>NaN</td>\n",
              "      <td>NaN</td>\n",
              "      <td>NaN</td>\n",
              "    </tr>\n",
              "    <tr>\n",
              "      <th>fiModelDescriptor</th>\n",
              "      <td>71919</td>\n",
              "      <td>139</td>\n",
              "      <td>L</td>\n",
              "      <td>15875</td>\n",
              "      <td>NaN</td>\n",
              "      <td>NaN</td>\n",
              "      <td>NaN</td>\n",
              "      <td>NaN</td>\n",
              "      <td>NaN</td>\n",
              "      <td>NaN</td>\n",
              "      <td>NaN</td>\n",
              "      <td>NaN</td>\n",
              "      <td>NaN</td>\n",
              "    </tr>\n",
              "    <tr>\n",
              "      <th>ProductSize</th>\n",
              "      <td>190350</td>\n",
              "      <td>6</td>\n",
              "      <td>Medium</td>\n",
              "      <td>62274</td>\n",
              "      <td>NaN</td>\n",
              "      <td>NaN</td>\n",
              "      <td>NaN</td>\n",
              "      <td>NaN</td>\n",
              "      <td>NaN</td>\n",
              "      <td>NaN</td>\n",
              "      <td>NaN</td>\n",
              "      <td>NaN</td>\n",
              "      <td>NaN</td>\n",
              "    </tr>\n",
              "    <tr>\n",
              "      <th>fiProductClassDesc</th>\n",
              "      <td>401125</td>\n",
              "      <td>74</td>\n",
              "      <td>Backhoe Loader - 14.0 to 15.0 Ft Standard Digg...</td>\n",
              "      <td>56166</td>\n",
              "      <td>NaN</td>\n",
              "      <td>NaN</td>\n",
              "      <td>NaN</td>\n",
              "      <td>NaN</td>\n",
              "      <td>NaN</td>\n",
              "      <td>NaN</td>\n",
              "      <td>NaN</td>\n",
              "      <td>NaN</td>\n",
              "      <td>NaN</td>\n",
              "    </tr>\n",
              "    <tr>\n",
              "      <th>state</th>\n",
              "      <td>401125</td>\n",
              "      <td>53</td>\n",
              "      <td>Florida</td>\n",
              "      <td>63944</td>\n",
              "      <td>NaN</td>\n",
              "      <td>NaN</td>\n",
              "      <td>NaN</td>\n",
              "      <td>NaN</td>\n",
              "      <td>NaN</td>\n",
              "      <td>NaN</td>\n",
              "      <td>NaN</td>\n",
              "      <td>NaN</td>\n",
              "      <td>NaN</td>\n",
              "    </tr>\n",
              "    <tr>\n",
              "      <th>ProductGroup</th>\n",
              "      <td>401125</td>\n",
              "      <td>6</td>\n",
              "      <td>TEX</td>\n",
              "      <td>101167</td>\n",
              "      <td>NaN</td>\n",
              "      <td>NaN</td>\n",
              "      <td>NaN</td>\n",
              "      <td>NaN</td>\n",
              "      <td>NaN</td>\n",
              "      <td>NaN</td>\n",
              "      <td>NaN</td>\n",
              "      <td>NaN</td>\n",
              "      <td>NaN</td>\n",
              "    </tr>\n",
              "    <tr>\n",
              "      <th>ProductGroupDesc</th>\n",
              "      <td>401125</td>\n",
              "      <td>6</td>\n",
              "      <td>Track Excavators</td>\n",
              "      <td>101167</td>\n",
              "      <td>NaN</td>\n",
              "      <td>NaN</td>\n",
              "      <td>NaN</td>\n",
              "      <td>NaN</td>\n",
              "      <td>NaN</td>\n",
              "      <td>NaN</td>\n",
              "      <td>NaN</td>\n",
              "      <td>NaN</td>\n",
              "      <td>NaN</td>\n",
              "    </tr>\n",
              "    <tr>\n",
              "      <th>Drive_System</th>\n",
              "      <td>104361</td>\n",
              "      <td>4</td>\n",
              "      <td>Two Wheel Drive</td>\n",
              "      <td>46139</td>\n",
              "      <td>NaN</td>\n",
              "      <td>NaN</td>\n",
              "      <td>NaN</td>\n",
              "      <td>NaN</td>\n",
              "      <td>NaN</td>\n",
              "      <td>NaN</td>\n",
              "      <td>NaN</td>\n",
              "      <td>NaN</td>\n",
              "      <td>NaN</td>\n",
              "    </tr>\n",
              "    <tr>\n",
              "      <th>Enclosure</th>\n",
              "      <td>400800</td>\n",
              "      <td>6</td>\n",
              "      <td>OROPS</td>\n",
              "      <td>173932</td>\n",
              "      <td>NaN</td>\n",
              "      <td>NaN</td>\n",
              "      <td>NaN</td>\n",
              "      <td>NaN</td>\n",
              "      <td>NaN</td>\n",
              "      <td>NaN</td>\n",
              "      <td>NaN</td>\n",
              "      <td>NaN</td>\n",
              "      <td>NaN</td>\n",
              "    </tr>\n",
              "    <tr>\n",
              "      <th>Forks</th>\n",
              "      <td>192077</td>\n",
              "      <td>2</td>\n",
              "      <td>None or Unspecified</td>\n",
              "      <td>178300</td>\n",
              "      <td>NaN</td>\n",
              "      <td>NaN</td>\n",
              "      <td>NaN</td>\n",
              "      <td>NaN</td>\n",
              "      <td>NaN</td>\n",
              "      <td>NaN</td>\n",
              "      <td>NaN</td>\n",
              "      <td>NaN</td>\n",
              "      <td>NaN</td>\n",
              "    </tr>\n",
              "    <tr>\n",
              "      <th>Pad_Type</th>\n",
              "      <td>79134</td>\n",
              "      <td>4</td>\n",
              "      <td>None or Unspecified</td>\n",
              "      <td>70614</td>\n",
              "      <td>NaN</td>\n",
              "      <td>NaN</td>\n",
              "      <td>NaN</td>\n",
              "      <td>NaN</td>\n",
              "      <td>NaN</td>\n",
              "      <td>NaN</td>\n",
              "      <td>NaN</td>\n",
              "      <td>NaN</td>\n",
              "      <td>NaN</td>\n",
              "    </tr>\n",
              "    <tr>\n",
              "      <th>Ride_Control</th>\n",
              "      <td>148606</td>\n",
              "      <td>3</td>\n",
              "      <td>No</td>\n",
              "      <td>77685</td>\n",
              "      <td>NaN</td>\n",
              "      <td>NaN</td>\n",
              "      <td>NaN</td>\n",
              "      <td>NaN</td>\n",
              "      <td>NaN</td>\n",
              "      <td>NaN</td>\n",
              "      <td>NaN</td>\n",
              "      <td>NaN</td>\n",
              "      <td>NaN</td>\n",
              "    </tr>\n",
              "    <tr>\n",
              "      <th>Stick</th>\n",
              "      <td>79134</td>\n",
              "      <td>2</td>\n",
              "      <td>Standard</td>\n",
              "      <td>48829</td>\n",
              "      <td>NaN</td>\n",
              "      <td>NaN</td>\n",
              "      <td>NaN</td>\n",
              "      <td>NaN</td>\n",
              "      <td>NaN</td>\n",
              "      <td>NaN</td>\n",
              "      <td>NaN</td>\n",
              "      <td>NaN</td>\n",
              "      <td>NaN</td>\n",
              "    </tr>\n",
              "    <tr>\n",
              "      <th>Transmission</th>\n",
              "      <td>183230</td>\n",
              "      <td>8</td>\n",
              "      <td>Standard</td>\n",
              "      <td>140328</td>\n",
              "      <td>NaN</td>\n",
              "      <td>NaN</td>\n",
              "      <td>NaN</td>\n",
              "      <td>NaN</td>\n",
              "      <td>NaN</td>\n",
              "      <td>NaN</td>\n",
              "      <td>NaN</td>\n",
              "      <td>NaN</td>\n",
              "      <td>NaN</td>\n",
              "    </tr>\n",
              "    <tr>\n",
              "      <th>Turbocharged</th>\n",
              "      <td>79134</td>\n",
              "      <td>2</td>\n",
              "      <td>None or Unspecified</td>\n",
              "      <td>75211</td>\n",
              "      <td>NaN</td>\n",
              "      <td>NaN</td>\n",
              "      <td>NaN</td>\n",
              "      <td>NaN</td>\n",
              "      <td>NaN</td>\n",
              "      <td>NaN</td>\n",
              "      <td>NaN</td>\n",
              "      <td>NaN</td>\n",
              "      <td>NaN</td>\n",
              "    </tr>\n",
              "    <tr>\n",
              "      <th>Blade_Extension</th>\n",
              "      <td>25219</td>\n",
              "      <td>2</td>\n",
              "      <td>None or Unspecified</td>\n",
              "      <td>24692</td>\n",
              "      <td>NaN</td>\n",
              "      <td>NaN</td>\n",
              "      <td>NaN</td>\n",
              "      <td>NaN</td>\n",
              "      <td>NaN</td>\n",
              "      <td>NaN</td>\n",
              "      <td>NaN</td>\n",
              "      <td>NaN</td>\n",
              "      <td>NaN</td>\n",
              "    </tr>\n",
              "    <tr>\n",
              "      <th>Blade_Width</th>\n",
              "      <td>25219</td>\n",
              "      <td>6</td>\n",
              "      <td>14'</td>\n",
              "      <td>9615</td>\n",
              "      <td>NaN</td>\n",
              "      <td>NaN</td>\n",
              "      <td>NaN</td>\n",
              "      <td>NaN</td>\n",
              "      <td>NaN</td>\n",
              "      <td>NaN</td>\n",
              "      <td>NaN</td>\n",
              "      <td>NaN</td>\n",
              "      <td>NaN</td>\n",
              "    </tr>\n",
              "    <tr>\n",
              "      <th>Enclosure_Type</th>\n",
              "      <td>25219</td>\n",
              "      <td>3</td>\n",
              "      <td>None or Unspecified</td>\n",
              "      <td>21923</td>\n",
              "      <td>NaN</td>\n",
              "      <td>NaN</td>\n",
              "      <td>NaN</td>\n",
              "      <td>NaN</td>\n",
              "      <td>NaN</td>\n",
              "      <td>NaN</td>\n",
              "      <td>NaN</td>\n",
              "      <td>NaN</td>\n",
              "      <td>NaN</td>\n",
              "    </tr>\n",
              "    <tr>\n",
              "      <th>Engine_Horsepower</th>\n",
              "      <td>25219</td>\n",
              "      <td>2</td>\n",
              "      <td>No</td>\n",
              "      <td>23937</td>\n",
              "      <td>NaN</td>\n",
              "      <td>NaN</td>\n",
              "      <td>NaN</td>\n",
              "      <td>NaN</td>\n",
              "      <td>NaN</td>\n",
              "      <td>NaN</td>\n",
              "      <td>NaN</td>\n",
              "      <td>NaN</td>\n",
              "      <td>NaN</td>\n",
              "    </tr>\n",
              "    <tr>\n",
              "      <th>Hydraulics</th>\n",
              "      <td>320570</td>\n",
              "      <td>12</td>\n",
              "      <td>2 Valve</td>\n",
              "      <td>141404</td>\n",
              "      <td>NaN</td>\n",
              "      <td>NaN</td>\n",
              "      <td>NaN</td>\n",
              "      <td>NaN</td>\n",
              "      <td>NaN</td>\n",
              "      <td>NaN</td>\n",
              "      <td>NaN</td>\n",
              "      <td>NaN</td>\n",
              "      <td>NaN</td>\n",
              "    </tr>\n",
              "    <tr>\n",
              "      <th>Pushblock</th>\n",
              "      <td>25219</td>\n",
              "      <td>2</td>\n",
              "      <td>None or Unspecified</td>\n",
              "      <td>19463</td>\n",
              "      <td>NaN</td>\n",
              "      <td>NaN</td>\n",
              "      <td>NaN</td>\n",
              "      <td>NaN</td>\n",
              "      <td>NaN</td>\n",
              "      <td>NaN</td>\n",
              "      <td>NaN</td>\n",
              "      <td>NaN</td>\n",
              "      <td>NaN</td>\n",
              "    </tr>\n",
              "    <tr>\n",
              "      <th>Ripper</th>\n",
              "      <td>104137</td>\n",
              "      <td>4</td>\n",
              "      <td>None or Unspecified</td>\n",
              "      <td>83452</td>\n",
              "      <td>NaN</td>\n",
              "      <td>NaN</td>\n",
              "      <td>NaN</td>\n",
              "      <td>NaN</td>\n",
              "      <td>NaN</td>\n",
              "      <td>NaN</td>\n",
              "      <td>NaN</td>\n",
              "      <td>NaN</td>\n",
              "      <td>NaN</td>\n",
              "    </tr>\n",
              "    <tr>\n",
              "      <th>Scarifier</th>\n",
              "      <td>25230</td>\n",
              "      <td>2</td>\n",
              "      <td>None or Unspecified</td>\n",
              "      <td>12719</td>\n",
              "      <td>NaN</td>\n",
              "      <td>NaN</td>\n",
              "      <td>NaN</td>\n",
              "      <td>NaN</td>\n",
              "      <td>NaN</td>\n",
              "      <td>NaN</td>\n",
              "      <td>NaN</td>\n",
              "      <td>NaN</td>\n",
              "      <td>NaN</td>\n",
              "    </tr>\n",
              "    <tr>\n",
              "      <th>Tip_Control</th>\n",
              "      <td>25219</td>\n",
              "      <td>3</td>\n",
              "      <td>None or Unspecified</td>\n",
              "      <td>16207</td>\n",
              "      <td>NaN</td>\n",
              "      <td>NaN</td>\n",
              "      <td>NaN</td>\n",
              "      <td>NaN</td>\n",
              "      <td>NaN</td>\n",
              "      <td>NaN</td>\n",
              "      <td>NaN</td>\n",
              "      <td>NaN</td>\n",
              "      <td>NaN</td>\n",
              "    </tr>\n",
              "    <tr>\n",
              "      <th>Tire_Size</th>\n",
              "      <td>94718</td>\n",
              "      <td>17</td>\n",
              "      <td>None or Unspecified</td>\n",
              "      <td>46339</td>\n",
              "      <td>NaN</td>\n",
              "      <td>NaN</td>\n",
              "      <td>NaN</td>\n",
              "      <td>NaN</td>\n",
              "      <td>NaN</td>\n",
              "      <td>NaN</td>\n",
              "      <td>NaN</td>\n",
              "      <td>NaN</td>\n",
              "      <td>NaN</td>\n",
              "    </tr>\n",
              "    <tr>\n",
              "      <th>Coupler</th>\n",
              "      <td>213952</td>\n",
              "      <td>3</td>\n",
              "      <td>None or Unspecified</td>\n",
              "      <td>184582</td>\n",
              "      <td>NaN</td>\n",
              "      <td>NaN</td>\n",
              "      <td>NaN</td>\n",
              "      <td>NaN</td>\n",
              "      <td>NaN</td>\n",
              "      <td>NaN</td>\n",
              "      <td>NaN</td>\n",
              "      <td>NaN</td>\n",
              "      <td>NaN</td>\n",
              "    </tr>\n",
              "    <tr>\n",
              "      <th>Coupler_System</th>\n",
              "      <td>43458</td>\n",
              "      <td>2</td>\n",
              "      <td>None or Unspecified</td>\n",
              "      <td>40430</td>\n",
              "      <td>NaN</td>\n",
              "      <td>NaN</td>\n",
              "      <td>NaN</td>\n",
              "      <td>NaN</td>\n",
              "      <td>NaN</td>\n",
              "      <td>NaN</td>\n",
              "      <td>NaN</td>\n",
              "      <td>NaN</td>\n",
              "      <td>NaN</td>\n",
              "    </tr>\n",
              "    <tr>\n",
              "      <th>Grouser_Tracks</th>\n",
              "      <td>43362</td>\n",
              "      <td>2</td>\n",
              "      <td>None or Unspecified</td>\n",
              "      <td>40515</td>\n",
              "      <td>NaN</td>\n",
              "      <td>NaN</td>\n",
              "      <td>NaN</td>\n",
              "      <td>NaN</td>\n",
              "      <td>NaN</td>\n",
              "      <td>NaN</td>\n",
              "      <td>NaN</td>\n",
              "      <td>NaN</td>\n",
              "      <td>NaN</td>\n",
              "    </tr>\n",
              "    <tr>\n",
              "      <th>Hydraulics_Flow</th>\n",
              "      <td>43362</td>\n",
              "      <td>3</td>\n",
              "      <td>Standard</td>\n",
              "      <td>42784</td>\n",
              "      <td>NaN</td>\n",
              "      <td>NaN</td>\n",
              "      <td>NaN</td>\n",
              "      <td>NaN</td>\n",
              "      <td>NaN</td>\n",
              "      <td>NaN</td>\n",
              "      <td>NaN</td>\n",
              "      <td>NaN</td>\n",
              "      <td>NaN</td>\n",
              "    </tr>\n",
              "    <tr>\n",
              "      <th>Track_Type</th>\n",
              "      <td>99153</td>\n",
              "      <td>2</td>\n",
              "      <td>Steel</td>\n",
              "      <td>84880</td>\n",
              "      <td>NaN</td>\n",
              "      <td>NaN</td>\n",
              "      <td>NaN</td>\n",
              "      <td>NaN</td>\n",
              "      <td>NaN</td>\n",
              "      <td>NaN</td>\n",
              "      <td>NaN</td>\n",
              "      <td>NaN</td>\n",
              "      <td>NaN</td>\n",
              "    </tr>\n",
              "    <tr>\n",
              "      <th>Undercarriage_Pad_Width</th>\n",
              "      <td>99872</td>\n",
              "      <td>19</td>\n",
              "      <td>None or Unspecified</td>\n",
              "      <td>79651</td>\n",
              "      <td>NaN</td>\n",
              "      <td>NaN</td>\n",
              "      <td>NaN</td>\n",
              "      <td>NaN</td>\n",
              "      <td>NaN</td>\n",
              "      <td>NaN</td>\n",
              "      <td>NaN</td>\n",
              "      <td>NaN</td>\n",
              "      <td>NaN</td>\n",
              "    </tr>\n",
              "    <tr>\n",
              "      <th>Stick_Length</th>\n",
              "      <td>99218</td>\n",
              "      <td>29</td>\n",
              "      <td>None or Unspecified</td>\n",
              "      <td>78820</td>\n",
              "      <td>NaN</td>\n",
              "      <td>NaN</td>\n",
              "      <td>NaN</td>\n",
              "      <td>NaN</td>\n",
              "      <td>NaN</td>\n",
              "      <td>NaN</td>\n",
              "      <td>NaN</td>\n",
              "      <td>NaN</td>\n",
              "      <td>NaN</td>\n",
              "    </tr>\n",
              "    <tr>\n",
              "      <th>Thumb</th>\n",
              "      <td>99288</td>\n",
              "      <td>3</td>\n",
              "      <td>None or Unspecified</td>\n",
              "      <td>83093</td>\n",
              "      <td>NaN</td>\n",
              "      <td>NaN</td>\n",
              "      <td>NaN</td>\n",
              "      <td>NaN</td>\n",
              "      <td>NaN</td>\n",
              "      <td>NaN</td>\n",
              "      <td>NaN</td>\n",
              "      <td>NaN</td>\n",
              "      <td>NaN</td>\n",
              "    </tr>\n",
              "    <tr>\n",
              "      <th>Pattern_Changer</th>\n",
              "      <td>99218</td>\n",
              "      <td>3</td>\n",
              "      <td>None or Unspecified</td>\n",
              "      <td>90255</td>\n",
              "      <td>NaN</td>\n",
              "      <td>NaN</td>\n",
              "      <td>NaN</td>\n",
              "      <td>NaN</td>\n",
              "      <td>NaN</td>\n",
              "      <td>NaN</td>\n",
              "      <td>NaN</td>\n",
              "      <td>NaN</td>\n",
              "      <td>NaN</td>\n",
              "    </tr>\n",
              "    <tr>\n",
              "      <th>Grouser_Type</th>\n",
              "      <td>99153</td>\n",
              "      <td>3</td>\n",
              "      <td>Double</td>\n",
              "      <td>84653</td>\n",
              "      <td>NaN</td>\n",
              "      <td>NaN</td>\n",
              "      <td>NaN</td>\n",
              "      <td>NaN</td>\n",
              "      <td>NaN</td>\n",
              "      <td>NaN</td>\n",
              "      <td>NaN</td>\n",
              "      <td>NaN</td>\n",
              "      <td>NaN</td>\n",
              "    </tr>\n",
              "    <tr>\n",
              "      <th>Backhoe_Mounting</th>\n",
              "      <td>78672</td>\n",
              "      <td>2</td>\n",
              "      <td>None or Unspecified</td>\n",
              "      <td>78652</td>\n",
              "      <td>NaN</td>\n",
              "      <td>NaN</td>\n",
              "      <td>NaN</td>\n",
              "      <td>NaN</td>\n",
              "      <td>NaN</td>\n",
              "      <td>NaN</td>\n",
              "      <td>NaN</td>\n",
              "      <td>NaN</td>\n",
              "      <td>NaN</td>\n",
              "    </tr>\n",
              "    <tr>\n",
              "      <th>Blade_Type</th>\n",
              "      <td>79833</td>\n",
              "      <td>10</td>\n",
              "      <td>PAT</td>\n",
              "      <td>38612</td>\n",
              "      <td>NaN</td>\n",
              "      <td>NaN</td>\n",
              "      <td>NaN</td>\n",
              "      <td>NaN</td>\n",
              "      <td>NaN</td>\n",
              "      <td>NaN</td>\n",
              "      <td>NaN</td>\n",
              "      <td>NaN</td>\n",
              "      <td>NaN</td>\n",
              "    </tr>\n",
              "    <tr>\n",
              "      <th>Travel_Controls</th>\n",
              "      <td>79834</td>\n",
              "      <td>7</td>\n",
              "      <td>None or Unspecified</td>\n",
              "      <td>69923</td>\n",
              "      <td>NaN</td>\n",
              "      <td>NaN</td>\n",
              "      <td>NaN</td>\n",
              "      <td>NaN</td>\n",
              "      <td>NaN</td>\n",
              "      <td>NaN</td>\n",
              "      <td>NaN</td>\n",
              "      <td>NaN</td>\n",
              "      <td>NaN</td>\n",
              "    </tr>\n",
              "    <tr>\n",
              "      <th>Differential_Type</th>\n",
              "      <td>69411</td>\n",
              "      <td>4</td>\n",
              "      <td>Standard</td>\n",
              "      <td>68073</td>\n",
              "      <td>NaN</td>\n",
              "      <td>NaN</td>\n",
              "      <td>NaN</td>\n",
              "      <td>NaN</td>\n",
              "      <td>NaN</td>\n",
              "      <td>NaN</td>\n",
              "      <td>NaN</td>\n",
              "      <td>NaN</td>\n",
              "      <td>NaN</td>\n",
              "    </tr>\n",
              "    <tr>\n",
              "      <th>Steering_Controls</th>\n",
              "      <td>69369</td>\n",
              "      <td>5</td>\n",
              "      <td>Conventional</td>\n",
              "      <td>68679</td>\n",
              "      <td>NaN</td>\n",
              "      <td>NaN</td>\n",
              "      <td>NaN</td>\n",
              "      <td>NaN</td>\n",
              "      <td>NaN</td>\n",
              "      <td>NaN</td>\n",
              "      <td>NaN</td>\n",
              "      <td>NaN</td>\n",
              "      <td>NaN</td>\n",
              "    </tr>\n",
              "  </tbody>\n",
              "</table>\n",
              "</div>"
            ],
            "text/plain": [
              "                           count unique  \\\n",
              "SalesID                   401125    NaN   \n",
              "SalePrice                 401125    NaN   \n",
              "MachineID                 401125    NaN   \n",
              "ModelID                   401125    NaN   \n",
              "datasource                401125    NaN   \n",
              "auctioneerID              380989    NaN   \n",
              "YearMade                  401125    NaN   \n",
              "MachineHoursCurrentMeter  142765    NaN   \n",
              "UsageBand                  69639      3   \n",
              "saledate                  401125   3919   \n",
              "fiModelDesc               401125   4999   \n",
              "fiBaseModel               401125   1950   \n",
              "fiSecondaryDesc           263934    175   \n",
              "fiModelSeries              56908    122   \n",
              "fiModelDescriptor          71919    139   \n",
              "ProductSize               190350      6   \n",
              "fiProductClassDesc        401125     74   \n",
              "state                     401125     53   \n",
              "ProductGroup              401125      6   \n",
              "ProductGroupDesc          401125      6   \n",
              "Drive_System              104361      4   \n",
              "Enclosure                 400800      6   \n",
              "Forks                     192077      2   \n",
              "Pad_Type                   79134      4   \n",
              "Ride_Control              148606      3   \n",
              "Stick                      79134      2   \n",
              "Transmission              183230      8   \n",
              "Turbocharged               79134      2   \n",
              "Blade_Extension            25219      2   \n",
              "Blade_Width                25219      6   \n",
              "Enclosure_Type             25219      3   \n",
              "Engine_Horsepower          25219      2   \n",
              "Hydraulics                320570     12   \n",
              "Pushblock                  25219      2   \n",
              "Ripper                    104137      4   \n",
              "Scarifier                  25230      2   \n",
              "Tip_Control                25219      3   \n",
              "Tire_Size                  94718     17   \n",
              "Coupler                   213952      3   \n",
              "Coupler_System             43458      2   \n",
              "Grouser_Tracks             43362      2   \n",
              "Hydraulics_Flow            43362      3   \n",
              "Track_Type                 99153      2   \n",
              "Undercarriage_Pad_Width    99872     19   \n",
              "Stick_Length               99218     29   \n",
              "Thumb                      99288      3   \n",
              "Pattern_Changer            99218      3   \n",
              "Grouser_Type               99153      3   \n",
              "Backhoe_Mounting           78672      2   \n",
              "Blade_Type                 79833     10   \n",
              "Travel_Controls            79834      7   \n",
              "Differential_Type          69411      4   \n",
              "Steering_Controls          69369      5   \n",
              "\n",
              "                                                                        top  \\\n",
              "SalesID                                                                 NaN   \n",
              "SalePrice                                                               NaN   \n",
              "MachineID                                                               NaN   \n",
              "ModelID                                                                 NaN   \n",
              "datasource                                                              NaN   \n",
              "auctioneerID                                                            NaN   \n",
              "YearMade                                                                NaN   \n",
              "MachineHoursCurrentMeter                                                NaN   \n",
              "UsageBand                                                            Medium   \n",
              "saledate                                                2009-02-16 00:00:00   \n",
              "fiModelDesc                                                            310G   \n",
              "fiBaseModel                                                             580   \n",
              "fiSecondaryDesc                                                           C   \n",
              "fiModelSeries                                                            II   \n",
              "fiModelDescriptor                                                         L   \n",
              "ProductSize                                                          Medium   \n",
              "fiProductClassDesc        Backhoe Loader - 14.0 to 15.0 Ft Standard Digg...   \n",
              "state                                                               Florida   \n",
              "ProductGroup                                                            TEX   \n",
              "ProductGroupDesc                                           Track Excavators   \n",
              "Drive_System                                                Two Wheel Drive   \n",
              "Enclosure                                                             OROPS   \n",
              "Forks                                                   None or Unspecified   \n",
              "Pad_Type                                                None or Unspecified   \n",
              "Ride_Control                                                             No   \n",
              "Stick                                                              Standard   \n",
              "Transmission                                                       Standard   \n",
              "Turbocharged                                            None or Unspecified   \n",
              "Blade_Extension                                         None or Unspecified   \n",
              "Blade_Width                                                             14'   \n",
              "Enclosure_Type                                          None or Unspecified   \n",
              "Engine_Horsepower                                                        No   \n",
              "Hydraulics                                                          2 Valve   \n",
              "Pushblock                                               None or Unspecified   \n",
              "Ripper                                                  None or Unspecified   \n",
              "Scarifier                                               None or Unspecified   \n",
              "Tip_Control                                             None or Unspecified   \n",
              "Tire_Size                                               None or Unspecified   \n",
              "Coupler                                                 None or Unspecified   \n",
              "Coupler_System                                          None or Unspecified   \n",
              "Grouser_Tracks                                          None or Unspecified   \n",
              "Hydraulics_Flow                                                    Standard   \n",
              "Track_Type                                                            Steel   \n",
              "Undercarriage_Pad_Width                                 None or Unspecified   \n",
              "Stick_Length                                            None or Unspecified   \n",
              "Thumb                                                   None or Unspecified   \n",
              "Pattern_Changer                                         None or Unspecified   \n",
              "Grouser_Type                                                         Double   \n",
              "Backhoe_Mounting                                        None or Unspecified   \n",
              "Blade_Type                                                              PAT   \n",
              "Travel_Controls                                         None or Unspecified   \n",
              "Differential_Type                                                  Standard   \n",
              "Steering_Controls                                              Conventional   \n",
              "\n",
              "                            freq                first                 last  \\\n",
              "SalesID                      NaN                  NaN                  NaN   \n",
              "SalePrice                    NaN                  NaN                  NaN   \n",
              "MachineID                    NaN                  NaN                  NaN   \n",
              "ModelID                      NaN                  NaN                  NaN   \n",
              "datasource                   NaN                  NaN                  NaN   \n",
              "auctioneerID                 NaN                  NaN                  NaN   \n",
              "YearMade                     NaN                  NaN                  NaN   \n",
              "MachineHoursCurrentMeter     NaN                  NaN                  NaN   \n",
              "UsageBand                  33985                  NaN                  NaN   \n",
              "saledate                    1932  1989-01-17 00:00:00  2011-12-30 00:00:00   \n",
              "fiModelDesc                 5039                  NaN                  NaN   \n",
              "fiBaseModel                19798                  NaN                  NaN   \n",
              "fiSecondaryDesc            43235                  NaN                  NaN   \n",
              "fiModelSeries              13202                  NaN                  NaN   \n",
              "fiModelDescriptor          15875                  NaN                  NaN   \n",
              "ProductSize                62274                  NaN                  NaN   \n",
              "fiProductClassDesc         56166                  NaN                  NaN   \n",
              "state                      63944                  NaN                  NaN   \n",
              "ProductGroup              101167                  NaN                  NaN   \n",
              "ProductGroupDesc          101167                  NaN                  NaN   \n",
              "Drive_System               46139                  NaN                  NaN   \n",
              "Enclosure                 173932                  NaN                  NaN   \n",
              "Forks                     178300                  NaN                  NaN   \n",
              "Pad_Type                   70614                  NaN                  NaN   \n",
              "Ride_Control               77685                  NaN                  NaN   \n",
              "Stick                      48829                  NaN                  NaN   \n",
              "Transmission              140328                  NaN                  NaN   \n",
              "Turbocharged               75211                  NaN                  NaN   \n",
              "Blade_Extension            24692                  NaN                  NaN   \n",
              "Blade_Width                 9615                  NaN                  NaN   \n",
              "Enclosure_Type             21923                  NaN                  NaN   \n",
              "Engine_Horsepower          23937                  NaN                  NaN   \n",
              "Hydraulics                141404                  NaN                  NaN   \n",
              "Pushblock                  19463                  NaN                  NaN   \n",
              "Ripper                     83452                  NaN                  NaN   \n",
              "Scarifier                  12719                  NaN                  NaN   \n",
              "Tip_Control                16207                  NaN                  NaN   \n",
              "Tire_Size                  46339                  NaN                  NaN   \n",
              "Coupler                   184582                  NaN                  NaN   \n",
              "Coupler_System             40430                  NaN                  NaN   \n",
              "Grouser_Tracks             40515                  NaN                  NaN   \n",
              "Hydraulics_Flow            42784                  NaN                  NaN   \n",
              "Track_Type                 84880                  NaN                  NaN   \n",
              "Undercarriage_Pad_Width    79651                  NaN                  NaN   \n",
              "Stick_Length               78820                  NaN                  NaN   \n",
              "Thumb                      83093                  NaN                  NaN   \n",
              "Pattern_Changer            90255                  NaN                  NaN   \n",
              "Grouser_Type               84653                  NaN                  NaN   \n",
              "Backhoe_Mounting           78652                  NaN                  NaN   \n",
              "Blade_Type                 38612                  NaN                  NaN   \n",
              "Travel_Controls            69923                  NaN                  NaN   \n",
              "Differential_Type          68073                  NaN                  NaN   \n",
              "Steering_Controls          68679                  NaN                  NaN   \n",
              "\n",
              "                                 mean      std          min          25%  \\\n",
              "SalesID                   1.91971e+06   909021  1.13925e+06  1.41837e+06   \n",
              "SalePrice                     31099.7  23036.9         4750        14500   \n",
              "MachineID                  1.2179e+06   440992            0   1.0887e+06   \n",
              "ModelID                        6889.7  6221.78           28         3259   \n",
              "datasource                    134.666  8.96224          121          132   \n",
              "auctioneerID                  6.55604  16.9768            0            1   \n",
              "YearMade                      1899.16  291.797         1000         1985   \n",
              "MachineHoursCurrentMeter      3457.96  27590.3            0            0   \n",
              "UsageBand                         NaN      NaN          NaN          NaN   \n",
              "saledate                          NaN      NaN          NaN          NaN   \n",
              "fiModelDesc                       NaN      NaN          NaN          NaN   \n",
              "fiBaseModel                       NaN      NaN          NaN          NaN   \n",
              "fiSecondaryDesc                   NaN      NaN          NaN          NaN   \n",
              "fiModelSeries                     NaN      NaN          NaN          NaN   \n",
              "fiModelDescriptor                 NaN      NaN          NaN          NaN   \n",
              "ProductSize                       NaN      NaN          NaN          NaN   \n",
              "fiProductClassDesc                NaN      NaN          NaN          NaN   \n",
              "state                             NaN      NaN          NaN          NaN   \n",
              "ProductGroup                      NaN      NaN          NaN          NaN   \n",
              "ProductGroupDesc                  NaN      NaN          NaN          NaN   \n",
              "Drive_System                      NaN      NaN          NaN          NaN   \n",
              "Enclosure                         NaN      NaN          NaN          NaN   \n",
              "Forks                             NaN      NaN          NaN          NaN   \n",
              "Pad_Type                          NaN      NaN          NaN          NaN   \n",
              "Ride_Control                      NaN      NaN          NaN          NaN   \n",
              "Stick                             NaN      NaN          NaN          NaN   \n",
              "Transmission                      NaN      NaN          NaN          NaN   \n",
              "Turbocharged                      NaN      NaN          NaN          NaN   \n",
              "Blade_Extension                   NaN      NaN          NaN          NaN   \n",
              "Blade_Width                       NaN      NaN          NaN          NaN   \n",
              "Enclosure_Type                    NaN      NaN          NaN          NaN   \n",
              "Engine_Horsepower                 NaN      NaN          NaN          NaN   \n",
              "Hydraulics                        NaN      NaN          NaN          NaN   \n",
              "Pushblock                         NaN      NaN          NaN          NaN   \n",
              "Ripper                            NaN      NaN          NaN          NaN   \n",
              "Scarifier                         NaN      NaN          NaN          NaN   \n",
              "Tip_Control                       NaN      NaN          NaN          NaN   \n",
              "Tire_Size                         NaN      NaN          NaN          NaN   \n",
              "Coupler                           NaN      NaN          NaN          NaN   \n",
              "Coupler_System                    NaN      NaN          NaN          NaN   \n",
              "Grouser_Tracks                    NaN      NaN          NaN          NaN   \n",
              "Hydraulics_Flow                   NaN      NaN          NaN          NaN   \n",
              "Track_Type                        NaN      NaN          NaN          NaN   \n",
              "Undercarriage_Pad_Width           NaN      NaN          NaN          NaN   \n",
              "Stick_Length                      NaN      NaN          NaN          NaN   \n",
              "Thumb                             NaN      NaN          NaN          NaN   \n",
              "Pattern_Changer                   NaN      NaN          NaN          NaN   \n",
              "Grouser_Type                      NaN      NaN          NaN          NaN   \n",
              "Backhoe_Mounting                  NaN      NaN          NaN          NaN   \n",
              "Blade_Type                        NaN      NaN          NaN          NaN   \n",
              "Travel_Controls                   NaN      NaN          NaN          NaN   \n",
              "Differential_Type                 NaN      NaN          NaN          NaN   \n",
              "Steering_Controls                 NaN      NaN          NaN          NaN   \n",
              "\n",
              "                                  50%          75%          max  \n",
              "SalesID                   1.63942e+06  2.24271e+06  6.33334e+06  \n",
              "SalePrice                       24000        40000       142000  \n",
              "MachineID                 1.27949e+06  1.46807e+06  2.48633e+06  \n",
              "ModelID                          4604         8724        37198  \n",
              "datasource                        132          136          172  \n",
              "auctioneerID                        2            4           99  \n",
              "YearMade                         1995         2000         2013  \n",
              "MachineHoursCurrentMeter            0         3025   2.4833e+06  \n",
              "UsageBand                         NaN          NaN          NaN  \n",
              "saledate                          NaN          NaN          NaN  \n",
              "fiModelDesc                       NaN          NaN          NaN  \n",
              "fiBaseModel                       NaN          NaN          NaN  \n",
              "fiSecondaryDesc                   NaN          NaN          NaN  \n",
              "fiModelSeries                     NaN          NaN          NaN  \n",
              "fiModelDescriptor                 NaN          NaN          NaN  \n",
              "ProductSize                       NaN          NaN          NaN  \n",
              "fiProductClassDesc                NaN          NaN          NaN  \n",
              "state                             NaN          NaN          NaN  \n",
              "ProductGroup                      NaN          NaN          NaN  \n",
              "ProductGroupDesc                  NaN          NaN          NaN  \n",
              "Drive_System                      NaN          NaN          NaN  \n",
              "Enclosure                         NaN          NaN          NaN  \n",
              "Forks                             NaN          NaN          NaN  \n",
              "Pad_Type                          NaN          NaN          NaN  \n",
              "Ride_Control                      NaN          NaN          NaN  \n",
              "Stick                             NaN          NaN          NaN  \n",
              "Transmission                      NaN          NaN          NaN  \n",
              "Turbocharged                      NaN          NaN          NaN  \n",
              "Blade_Extension                   NaN          NaN          NaN  \n",
              "Blade_Width                       NaN          NaN          NaN  \n",
              "Enclosure_Type                    NaN          NaN          NaN  \n",
              "Engine_Horsepower                 NaN          NaN          NaN  \n",
              "Hydraulics                        NaN          NaN          NaN  \n",
              "Pushblock                         NaN          NaN          NaN  \n",
              "Ripper                            NaN          NaN          NaN  \n",
              "Scarifier                         NaN          NaN          NaN  \n",
              "Tip_Control                       NaN          NaN          NaN  \n",
              "Tire_Size                         NaN          NaN          NaN  \n",
              "Coupler                           NaN          NaN          NaN  \n",
              "Coupler_System                    NaN          NaN          NaN  \n",
              "Grouser_Tracks                    NaN          NaN          NaN  \n",
              "Hydraulics_Flow                   NaN          NaN          NaN  \n",
              "Track_Type                        NaN          NaN          NaN  \n",
              "Undercarriage_Pad_Width           NaN          NaN          NaN  \n",
              "Stick_Length                      NaN          NaN          NaN  \n",
              "Thumb                             NaN          NaN          NaN  \n",
              "Pattern_Changer                   NaN          NaN          NaN  \n",
              "Grouser_Type                      NaN          NaN          NaN  \n",
              "Backhoe_Mounting                  NaN          NaN          NaN  \n",
              "Blade_Type                        NaN          NaN          NaN  \n",
              "Travel_Controls                   NaN          NaN          NaN  \n",
              "Differential_Type                 NaN          NaN          NaN  \n",
              "Steering_Controls                 NaN          NaN          NaN  "
            ]
          },
          "metadata": {
            "tags": []
          }
        }
      ]
    },
    {
      "metadata": {
        "id": "LLL4T9jXAkhJ",
        "colab_type": "text"
      },
      "cell_type": "markdown",
      "source": [
        "It's important to note what metric is being used for a project. Generally, selecting the metric(s) is an important part of the project setup. However, in this case Kaggle tells us what metric to use: RMSLE (root mean squared log error) between the actual and predicted auction prices. Therefore we take the log of the prices, so that RMSE will give us what we need."
      ]
    },
    {
      "metadata": {
        "id": "Yj4Bo5B8AkhK",
        "colab_type": "code",
        "colab": {}
      },
      "cell_type": "code",
      "source": [
        "df_raw.SalePrice = np.log(df_raw.SalePrice)"
      ],
      "execution_count": 0,
      "outputs": []
    },
    {
      "metadata": {
        "id": "tehKt_pyAkhQ",
        "colab_type": "text"
      },
      "cell_type": "markdown",
      "source": [
        "### Initial processing"
      ]
    },
    {
      "metadata": {
        "id": "EN8t0FJ4AkhU",
        "colab_type": "code",
        "colab": {},
        "outputId": "8fb96aac-8e84-42d5-8fef-25acc1559da0"
      },
      "cell_type": "code",
      "source": [
        "m = RandomForestRegressor(n_jobs=-1)\n",
        "# The following code is supposed to fail due to string values in the input data\n",
        "m.fit(df_raw.drop('SalePrice', axis=1), df_raw.SalePrice)"
      ],
      "execution_count": 0,
      "outputs": [
        {
          "output_type": "error",
          "ename": "ValueError",
          "evalue": "could not convert string to float: 'Conventional'",
          "traceback": [
            "\u001b[0;31m---------------------------------------------------------------------------\u001b[0m",
            "\u001b[0;31mValueError\u001b[0m                                Traceback (most recent call last)",
            "\u001b[0;32m<ipython-input-10-6e70335c9573>\u001b[0m in \u001b[0;36m<module>\u001b[0;34m()\u001b[0m\n\u001b[1;32m      1\u001b[0m \u001b[0mm\u001b[0m \u001b[0;34m=\u001b[0m \u001b[0mRandomForestRegressor\u001b[0m\u001b[0;34m(\u001b[0m\u001b[0mn_jobs\u001b[0m\u001b[0;34m=\u001b[0m\u001b[0;34m-\u001b[0m\u001b[0;36m1\u001b[0m\u001b[0;34m)\u001b[0m\u001b[0;34m\u001b[0m\u001b[0m\n\u001b[1;32m      2\u001b[0m \u001b[0;31m# The following code is supposed to fail due to string values in the input data\u001b[0m\u001b[0;34m\u001b[0m\u001b[0;34m\u001b[0m\u001b[0m\n\u001b[0;32m----> 3\u001b[0;31m \u001b[0mm\u001b[0m\u001b[0;34m.\u001b[0m\u001b[0mfit\u001b[0m\u001b[0;34m(\u001b[0m\u001b[0mdf_raw\u001b[0m\u001b[0;34m.\u001b[0m\u001b[0mdrop\u001b[0m\u001b[0;34m(\u001b[0m\u001b[0;34m'SalePrice'\u001b[0m\u001b[0;34m,\u001b[0m \u001b[0maxis\u001b[0m\u001b[0;34m=\u001b[0m\u001b[0;36m1\u001b[0m\u001b[0;34m)\u001b[0m\u001b[0;34m,\u001b[0m \u001b[0mdf_raw\u001b[0m\u001b[0;34m.\u001b[0m\u001b[0mSalePrice\u001b[0m\u001b[0;34m)\u001b[0m\u001b[0;34m\u001b[0m\u001b[0m\n\u001b[0m",
            "\u001b[0;32m~/anaconda3/lib/python3.6/site-packages/sklearn/ensemble/forest.py\u001b[0m in \u001b[0;36mfit\u001b[0;34m(self, X, y, sample_weight)\u001b[0m\n\u001b[1;32m    245\u001b[0m         \"\"\"\n\u001b[1;32m    246\u001b[0m         \u001b[0;31m# Validate or convert input data\u001b[0m\u001b[0;34m\u001b[0m\u001b[0;34m\u001b[0m\u001b[0m\n\u001b[0;32m--> 247\u001b[0;31m         \u001b[0mX\u001b[0m \u001b[0;34m=\u001b[0m \u001b[0mcheck_array\u001b[0m\u001b[0;34m(\u001b[0m\u001b[0mX\u001b[0m\u001b[0;34m,\u001b[0m \u001b[0maccept_sparse\u001b[0m\u001b[0;34m=\u001b[0m\u001b[0;34m\"csc\"\u001b[0m\u001b[0;34m,\u001b[0m \u001b[0mdtype\u001b[0m\u001b[0;34m=\u001b[0m\u001b[0mDTYPE\u001b[0m\u001b[0;34m)\u001b[0m\u001b[0;34m\u001b[0m\u001b[0m\n\u001b[0m\u001b[1;32m    248\u001b[0m         \u001b[0my\u001b[0m \u001b[0;34m=\u001b[0m \u001b[0mcheck_array\u001b[0m\u001b[0;34m(\u001b[0m\u001b[0my\u001b[0m\u001b[0;34m,\u001b[0m \u001b[0maccept_sparse\u001b[0m\u001b[0;34m=\u001b[0m\u001b[0;34m'csc'\u001b[0m\u001b[0;34m,\u001b[0m \u001b[0mensure_2d\u001b[0m\u001b[0;34m=\u001b[0m\u001b[0;32mFalse\u001b[0m\u001b[0;34m,\u001b[0m \u001b[0mdtype\u001b[0m\u001b[0;34m=\u001b[0m\u001b[0;32mNone\u001b[0m\u001b[0;34m)\u001b[0m\u001b[0;34m\u001b[0m\u001b[0m\n\u001b[1;32m    249\u001b[0m         \u001b[0;32mif\u001b[0m \u001b[0msample_weight\u001b[0m \u001b[0;32mis\u001b[0m \u001b[0;32mnot\u001b[0m \u001b[0;32mNone\u001b[0m\u001b[0;34m:\u001b[0m\u001b[0;34m\u001b[0m\u001b[0m\n",
            "\u001b[0;32m~/anaconda3/lib/python3.6/site-packages/sklearn/utils/validation.py\u001b[0m in \u001b[0;36mcheck_array\u001b[0;34m(array, accept_sparse, dtype, order, copy, force_all_finite, ensure_2d, allow_nd, ensure_min_samples, ensure_min_features, warn_on_dtype, estimator)\u001b[0m\n\u001b[1;32m    431\u001b[0m                                       force_all_finite)\n\u001b[1;32m    432\u001b[0m     \u001b[0;32melse\u001b[0m\u001b[0;34m:\u001b[0m\u001b[0;34m\u001b[0m\u001b[0m\n\u001b[0;32m--> 433\u001b[0;31m         \u001b[0marray\u001b[0m \u001b[0;34m=\u001b[0m \u001b[0mnp\u001b[0m\u001b[0;34m.\u001b[0m\u001b[0marray\u001b[0m\u001b[0;34m(\u001b[0m\u001b[0marray\u001b[0m\u001b[0;34m,\u001b[0m \u001b[0mdtype\u001b[0m\u001b[0;34m=\u001b[0m\u001b[0mdtype\u001b[0m\u001b[0;34m,\u001b[0m \u001b[0morder\u001b[0m\u001b[0;34m=\u001b[0m\u001b[0morder\u001b[0m\u001b[0;34m,\u001b[0m \u001b[0mcopy\u001b[0m\u001b[0;34m=\u001b[0m\u001b[0mcopy\u001b[0m\u001b[0;34m)\u001b[0m\u001b[0;34m\u001b[0m\u001b[0m\n\u001b[0m\u001b[1;32m    434\u001b[0m \u001b[0;34m\u001b[0m\u001b[0m\n\u001b[1;32m    435\u001b[0m         \u001b[0;32mif\u001b[0m \u001b[0mensure_2d\u001b[0m\u001b[0;34m:\u001b[0m\u001b[0;34m\u001b[0m\u001b[0m\n",
            "\u001b[0;31mValueError\u001b[0m: could not convert string to float: 'Conventional'"
          ]
        }
      ]
    },
    {
      "metadata": {
        "id": "Jwhpl6pTAkhd",
        "colab_type": "text"
      },
      "cell_type": "markdown",
      "source": [
        "This dataset contains a mix of **continuous** and **categorical** variables.\n",
        "\n",
        "The following method extracts particular date fields from a complete datetime for the purpose of constructing categoricals.  You should always consider this feature extraction step when working with date-time. Without expanding your date-time into these additional fields, you can't capture any trend/cyclical behavior as a function of time at any of these granularities."
      ]
    },
    {
      "metadata": {
        "id": "R3f_X6mJAkhe",
        "colab_type": "code",
        "colab": {},
        "outputId": "0153855b-fc4c-4701-8714-fd5b17c8bc60"
      },
      "cell_type": "code",
      "source": [
        "add_datepart(df_raw, 'saledate')\n",
        "df_raw.saleYear.head()"
      ],
      "execution_count": 0,
      "outputs": [
        {
          "output_type": "execute_result",
          "data": {
            "text/plain": [
              "0    2006\n",
              "1    2004\n",
              "2    2004\n",
              "3    2011\n",
              "4    2009\n",
              "Name: saleYear, dtype: int64"
            ]
          },
          "metadata": {
            "tags": []
          },
          "execution_count": 0
        }
      ]
    },
    {
      "metadata": {
        "id": "VIRL3MHFAkhi",
        "colab_type": "text"
      },
      "cell_type": "markdown",
      "source": [
        "The categorical variables are currently stored as strings, which is inefficient, and doesn't provide the numeric coding required for a random forest. Therefore we call `train_cats` to convert strings to pandas categories."
      ]
    },
    {
      "metadata": {
        "id": "OpeMpIp7Akhi",
        "colab_type": "code",
        "colab": {}
      },
      "cell_type": "code",
      "source": [
        "train_cats(df_raw)"
      ],
      "execution_count": 0,
      "outputs": []
    },
    {
      "metadata": {
        "id": "YpSx2LTFAkhm",
        "colab_type": "text"
      },
      "cell_type": "markdown",
      "source": [
        "We can specify the order to use for categorical variables if we wish:"
      ]
    },
    {
      "metadata": {
        "id": "cTiPKdx7Akhn",
        "colab_type": "code",
        "colab": {},
        "outputId": "058065f9-b0b5-4739-927c-697c8b7b7b90"
      },
      "cell_type": "code",
      "source": [
        "df_raw.UsageBand.cat.categories"
      ],
      "execution_count": 0,
      "outputs": [
        {
          "output_type": "execute_result",
          "data": {
            "text/plain": [
              "Index(['High', 'Low', 'Medium'], dtype='object')"
            ]
          },
          "metadata": {
            "tags": []
          },
          "execution_count": 0
        }
      ]
    },
    {
      "metadata": {
        "id": "7uqYRCAfAkhu",
        "colab_type": "code",
        "colab": {}
      },
      "cell_type": "code",
      "source": [
        "df_raw.UsageBand.cat.set_categories(['High', 'Medium', 'Low'], ordered=True, inplace=True)"
      ],
      "execution_count": 0,
      "outputs": []
    },
    {
      "metadata": {
        "id": "uSFa09UQAkhy",
        "colab_type": "text"
      },
      "cell_type": "markdown",
      "source": [
        "Normally, pandas will continue displaying the text categories, while treating them as numerical data internally. Optionally, we can replace the text categories with numbers, which will make this variable non-categorical, like so:."
      ]
    },
    {
      "metadata": {
        "id": "BCkM09l3Akhy",
        "colab_type": "code",
        "colab": {}
      },
      "cell_type": "code",
      "source": [
        "df_raw.UsageBand = df_raw.UsageBand.cat.codes"
      ],
      "execution_count": 0,
      "outputs": []
    },
    {
      "metadata": {
        "id": "2vvkcg3dAkh2",
        "colab_type": "text"
      },
      "cell_type": "markdown",
      "source": [
        "We're still not quite done - for instance we have lots of missing values, which we can't pass directly to a random forest."
      ]
    },
    {
      "metadata": {
        "id": "K9qxeYwvAkh3",
        "colab_type": "code",
        "colab": {},
        "outputId": "ea9741a9-b20d-4c08-d94f-8870346b50b1"
      },
      "cell_type": "code",
      "source": [
        "display_all(df_raw.isnull().sum().sort_index()/len(df_raw))"
      ],
      "execution_count": 0,
      "outputs": [
        {
          "output_type": "display_data",
          "data": {
            "text/plain": [
              "Backhoe_Mounting            0.803872\n",
              "Blade_Extension             0.937129\n",
              "Blade_Type                  0.800977\n",
              "Blade_Width                 0.937129\n",
              "Coupler                     0.466620\n",
              "Coupler_System              0.891660\n",
              "Differential_Type           0.826959\n",
              "Drive_System                0.739829\n",
              "Enclosure                   0.000810\n",
              "Enclosure_Type              0.937129\n",
              "Engine_Horsepower           0.937129\n",
              "Forks                       0.521154\n",
              "Grouser_Tracks              0.891899\n",
              "Grouser_Type                0.752813\n",
              "Hydraulics                  0.200823\n",
              "Hydraulics_Flow             0.891899\n",
              "MachineHoursCurrentMeter    0.644089\n",
              "MachineID                   0.000000\n",
              "ModelID                     0.000000\n",
              "Pad_Type                    0.802720\n",
              "Pattern_Changer             0.752651\n",
              "ProductGroup                0.000000\n",
              "ProductGroupDesc            0.000000\n",
              "ProductSize                 0.525460\n",
              "Pushblock                   0.937129\n",
              "Ride_Control                0.629527\n",
              "Ripper                      0.740388\n",
              "SalePrice                   0.000000\n",
              "SalesID                     0.000000\n",
              "Scarifier                   0.937102\n",
              "Steering_Controls           0.827064\n",
              "Stick                       0.802720\n",
              "Stick_Length                0.752651\n",
              "Thumb                       0.752476\n",
              "Tip_Control                 0.937129\n",
              "Tire_Size                   0.763869\n",
              "Track_Type                  0.752813\n",
              "Transmission                0.543210\n",
              "Travel_Controls             0.800975\n",
              "Turbocharged                0.802720\n",
              "Undercarriage_Pad_Width     0.751020\n",
              "UsageBand                   0.000000\n",
              "YearMade                    0.000000\n",
              "auctioneerID                0.050199\n",
              "datasource                  0.000000\n",
              "fiBaseModel                 0.000000\n",
              "fiModelDesc                 0.000000\n",
              "fiModelDescriptor           0.820707\n",
              "fiModelSeries               0.858129\n",
              "fiProductClassDesc          0.000000\n",
              "fiSecondaryDesc             0.342016\n",
              "saleDay                     0.000000\n",
              "saleDayofweek               0.000000\n",
              "saleDayofyear               0.000000\n",
              "saleElapsed                 0.000000\n",
              "saleIs_month_end            0.000000\n",
              "saleIs_month_start          0.000000\n",
              "saleIs_quarter_end          0.000000\n",
              "saleIs_quarter_start        0.000000\n",
              "saleIs_year_end             0.000000\n",
              "saleIs_year_start           0.000000\n",
              "saleMonth                   0.000000\n",
              "saleWeek                    0.000000\n",
              "saleYear                    0.000000\n",
              "state                       0.000000\n",
              "dtype: float64"
            ]
          },
          "metadata": {
            "tags": []
          }
        }
      ]
    },
    {
      "metadata": {
        "id": "CDcvx2ciAkh7",
        "colab_type": "text"
      },
      "cell_type": "markdown",
      "source": [
        "But let's save this file for now, since it's already in format can we be stored and accessed efficiently."
      ]
    },
    {
      "metadata": {
        "id": "uzvIV9d3Akh8",
        "colab_type": "code",
        "colab": {}
      },
      "cell_type": "code",
      "source": [
        "os.makedirs('tmp', exist_ok=True)\n",
        "df_raw.to_feather('tmp/bulldozers-raw')"
      ],
      "execution_count": 0,
      "outputs": []
    },
    {
      "metadata": {
        "id": "PMy30RGQAkiB",
        "colab_type": "text"
      },
      "cell_type": "markdown",
      "source": [
        "### Pre-processing"
      ]
    },
    {
      "metadata": {
        "id": "y2W84BVdAkiC",
        "colab_type": "text"
      },
      "cell_type": "markdown",
      "source": [
        "In the future we can simply read it from this fast format."
      ]
    },
    {
      "metadata": {
        "id": "PCr12DybAkiD",
        "colab_type": "code",
        "colab": {}
      },
      "cell_type": "code",
      "source": [
        "df_raw = pd.read_feather('tmp/bulldozers-raw')"
      ],
      "execution_count": 0,
      "outputs": []
    },
    {
      "metadata": {
        "id": "KbtG7asyAkiJ",
        "colab_type": "text"
      },
      "cell_type": "markdown",
      "source": [
        "We'll replace categories with their numeric codes, handle missing continuous values, and split the dependent variable into a separate variable."
      ]
    },
    {
      "metadata": {
        "id": "jOp14gAcAkiJ",
        "colab_type": "code",
        "colab": {}
      },
      "cell_type": "code",
      "source": [
        "df, y, nas = proc_df(df_raw, 'SalePrice')"
      ],
      "execution_count": 0,
      "outputs": []
    },
    {
      "metadata": {
        "id": "8LjaGW9ZAkiM",
        "colab_type": "text"
      },
      "cell_type": "markdown",
      "source": [
        "We now have something we can pass to a random forest!"
      ]
    },
    {
      "metadata": {
        "id": "3PRviekhAkiN",
        "colab_type": "code",
        "colab": {},
        "outputId": "3f37f439-1010-49f9-c01c-6bb2af6de606"
      },
      "cell_type": "code",
      "source": [
        "m = RandomForestRegressor(n_jobs=-1)\n",
        "m.fit(df, y)\n",
        "m.score(df,y)"
      ],
      "execution_count": 0,
      "outputs": [
        {
          "output_type": "execute_result",
          "data": {
            "text/plain": [
              "0.9830962179413453"
            ]
          },
          "metadata": {
            "tags": []
          },
          "execution_count": 0
        }
      ]
    },
    {
      "metadata": {
        "id": "KwlaQcrCAkiW",
        "colab_type": "text"
      },
      "cell_type": "markdown",
      "source": [
        "In statistics, the coefficient of determination, denoted R2 or r2 and pronounced \"R squared\", is the proportion of the variance in the dependent variable that is predictable from the independent variable(s). https://en.wikipedia.org/wiki/Coefficient_of_determination"
      ]
    },
    {
      "metadata": {
        "id": "UW-2gtnwAkiX",
        "colab_type": "text"
      },
      "cell_type": "markdown",
      "source": [
        "Wow, an r^2 of 0.98 - that's great, right? Well, perhaps not...\n",
        "\n",
        "Possibly **the most important idea** in machine learning is that of having separate training & validation data sets. As motivation, suppose you don't divide up your data, but instead use all of it.  And suppose you have lots of parameters:\n",
        "\n",
        "<img src=\"https://github.com/prathmesh-dali/fastai/blob/master/courses/ml1/images/overfitting2.png?raw=1\" alt=\"\" style=\"width: 70%\"/>\n",
        "<center>\n",
        "[Underfitting and Overfitting](https://datascience.stackexchange.com/questions/361/when-is-a-model-underfitted)\n",
        "</center>\n",
        "\n",
        "The error for the pictured data points is lowest for the model on the far right (the blue curve passes through the red points almost perfectly), yet it's not the best choice.  Why is that?  If you were to gather some new data points, they most likely would not be on that curve in the graph on the right, but would be closer to the curve in the middle graph.\n",
        "\n",
        "This illustrates how using all our data can lead to **overfitting**. A validation set helps diagnose this problem."
      ]
    },
    {
      "metadata": {
        "id": "Y9UkR54-Akia",
        "colab_type": "code",
        "colab": {},
        "outputId": "4deb622e-9ffa-4356-abe9-3571f75e3417"
      },
      "cell_type": "code",
      "source": [
        "def split_vals(a,n): return a[:n].copy(), a[n:].copy()\n",
        "\n",
        "n_valid = 12000  # same as Kaggle's test set size\n",
        "n_trn = len(df)-n_valid\n",
        "raw_train, raw_valid = split_vals(df_raw, n_trn)\n",
        "X_train, X_valid = split_vals(df, n_trn)\n",
        "y_train, y_valid = split_vals(y, n_trn)\n",
        "\n",
        "X_train.shape, y_train.shape, X_valid.shape"
      ],
      "execution_count": 0,
      "outputs": [
        {
          "output_type": "execute_result",
          "data": {
            "text/plain": [
              "((389125, 66), (389125,), (12000, 66))"
            ]
          },
          "metadata": {
            "tags": []
          },
          "execution_count": 0
        }
      ]
    },
    {
      "metadata": {
        "id": "LVVsRjQTAkii",
        "colab_type": "text"
      },
      "cell_type": "markdown",
      "source": [
        "# Random Forests"
      ]
    },
    {
      "metadata": {
        "id": "QPYjsInLAkik",
        "colab_type": "text"
      },
      "cell_type": "markdown",
      "source": [
        "## Base model"
      ]
    },
    {
      "metadata": {
        "id": "JPQQ2U3XAkik",
        "colab_type": "text"
      },
      "cell_type": "markdown",
      "source": [
        "Let's try our model again, this time with separate training and validation sets."
      ]
    },
    {
      "metadata": {
        "id": "ma5G_DKLAkim",
        "colab_type": "code",
        "colab": {}
      },
      "cell_type": "code",
      "source": [
        "def rmse(x,y): return math.sqrt(((x-y)**2).mean())\n",
        "\n",
        "def print_score(m):\n",
        "    res = [rmse(m.predict(X_train), y_train), rmse(m.predict(X_valid), y_valid),\n",
        "                m.score(X_train, y_train), m.score(X_valid, y_valid)]\n",
        "    if hasattr(m, 'oob_score_'): res.append(m.oob_score_)\n",
        "    print(res)"
      ],
      "execution_count": 0,
      "outputs": []
    },
    {
      "metadata": {
        "id": "xOSa5jJmAkip",
        "colab_type": "code",
        "colab": {},
        "outputId": "ae8f28c7-a957-4c3e-90d2-e27e3821d240"
      },
      "cell_type": "code",
      "source": [
        "m = RandomForestRegressor(n_jobs=-1)\n",
        "%time m.fit(X_train, y_train)\n",
        "print_score(m)"
      ],
      "execution_count": 0,
      "outputs": [
        {
          "output_type": "stream",
          "text": [
            "CPU times: user 1min 4s, sys: 372 ms, total: 1min 4s\n",
            "Wall time: 8.56 s\n",
            "[0.0904611534175684, 0.2517003033389636, 0.9828975209204237, 0.8868601882297901]\n"
          ],
          "name": "stdout"
        }
      ]
    },
    {
      "metadata": {
        "id": "ffA44kHlAkis",
        "colab_type": "text"
      },
      "cell_type": "markdown",
      "source": [
        "An r^2 in the high-80's isn't bad at all (and the RMSLE puts us around rank 100 of 470 on the Kaggle leaderboard), but we can see from the validation set score that we're over-fitting badly. To understand this issue, let's simplify things down to a single small tree."
      ]
    },
    {
      "metadata": {
        "id": "cPtrTIaJAkit",
        "colab_type": "text"
      },
      "cell_type": "markdown",
      "source": [
        "## Speeding things up"
      ]
    },
    {
      "metadata": {
        "id": "LC9OUKg5Akiu",
        "colab_type": "code",
        "colab": {}
      },
      "cell_type": "code",
      "source": [
        "df_trn, y_trn, nas = proc_df(df_raw, 'SalePrice', subset=30000, na_dict=nas)\n",
        "X_train, _ = split_vals(df_trn, 20000)\n",
        "y_train, _ = split_vals(y_trn, 20000)"
      ],
      "execution_count": 0,
      "outputs": []
    },
    {
      "metadata": {
        "id": "p0yPX0vFAkix",
        "colab_type": "code",
        "colab": {},
        "outputId": "4254b669-56af-4b66-b729-3fa2ee397c96"
      },
      "cell_type": "code",
      "source": [
        "m = RandomForestRegressor(n_jobs=-1)\n",
        "%time m.fit(X_train, y_train)\n",
        "print_score(m)"
      ],
      "execution_count": 0,
      "outputs": [
        {
          "output_type": "stream",
          "text": [
            "CPU times: user 6.45 s, sys: 132 ms, total: 6.58 s\n",
            "Wall time: 539 ms\n",
            "[0.11129876897034846, 0.3501178589366683, 0.9730338701182212, 0.7810845051996299]\n"
          ],
          "name": "stdout"
        }
      ]
    },
    {
      "metadata": {
        "id": "U1ca8DLmAki1",
        "colab_type": "text"
      },
      "cell_type": "markdown",
      "source": [
        "## Single tree"
      ]
    },
    {
      "metadata": {
        "id": "dpPy8_DUAki4",
        "colab_type": "code",
        "colab": {},
        "outputId": "2ec03602-b148-419e-9012-0df1f2d648a7"
      },
      "cell_type": "code",
      "source": [
        "m = RandomForestRegressor(n_estimators=1, max_depth=3, bootstrap=False, n_jobs=-1)\n",
        "m.fit(X_train, y_train)\n",
        "print_score(m)"
      ],
      "execution_count": 0,
      "outputs": [
        {
          "output_type": "stream",
          "text": [
            "[0.4965829795739235, 0.5246832258551836, 0.50149617735615859, 0.5083655198087873]\n"
          ],
          "name": "stdout"
        }
      ]
    },
    {
      "metadata": {
        "id": "3C1IxXA3AkjA",
        "colab_type": "code",
        "colab": {},
        "outputId": "4485e0d4-8002-4352-de02-6b736ea64d8e"
      },
      "cell_type": "code",
      "source": [
        "draw_tree(m.estimators_[0], df_trn, precision=3)"
      ],
      "execution_count": 0,
      "outputs": [
        {
          "output_type": "display_data",
          "data": {
            "image/svg+xml": "<?xml version=\"1.0\" encoding=\"UTF-8\" standalone=\"no\"?>\n<!DOCTYPE svg PUBLIC \"-//W3C//DTD SVG 1.1//EN\"\n \"http://www.w3.org/Graphics/SVG/1.1/DTD/svg11.dtd\">\n<!-- Generated by graphviz version 2.38.0 (20140413.2041)\n -->\n<!-- Title: Tree Pages: 1 -->\n<svg width=\"720pt\" height=\"434pt\"\n viewBox=\"0.00 0.00 720.00 434.49\" xmlns=\"http://www.w3.org/2000/svg\" xmlns:xlink=\"http://www.w3.org/1999/xlink\">\n<g id=\"graph0\" class=\"graph\" transform=\"scale(0.778659 0.778659) rotate(0) translate(4 554)\">\n<title>Tree</title>\n<polygon fill=\"white\" stroke=\"none\" points=\"-4,4 -4,-554 920.667,-554 920.667,4 -4,4\"/>\n<!-- 0 -->\n<g id=\"node1\" class=\"node\"><title>0</title>\n<polygon fill=\"#e58139\" fill-opacity=\"0.701961\" stroke=\"black\" points=\"167.667,-308.5 27.6667,-308.5 27.6667,-240.5 167.667,-240.5 167.667,-308.5\"/>\n<text text-anchor=\"start\" x=\"35.6667\" y=\"-293.3\" font-family=\"Times,serif\" font-size=\"14.00\">Coupler_System ≤ 0.5</text>\n<text text-anchor=\"start\" x=\"62.6667\" y=\"-278.3\" font-family=\"Times,serif\" font-size=\"14.00\">mse = 0.495</text>\n<text text-anchor=\"start\" x=\"50.6667\" y=\"-263.3\" font-family=\"Times,serif\" font-size=\"14.00\">samples = 20000</text>\n<text text-anchor=\"start\" x=\"56.1667\" y=\"-248.3\" font-family=\"Times,serif\" font-size=\"14.00\">value = 10.189</text>\n</g>\n<!-- 1 -->\n<g id=\"node2\" class=\"node\"><title>1</title>\n<polygon fill=\"#e58139\" fill-opacity=\"0.788235\" stroke=\"black\" points=\"391.667,-361.5 281.667,-361.5 281.667,-293.5 391.667,-293.5 391.667,-361.5\"/>\n<text text-anchor=\"start\" x=\"292.667\" y=\"-346.3\" font-family=\"Times,serif\" font-size=\"14.00\">Enclosure ≤ 2.0</text>\n<text text-anchor=\"start\" x=\"301.667\" y=\"-331.3\" font-family=\"Times,serif\" font-size=\"14.00\">mse = 0.414</text>\n<text text-anchor=\"start\" x=\"289.667\" y=\"-316.3\" font-family=\"Times,serif\" font-size=\"14.00\">samples = 16815</text>\n<text text-anchor=\"start\" x=\"295.167\" y=\"-301.3\" font-family=\"Times,serif\" font-size=\"14.00\">value = 10.345</text>\n</g>\n<!-- 0&#45;&gt;1 -->\n<g id=\"edge1\" class=\"edge\"><title>0&#45;&gt;1</title>\n<path fill=\"none\" stroke=\"black\" d=\"M167.854,-289.972C200.525,-297.278 239.282,-305.946 271.315,-313.109\"/>\n<polygon fill=\"black\" stroke=\"black\" points=\"270.94,-316.612 281.462,-315.378 272.467,-309.78 270.94,-316.612\"/>\n<text text-anchor=\"middle\" x=\"260.353\" y=\"-325.072\" font-family=\"Times,serif\" font-size=\"14.00\">True</text>\n</g>\n<!-- 8 -->\n<g id=\"node9\" class=\"node\"><title>8</title>\n<polygon fill=\"#e58139\" fill-opacity=\"0.254902\" stroke=\"black\" points=\"400.667,-255.5 272.667,-255.5 272.667,-187.5 400.667,-187.5 400.667,-255.5\"/>\n<text text-anchor=\"start\" x=\"280.667\" y=\"-240.3\" font-family=\"Times,serif\" font-size=\"14.00\">YearMade ≤ 1999.5</text>\n<text text-anchor=\"start\" x=\"301.667\" y=\"-225.3\" font-family=\"Times,serif\" font-size=\"14.00\">mse = 0.109</text>\n<text text-anchor=\"start\" x=\"292.667\" y=\"-210.3\" font-family=\"Times,serif\" font-size=\"14.00\">samples = 3185</text>\n<text text-anchor=\"start\" x=\"298.667\" y=\"-195.3\" font-family=\"Times,serif\" font-size=\"14.00\">value = 9.363</text>\n</g>\n<!-- 0&#45;&gt;8 -->\n<g id=\"edge8\" class=\"edge\"><title>0&#45;&gt;8</title>\n<path fill=\"none\" stroke=\"black\" d=\"M167.854,-259.028C197.56,-252.385 232.298,-244.616 262.438,-237.876\"/>\n<polygon fill=\"black\" stroke=\"black\" points=\"263.474,-241.231 272.469,-235.633 261.946,-234.4 263.474,-241.231\"/>\n<text text-anchor=\"middle\" x=\"251.359\" y=\"-218.539\" font-family=\"Times,serif\" font-size=\"14.00\">False</text>\n</g>\n<!-- 2 -->\n<g id=\"node3\" class=\"node\"><title>2</title>\n<polygon fill=\"#e58139\" fill-opacity=\"0.576471\" stroke=\"black\" points=\"658.667,-486.5 538.667,-486.5 538.667,-418.5 658.667,-418.5 658.667,-486.5\"/>\n<text text-anchor=\"start\" x=\"546.667\" y=\"-471.3\" font-family=\"Times,serif\" font-size=\"14.00\">ModelID ≤ 4573.0</text>\n<text text-anchor=\"start\" x=\"563.667\" y=\"-456.3\" font-family=\"Times,serif\" font-size=\"14.00\">mse = 0.331</text>\n<text text-anchor=\"start\" x=\"554.667\" y=\"-441.3\" font-family=\"Times,serif\" font-size=\"14.00\">samples = 4400</text>\n<text text-anchor=\"start\" x=\"560.667\" y=\"-426.3\" font-family=\"Times,serif\" font-size=\"14.00\">value = 9.955</text>\n</g>\n<!-- 1&#45;&gt;2 -->\n<g id=\"edge2\" class=\"edge\"><title>1&#45;&gt;2</title>\n<path fill=\"none\" stroke=\"black\" d=\"M391.855,-353.552C431.786,-372.75 486.387,-399 529.316,-419.639\"/>\n<polygon fill=\"black\" stroke=\"black\" points=\"528.038,-422.908 538.567,-424.087 531.071,-416.599 528.038,-422.908\"/>\n</g>\n<!-- 5 -->\n<g id=\"node6\" class=\"node\"><title>5</title>\n<polygon fill=\"#e58139\" fill-opacity=\"0.862745\" stroke=\"black\" points=\"653.667,-361.5 543.667,-361.5 543.667,-293.5 653.667,-293.5 653.667,-361.5\"/>\n<text text-anchor=\"start\" x=\"554.667\" y=\"-346.3\" font-family=\"Times,serif\" font-size=\"14.00\">Enclosure ≤ 4.5</text>\n<text text-anchor=\"start\" x=\"567.167\" y=\"-331.3\" font-family=\"Times,serif\" font-size=\"14.00\">mse = 0.37</text>\n<text text-anchor=\"start\" x=\"551.667\" y=\"-316.3\" font-family=\"Times,serif\" font-size=\"14.00\">samples = 12415</text>\n<text text-anchor=\"start\" x=\"557.167\" y=\"-301.3\" font-family=\"Times,serif\" font-size=\"14.00\">value = 10.484</text>\n</g>\n<!-- 1&#45;&gt;5 -->\n<g id=\"edge5\" class=\"edge\"><title>1&#45;&gt;5</title>\n<path fill=\"none\" stroke=\"black\" d=\"M391.855,-327.5C433.051,-327.5 489.86,-327.5 533.358,-327.5\"/>\n<polygon fill=\"black\" stroke=\"black\" points=\"533.548,-331 543.548,-327.5 533.548,-324 533.548,-331\"/>\n</g>\n<!-- 3 -->\n<g id=\"node4\" class=\"node\"><title>3</title>\n<polygon fill=\"#e58139\" fill-opacity=\"0.721569\" stroke=\"black\" points=\"895.667,-550 791.667,-550 791.667,-497 895.667,-497 895.667,-550\"/>\n<text text-anchor=\"start\" x=\"808.667\" y=\"-534.8\" font-family=\"Times,serif\" font-size=\"14.00\">mse = 0.315</text>\n<text text-anchor=\"start\" x=\"799.667\" y=\"-519.8\" font-family=\"Times,serif\" font-size=\"14.00\">samples = 2002</text>\n<text text-anchor=\"start\" x=\"802.167\" y=\"-504.8\" font-family=\"Times,serif\" font-size=\"14.00\">value = 10.226</text>\n</g>\n<!-- 2&#45;&gt;3 -->\n<g id=\"edge3\" class=\"edge\"><title>2&#45;&gt;3</title>\n<path fill=\"none\" stroke=\"black\" d=\"M658.8,-469.778C696.07,-480.667 744.082,-494.695 781.697,-505.686\"/>\n<polygon fill=\"black\" stroke=\"black\" points=\"780.937,-509.11 791.517,-508.555 782.9,-502.391 780.937,-509.11\"/>\n</g>\n<!-- 4 -->\n<g id=\"node5\" class=\"node\"><title>4</title>\n<polygon fill=\"#e58139\" fill-opacity=\"0.450980\" stroke=\"black\" points=\"895.667,-479 791.667,-479 791.667,-426 895.667,-426 895.667,-479\"/>\n<text text-anchor=\"start\" x=\"808.667\" y=\"-463.8\" font-family=\"Times,serif\" font-size=\"14.00\">mse = 0.232</text>\n<text text-anchor=\"start\" x=\"799.667\" y=\"-448.8\" font-family=\"Times,serif\" font-size=\"14.00\">samples = 2398</text>\n<text text-anchor=\"start\" x=\"805.667\" y=\"-433.8\" font-family=\"Times,serif\" font-size=\"14.00\">value = 9.728</text>\n</g>\n<!-- 2&#45;&gt;4 -->\n<g id=\"edge4\" class=\"edge\"><title>2&#45;&gt;4</title>\n<path fill=\"none\" stroke=\"black\" d=\"M658.8,-452.5C695.912,-452.5 743.673,-452.5 781.216,-452.5\"/>\n<polygon fill=\"black\" stroke=\"black\" points=\"781.517,-456 791.517,-452.5 781.517,-449 781.517,-456\"/>\n</g>\n<!-- 6 -->\n<g id=\"node7\" class=\"node\"><title>6</title>\n<polygon fill=\"#e58139\" stroke=\"black\" points=\"895.667,-408 791.667,-408 791.667,-355 895.667,-355 895.667,-408\"/>\n<text text-anchor=\"start\" x=\"812.167\" y=\"-392.8\" font-family=\"Times,serif\" font-size=\"14.00\">mse = 0.29</text>\n<text text-anchor=\"start\" x=\"799.667\" y=\"-377.8\" font-family=\"Times,serif\" font-size=\"14.00\">samples = 7193</text>\n<text text-anchor=\"start\" x=\"802.167\" y=\"-362.8\" font-family=\"Times,serif\" font-size=\"14.00\">value = 10.736</text>\n</g>\n<!-- 5&#45;&gt;6 -->\n<g id=\"edge6\" class=\"edge\"><title>5&#45;&gt;6</title>\n<path fill=\"none\" stroke=\"black\" d=\"M653.898,-339.551C691.729,-347.958 742.266,-359.189 781.528,-367.914\"/>\n<polygon fill=\"black\" stroke=\"black\" points=\"780.988,-371.379 791.509,-370.132 782.507,-364.546 780.988,-371.379\"/>\n</g>\n<!-- 7 -->\n<g id=\"node8\" class=\"node\"><title>7</title>\n<polygon fill=\"#e58139\" fill-opacity=\"0.674510\" stroke=\"black\" points=\"895.667,-337 791.667,-337 791.667,-284 895.667,-284 895.667,-337\"/>\n<text text-anchor=\"start\" x=\"808.667\" y=\"-321.8\" font-family=\"Times,serif\" font-size=\"14.00\">mse = 0.272</text>\n<text text-anchor=\"start\" x=\"799.667\" y=\"-306.8\" font-family=\"Times,serif\" font-size=\"14.00\">samples = 5222</text>\n<text text-anchor=\"start\" x=\"802.167\" y=\"-291.8\" font-family=\"Times,serif\" font-size=\"14.00\">value = 10.137</text>\n</g>\n<!-- 5&#45;&gt;7 -->\n<g id=\"edge7\" class=\"edge\"><title>5&#45;&gt;7</title>\n<path fill=\"none\" stroke=\"black\" d=\"M653.898,-323.706C691.729,-321.059 742.266,-317.524 781.528,-314.777\"/>\n<polygon fill=\"black\" stroke=\"black\" points=\"781.778,-318.268 791.509,-314.079 781.29,-311.285 781.778,-318.268\"/>\n</g>\n<!-- 9 -->\n<g id=\"node10\" class=\"node\"><title>9</title>\n<polygon fill=\"#e58139\" fill-opacity=\"0.050980\" stroke=\"black\" points=\"680.167,-255.5 517.167,-255.5 517.167,-187.5 680.167,-187.5 680.167,-255.5\"/>\n<text text-anchor=\"start\" x=\"525.167\" y=\"-240.3\" font-family=\"Times,serif\" font-size=\"14.00\">fiProductClassDesc ≤ 40.5</text>\n<text text-anchor=\"start\" x=\"563.667\" y=\"-225.3\" font-family=\"Times,serif\" font-size=\"14.00\">mse = 0.101</text>\n<text text-anchor=\"start\" x=\"558.167\" y=\"-210.3\" font-family=\"Times,serif\" font-size=\"14.00\">samples = 468</text>\n<text text-anchor=\"start\" x=\"560.667\" y=\"-195.3\" font-family=\"Times,serif\" font-size=\"14.00\">value = 8.988</text>\n</g>\n<!-- 8&#45;&gt;9 -->\n<g id=\"edge9\" class=\"edge\"><title>8&#45;&gt;9</title>\n<path fill=\"none\" stroke=\"black\" d=\"M400.937,-221.5C432.677,-221.5 471.698,-221.5 506.595,-221.5\"/>\n<polygon fill=\"black\" stroke=\"black\" points=\"506.799,-225 516.798,-221.5 506.798,-218 506.799,-225\"/>\n</g>\n<!-- 12 -->\n<g id=\"node13\" class=\"node\"><title>12</title>\n<polygon fill=\"#e58139\" fill-opacity=\"0.290196\" stroke=\"black\" points=\"685.667,-131.5 511.667,-131.5 511.667,-63.5 685.667,-63.5 685.667,-131.5\"/>\n<text text-anchor=\"start\" x=\"519.667\" y=\"-116.3\" font-family=\"Times,serif\" font-size=\"14.00\">saleElapsed ≤ 1217462400.0</text>\n<text text-anchor=\"start\" x=\"563.667\" y=\"-101.3\" font-family=\"Times,serif\" font-size=\"14.00\">mse = 0.082</text>\n<text text-anchor=\"start\" x=\"554.667\" y=\"-86.3\" font-family=\"Times,serif\" font-size=\"14.00\">samples = 2717</text>\n<text text-anchor=\"start\" x=\"560.667\" y=\"-71.3\" font-family=\"Times,serif\" font-size=\"14.00\">value = 9.427</text>\n</g>\n<!-- 8&#45;&gt;12 -->\n<g id=\"edge12\" class=\"edge\"><title>8&#45;&gt;12</title>\n<path fill=\"none\" stroke=\"black\" d=\"M400.937,-191.325C435.857,-174.671 479.59,-153.813 516.949,-135.996\"/>\n<polygon fill=\"black\" stroke=\"black\" points=\"518.781,-139 526.301,-131.536 515.768,-132.682 518.781,-139\"/>\n</g>\n<!-- 10 -->\n<g id=\"node11\" class=\"node\"><title>10</title>\n<polygon fill=\"none\" stroke=\"black\" points=\"892.167,-266 795.167,-266 795.167,-213 892.167,-213 892.167,-266\"/>\n<text text-anchor=\"start\" x=\"808.667\" y=\"-250.8\" font-family=\"Times,serif\" font-size=\"14.00\">mse = 0.069</text>\n<text text-anchor=\"start\" x=\"803.167\" y=\"-235.8\" font-family=\"Times,serif\" font-size=\"14.00\">samples = 293</text>\n<text text-anchor=\"start\" x=\"805.667\" y=\"-220.8\" font-family=\"Times,serif\" font-size=\"14.00\">value = 8.896</text>\n</g>\n<!-- 9&#45;&gt;10 -->\n<g id=\"edge10\" class=\"edge\"><title>9&#45;&gt;10</title>\n<path fill=\"none\" stroke=\"black\" d=\"M680.245,-227.469C714.378,-229.997 753.391,-232.887 784.626,-235.201\"/>\n<polygon fill=\"black\" stroke=\"black\" points=\"784.671,-238.713 794.902,-235.962 785.188,-231.733 784.671,-238.713\"/>\n</g>\n<!-- 11 -->\n<g id=\"node12\" class=\"node\"><title>11</title>\n<polygon fill=\"#e58139\" fill-opacity=\"0.133333\" stroke=\"black\" points=\"892.167,-195 795.167,-195 795.167,-142 892.167,-142 892.167,-195\"/>\n<text text-anchor=\"start\" x=\"808.667\" y=\"-179.8\" font-family=\"Times,serif\" font-size=\"14.00\">mse = 0.118</text>\n<text text-anchor=\"start\" x=\"803.167\" y=\"-164.8\" font-family=\"Times,serif\" font-size=\"14.00\">samples = 175</text>\n<text text-anchor=\"start\" x=\"805.667\" y=\"-149.8\" font-family=\"Times,serif\" font-size=\"14.00\">value = 9.143</text>\n</g>\n<!-- 9&#45;&gt;11 -->\n<g id=\"edge11\" class=\"edge\"><title>9&#45;&gt;11</title>\n<path fill=\"none\" stroke=\"black\" d=\"M680.245,-203.925C714.527,-196.448 753.731,-187.898 785.033,-181.07\"/>\n<polygon fill=\"black\" stroke=\"black\" points=\"785.877,-184.469 794.902,-178.918 784.386,-177.629 785.877,-184.469\"/>\n</g>\n<!-- 13 -->\n<g id=\"node14\" class=\"node\"><title>13</title>\n<polygon fill=\"#e58139\" fill-opacity=\"0.345098\" stroke=\"black\" points=\"895.667,-124 791.667,-124 791.667,-71 895.667,-71 895.667,-124\"/>\n<text text-anchor=\"start\" x=\"808.667\" y=\"-108.8\" font-family=\"Times,serif\" font-size=\"14.00\">mse = 0.062</text>\n<text text-anchor=\"start\" x=\"799.667\" y=\"-93.8\" font-family=\"Times,serif\" font-size=\"14.00\">samples = 1347</text>\n<text text-anchor=\"start\" x=\"805.667\" y=\"-78.8\" font-family=\"Times,serif\" font-size=\"14.00\">value = 9.529</text>\n</g>\n<!-- 12&#45;&gt;13 -->\n<g id=\"edge13\" class=\"edge\"><title>12&#45;&gt;13</title>\n<path fill=\"none\" stroke=\"black\" d=\"M685.681,-97.5C717.175,-97.5 752.156,-97.5 781.089,-97.5\"/>\n<polygon fill=\"black\" stroke=\"black\" points=\"781.457,-101 791.457,-97.5 781.457,-94.0001 781.457,-101\"/>\n</g>\n<!-- 14 -->\n<g id=\"node15\" class=\"node\"><title>14</title>\n<polygon fill=\"#e58139\" fill-opacity=\"0.235294\" stroke=\"black\" points=\"895.667,-53 791.667,-53 791.667,-0 895.667,-0 895.667,-53\"/>\n<text text-anchor=\"start\" x=\"808.667\" y=\"-37.8\" font-family=\"Times,serif\" font-size=\"14.00\">mse = 0.081</text>\n<text text-anchor=\"start\" x=\"799.667\" y=\"-22.8\" font-family=\"Times,serif\" font-size=\"14.00\">samples = 1370</text>\n<text text-anchor=\"start\" x=\"805.667\" y=\"-7.8\" font-family=\"Times,serif\" font-size=\"14.00\">value = 9.328</text>\n</g>\n<!-- 12&#45;&gt;14 -->\n<g id=\"edge14\" class=\"edge\"><title>12&#45;&gt;14</title>\n<path fill=\"none\" stroke=\"black\" d=\"M685.681,-72.3681C717.451,-63.0856 752.77,-52.7662 781.849,-44.2699\"/>\n<polygon fill=\"black\" stroke=\"black\" points=\"782.84,-47.6267 791.457,-41.4626 780.876,-40.9076 782.84,-47.6267\"/>\n</g>\n</g>\n</svg>\n",
            "text/plain": [
              "<graphviz.files.Source at 0x7f4c5ef607f0>"
            ]
          },
          "metadata": {
            "tags": []
          }
        }
      ]
    },
    {
      "metadata": {
        "id": "OXQlT7i9AkjG",
        "colab_type": "text"
      },
      "cell_type": "markdown",
      "source": [
        "Let's see what happens if we create a bigger tree."
      ]
    },
    {
      "metadata": {
        "id": "Fuc3xqYLAkjI",
        "colab_type": "code",
        "colab": {},
        "outputId": "55c9d99f-c645-4581-b1f2-a54159067f15"
      },
      "cell_type": "code",
      "source": [
        "m = RandomForestRegressor(n_estimators=1, bootstrap=False, n_jobs=-1)\n",
        "m.fit(X_train, y_train)\n",
        "print_score(m)"
      ],
      "execution_count": 0,
      "outputs": [
        {
          "output_type": "stream",
          "text": [
            "[6.526751786450488e-17, 0.38473652894699306, 1.0, 0.73565273648797624]\n"
          ],
          "name": "stdout"
        }
      ]
    },
    {
      "metadata": {
        "id": "g7QjwzWOAkjO",
        "colab_type": "text"
      },
      "cell_type": "markdown",
      "source": [
        "The training set result looks great! But the validation set is worse than our original model. This is why we need to use *bagging* of multiple trees to get more generalizable results."
      ]
    },
    {
      "metadata": {
        "id": "aazjSvTiAkjQ",
        "colab_type": "text"
      },
      "cell_type": "markdown",
      "source": [
        "## Bagging"
      ]
    },
    {
      "metadata": {
        "id": "pehLDbDUAkjR",
        "colab_type": "text"
      },
      "cell_type": "markdown",
      "source": [
        "### Intro to bagging"
      ]
    },
    {
      "metadata": {
        "id": "ha739dItAkjV",
        "colab_type": "text"
      },
      "cell_type": "markdown",
      "source": [
        "To learn about bagging in random forests, let's start with our basic model again."
      ]
    },
    {
      "metadata": {
        "id": "_DkcR4gcAkjX",
        "colab_type": "code",
        "colab": {},
        "outputId": "996a348a-53a4-4e9a-c28b-ae715c509ac5"
      },
      "cell_type": "code",
      "source": [
        "m = RandomForestRegressor(n_jobs=-1)\n",
        "m.fit(X_train, y_train)\n",
        "print_score(m)"
      ],
      "execution_count": 0,
      "outputs": [
        {
          "output_type": "stream",
          "text": [
            "[0.11745691160954547, 0.27959279688230376, 0.97139456205050101, 0.86039533492251219]\n"
          ],
          "name": "stdout"
        }
      ]
    },
    {
      "metadata": {
        "id": "MiL0R5IHAkjc",
        "colab_type": "text"
      },
      "cell_type": "markdown",
      "source": [
        "We'll grab the predictions for each individual tree, and look at one example."
      ]
    },
    {
      "metadata": {
        "id": "VnhKzWlfAkje",
        "colab_type": "code",
        "colab": {},
        "outputId": "1c7ea9c3-e35f-41ce-cbd9-8dcfbce68b17"
      },
      "cell_type": "code",
      "source": [
        "preds = np.stack([t.predict(X_valid) for t in m.estimators_])\n",
        "preds[:,0], np.mean(preds[:,0]), y_valid[0]"
      ],
      "execution_count": 0,
      "outputs": [
        {
          "output_type": "execute_result",
          "data": {
            "text/plain": [
              "(array([ 9.21034,  8.9872 ,  8.9872 ,  8.9872 ,  8.9872 ,  9.21034,  8.92266,  9.21034,  9.21034,  8.9872 ]),\n",
              " 9.0700003890739005,\n",
              " 9.1049798563183568)"
            ]
          },
          "metadata": {
            "tags": []
          },
          "execution_count": 0
        }
      ]
    },
    {
      "metadata": {
        "id": "PlpMHo2fAkjo",
        "colab_type": "code",
        "colab": {},
        "outputId": "6b4df38d-92e2-485e-e090-9afee941511d"
      },
      "cell_type": "code",
      "source": [
        "preds.shape"
      ],
      "execution_count": 0,
      "outputs": [
        {
          "output_type": "execute_result",
          "data": {
            "text/plain": [
              "(10, 12000)"
            ]
          },
          "metadata": {
            "tags": []
          },
          "execution_count": 0
        }
      ]
    },
    {
      "metadata": {
        "id": "jru8OvFXAkjt",
        "colab_type": "code",
        "colab": {},
        "outputId": "bb4384c0-1fe9-4b92-de55-0d4033b2bfbe"
      },
      "cell_type": "code",
      "source": [
        "plt.plot([metrics.r2_score(y_valid, np.mean(preds[:i+1], axis=0)) for i in range(10)]);"
      ],
      "execution_count": 0,
      "outputs": [
        {
          "output_type": "display_data",
          "data": {
            "image/png": "[encoded data removed]",
            "text/plain": [
              "<matplotlib.figure.Figure at 0x7f2a7db76c18>"
            ]
          },
          "metadata": {
            "tags": []
          }
        }
      ]
    },
    {
      "metadata": {
        "id": "SeZqS2cZAkj1",
        "colab_type": "text"
      },
      "cell_type": "markdown",
      "source": [
        "The shape of this curve suggests that adding more trees isn't going to help us much. Let's check. (Compare this to our original model on a sample)"
      ]
    },
    {
      "metadata": {
        "id": "8cypxEUOAkj2",
        "colab_type": "code",
        "colab": {},
        "outputId": "86263786-09f6-47a9-f659-a2d732199d6d"
      },
      "cell_type": "code",
      "source": [
        "m = RandomForestRegressor(n_estimators=20, n_jobs=-1)\n",
        "m.fit(X_train, y_train)\n",
        "print_score(m)"
      ],
      "execution_count": 0,
      "outputs": [
        {
          "output_type": "stream",
          "text": [
            "[0.10721195540628872, 0.2777358026154778, 0.9761670456844791, 0.86224362387001874]\n"
          ],
          "name": "stdout"
        }
      ]
    },
    {
      "metadata": {
        "id": "s06gySJmAkj5",
        "colab_type": "code",
        "colab": {},
        "outputId": "cb692280-55e6-4c7d-f9ab-7c3def172bd0"
      },
      "cell_type": "code",
      "source": [
        "m = RandomForestRegressor(n_estimators=40, n_jobs=-1)\n",
        "m.fit(X_train, y_train)\n",
        "print_score(m)"
      ],
      "execution_count": 0,
      "outputs": [
        {
          "output_type": "stream",
          "text": [
            "[0.1029319603663909, 0.2725488716109634, 0.97803192843821529, 0.86734099039701873]\n"
          ],
          "name": "stdout"
        }
      ]
    },
    {
      "metadata": {
        "id": "Wwt4XDI0Akj8",
        "colab_type": "code",
        "colab": {},
        "outputId": "02e8117d-1233-4eb9-ea13-fc3b4a42cd51"
      },
      "cell_type": "code",
      "source": [
        "m = RandomForestRegressor(n_estimators=80, n_jobs=-1)\n",
        "m.fit(X_train, y_train)\n",
        "print_score(m)"
      ],
      "execution_count": 0,
      "outputs": [
        {
          "output_type": "stream",
          "text": [
            "[0.09942284423261978, 0.27026457977935875, 0.97950425012208453, 0.86955536025947799]\n"
          ],
          "name": "stdout"
        }
      ]
    },
    {
      "metadata": {
        "id": "o2nxNdanAkj_",
        "colab_type": "text"
      },
      "cell_type": "markdown",
      "source": [
        "### Out-of-bag (OOB) score"
      ]
    },
    {
      "metadata": {
        "id": "nr1xInkzAkkA",
        "colab_type": "text"
      },
      "cell_type": "markdown",
      "source": [
        "Is our validation set worse than our training set because we're over-fitting, or because the validation set is for a different time period, or a bit of both? With the existing information we've shown, we can't tell. However, random forests have a very clever trick called *out-of-bag (OOB) error* which can handle this (and more!)\n",
        "\n",
        "The idea is to calculate error on the training set, but only include the trees in the calculation of a row's error where that row was *not* included in training that tree. This allows us to see whether the model is over-fitting, without needing a separate validation set.\n",
        "\n",
        "This also has the benefit of allowing us to see whether our model generalizes, even if we only have a small amount of data so want to avoid separating some out to create a validation set.\n",
        "\n",
        "This is as simple as adding one more parameter to our model constructor. We print the OOB error last in our `print_score` function below."
      ]
    },
    {
      "metadata": {
        "id": "ZQl0PdqLAkkB",
        "colab_type": "code",
        "colab": {},
        "outputId": "c6b1aa5a-e782-4e57-b5ea-5bf5e25425ff"
      },
      "cell_type": "code",
      "source": [
        "m = RandomForestRegressor(n_estimators=40, n_jobs=-1, oob_score=True)\n",
        "m.fit(X_train, y_train)\n",
        "print_score(m)"
      ],
      "execution_count": 0,
      "outputs": [
        {
          "output_type": "stream",
          "text": [
            "[0.10198464613020647, 0.2714485881623037, 0.9786192457999483, 0.86840992079038759, 0.84831537630038534]\n"
          ],
          "name": "stdout"
        }
      ]
    },
    {
      "metadata": {
        "id": "RwPCEdnYAkkE",
        "colab_type": "text"
      },
      "cell_type": "markdown",
      "source": [
        "This shows that our validation set time difference is making an impact, as is model over-fitting."
      ]
    },
    {
      "metadata": {
        "id": "N37eVvXkAkkE",
        "colab_type": "text"
      },
      "cell_type": "markdown",
      "source": [
        "## Reducing over-fitting"
      ]
    },
    {
      "metadata": {
        "id": "qgnERz1wAkkF",
        "colab_type": "text"
      },
      "cell_type": "markdown",
      "source": [
        "### Subsampling"
      ]
    },
    {
      "metadata": {
        "id": "7jYekHtFAkkG",
        "colab_type": "text"
      },
      "cell_type": "markdown",
      "source": [
        "It turns out that one of the easiest ways to avoid over-fitting is also one of the best ways to speed up analysis: *subsampling*. Let's return to using our full dataset, so that we can demonstrate the impact of this technique."
      ]
    },
    {
      "metadata": {
        "id": "fic469l_AkkH",
        "colab_type": "code",
        "colab": {}
      },
      "cell_type": "code",
      "source": [
        "df_trn, y_trn, nas = proc_df(df_raw, 'SalePrice')\n",
        "X_train, X_valid = split_vals(df_trn, n_trn)\n",
        "y_train, y_valid = split_vals(y_trn, n_trn)"
      ],
      "execution_count": 0,
      "outputs": []
    },
    {
      "metadata": {
        "id": "kyd1xnn1AkkJ",
        "colab_type": "text"
      },
      "cell_type": "markdown",
      "source": [
        "The basic idea is this: rather than limit the total amount of data that our model can access, let's instead limit it to a *different* random subset per tree. That way, given enough trees, the model can still see *all* the data, but for each individual tree it'll be just as fast as if we had cut down our dataset as before."
      ]
    },
    {
      "metadata": {
        "id": "GXgEjjxaAkkL",
        "colab_type": "code",
        "colab": {}
      },
      "cell_type": "code",
      "source": [
        "set_rf_samples(20000)"
      ],
      "execution_count": 0,
      "outputs": []
    },
    {
      "metadata": {
        "id": "-TnR3-zwAkkO",
        "colab_type": "code",
        "colab": {},
        "outputId": "68caf3c7-911e-4a14-d940-412e57fb0735"
      },
      "cell_type": "code",
      "source": [
        "m = RandomForestRegressor(n_jobs=-1, oob_score=True)\n",
        "%time m.fit(X_train, y_train)\n",
        "print_score(m)"
      ],
      "execution_count": 0,
      "outputs": [
        {
          "output_type": "stream",
          "text": [
            "CPU times: user 8.38 s, sys: 428 ms, total: 8.81 s\n",
            "Wall time: 3.49 s\n",
            "[0.24021020451254516, 0.2780622994610262, 0.87937208432405256, 0.86191954999425424, 0.86692047674867767]\n"
          ],
          "name": "stdout"
        }
      ]
    },
    {
      "metadata": {
        "id": "DQgXNPgDAkkT",
        "colab_type": "text"
      },
      "cell_type": "markdown",
      "source": [
        "Since each additional tree allows the model to see more data, this approach can make additional trees more useful."
      ]
    },
    {
      "metadata": {
        "id": "cE63o4RqAkkU",
        "colab_type": "code",
        "colab": {},
        "outputId": "9e128410-22fe-4053-ceb9-3b6cb8373c17"
      },
      "cell_type": "code",
      "source": [
        "m = RandomForestRegressor(n_estimators=40, n_jobs=-1, oob_score=True)\n",
        "m.fit(X_train, y_train)\n",
        "print_score(m)"
      ],
      "execution_count": 0,
      "outputs": [
        {
          "output_type": "stream",
          "text": [
            "[0.2317315086850927, 0.26334275954117264, 0.89225792718146846, 0.87615150359885019, 0.88097587673696554]\n"
          ],
          "name": "stdout"
        }
      ]
    },
    {
      "metadata": {
        "id": "WueoF9dvAkkb",
        "colab_type": "text"
      },
      "cell_type": "markdown",
      "source": [
        "### Tree building parameters"
      ]
    },
    {
      "metadata": {
        "id": "p1eNbJUhAkkc",
        "colab_type": "text"
      },
      "cell_type": "markdown",
      "source": [
        "We revert to using a full bootstrap sample in order to show the impact of other over-fitting avoidance methods."
      ]
    },
    {
      "metadata": {
        "id": "oVOHDxN_Akkc",
        "colab_type": "code",
        "colab": {}
      },
      "cell_type": "code",
      "source": [
        "reset_rf_samples()"
      ],
      "execution_count": 0,
      "outputs": []
    },
    {
      "metadata": {
        "id": "Tm95qX9kAkkh",
        "colab_type": "text"
      },
      "cell_type": "markdown",
      "source": [
        "Let's get a baseline for this full set to compare to."
      ]
    },
    {
      "metadata": {
        "id": "Zfbg1KYBAkkh",
        "colab_type": "code",
        "colab": {}
      },
      "cell_type": "code",
      "source": [
        "def dectree_max_depth(tree):\n",
        "    children_left = tree.children_left\n",
        "    children_right = tree.children_right\n",
        "\n",
        "    def walk(node_id):\n",
        "        if (children_left[node_id] != children_right[node_id]):\n",
        "            left_max = 1 + walk(children_left[node_id])\n",
        "            right_max = 1 + walk(children_right[node_id])\n",
        "            return max(left_max, right_max)\n",
        "        else: # leaf\n",
        "            return 1\n",
        "\n",
        "    root_node_id = 0\n",
        "    return walk(root_node_id)"
      ],
      "execution_count": 0,
      "outputs": []
    },
    {
      "metadata": {
        "id": "6V2o__5KAkkl",
        "colab_type": "code",
        "colab": {},
        "outputId": "782b6e2c-2528-4ee9-cf88-45c022193f32"
      },
      "cell_type": "code",
      "source": [
        "m = RandomForestRegressor(n_estimators=40, n_jobs=-1, oob_score=True)\n",
        "m.fit(X_train, y_train)\n",
        "print_score(m)"
      ],
      "execution_count": 0,
      "outputs": [
        {
          "output_type": "stream",
          "text": [
            "[0.07828713008286803, 0.23818558990341943, 0.9871909898049919, 0.8986837887808402, 0.9085077721150765]\n"
          ],
          "name": "stdout"
        }
      ]
    },
    {
      "metadata": {
        "id": "kC5sm37MAkkr",
        "colab_type": "code",
        "colab": {}
      },
      "cell_type": "code",
      "source": [
        "t=m.estimators_[0].tree_"
      ],
      "execution_count": 0,
      "outputs": []
    },
    {
      "metadata": {
        "id": "iRaeP5SLAkkt",
        "colab_type": "code",
        "colab": {},
        "outputId": "1943f07b-0561-4988-c25b-b5fc40fd451f"
      },
      "cell_type": "code",
      "source": [
        "dectree_max_depth(t)"
      ],
      "execution_count": 0,
      "outputs": [
        {
          "output_type": "execute_result",
          "data": {
            "text/plain": [
              "45"
            ]
          },
          "metadata": {
            "tags": []
          },
          "execution_count": 0
        }
      ]
    },
    {
      "metadata": {
        "id": "RsKz5LOmAkkx",
        "colab_type": "code",
        "colab": {},
        "outputId": "2d21abc0-6460-4c27-8d4b-04a944a6a80b"
      },
      "cell_type": "code",
      "source": [
        "m = RandomForestRegressor(n_estimators=40, min_samples_leaf=5, n_jobs=-1, oob_score=True)\n",
        "m.fit(X_train, y_train)\n",
        "print_score(m)"
      ],
      "execution_count": 0,
      "outputs": [
        {
          "output_type": "stream",
          "text": [
            "[0.14073508031497292, 0.23337403295759937, 0.9586057939941005, 0.9027357960501001, 0.9068706269691232]\n"
          ],
          "name": "stdout"
        }
      ]
    },
    {
      "metadata": {
        "id": "M9wwOw35Akk6",
        "colab_type": "code",
        "colab": {}
      },
      "cell_type": "code",
      "source": [
        "t=m.estimators_[0].tree_"
      ],
      "execution_count": 0,
      "outputs": []
    },
    {
      "metadata": {
        "id": "K8Idyg9LAklA",
        "colab_type": "code",
        "colab": {},
        "outputId": "8d6dddb4-7da7-4f07-91c2-173de244f14a"
      },
      "cell_type": "code",
      "source": [
        "dectree_max_depth(t)"
      ],
      "execution_count": 0,
      "outputs": [
        {
          "output_type": "execute_result",
          "data": {
            "text/plain": [
              "35"
            ]
          },
          "metadata": {
            "tags": []
          },
          "execution_count": 0
        }
      ]
    },
    {
      "metadata": {
        "id": "Ylecef3DAklF",
        "colab_type": "text"
      },
      "cell_type": "markdown",
      "source": [
        "Another way to reduce over-fitting is to grow our trees less deeply. We do this by specifying (with `min_samples_leaf`) that we require some minimum number of rows in every leaf node. This has two benefits:\n",
        "\n",
        "- There are less decision rules for each leaf node; simpler models should generalize better\n",
        "- The predictions are made by averaging more rows in the leaf node, resulting in less volatility"
      ]
    },
    {
      "metadata": {
        "id": "rSzlnLVkAklG",
        "colab_type": "code",
        "colab": {},
        "outputId": "edb1aa7d-8bc9-441a-f95b-c59ff99ad86a"
      },
      "cell_type": "code",
      "source": [
        "m = RandomForestRegressor(n_estimators=40, min_samples_leaf=3, n_jobs=-1, oob_score=True)\n",
        "m.fit(X_train, y_train)\n",
        "print_score(m)"
      ],
      "execution_count": 0,
      "outputs": [
        {
          "output_type": "stream",
          "text": [
            "[0.11595869956476182, 0.23427349924625201, 0.97209195463880227, 0.90198460308551043, 0.90843297242839738]\n"
          ],
          "name": "stdout"
        }
      ]
    },
    {
      "metadata": {
        "id": "IvcqGV52AklK",
        "colab_type": "text"
      },
      "cell_type": "markdown",
      "source": [
        "We can also increase the amount of variation amongst the trees by not only use a sample of rows for each tree, but to also using a sample of *columns* for each *split*. We do this by specifying `max_features`, which is the proportion of features to randomly select from at each split."
      ]
    },
    {
      "metadata": {
        "id": "HbLV_POZAklL",
        "colab_type": "text"
      },
      "cell_type": "markdown",
      "source": [
        "- None\n",
        "- 0.5\n",
        "- 'sqrt'"
      ]
    },
    {
      "metadata": {
        "id": "j9RGdovUAklN",
        "colab_type": "text"
      },
      "cell_type": "markdown",
      "source": [
        "- 1, 3, 5, 10, 25, 100"
      ]
    },
    {
      "metadata": {
        "id": "TYh89wbnAklO",
        "colab_type": "code",
        "colab": {},
        "outputId": "82b21f2a-2fca-451a-c969-f07c0c1eba80"
      },
      "cell_type": "code",
      "source": [
        "m = RandomForestRegressor(n_estimators=40, min_samples_leaf=3, max_features=0.5, n_jobs=-1, oob_score=True)\n",
        "m.fit(X_train, y_train)\n",
        "print_score(m)"
      ],
      "execution_count": 0,
      "outputs": [
        {
          "output_type": "stream",
          "text": [
            "[0.11926975747908228, 0.22869111042050522, 0.97026995966445684, 0.9066000722129437, 0.91144914977164715]\n"
          ],
          "name": "stdout"
        }
      ]
    },
    {
      "metadata": {
        "id": "qQsf6b-uAklS",
        "colab_type": "text"
      },
      "cell_type": "markdown",
      "source": [
        "We can't compare our results directly with the Kaggle competition, since it used a different validation set (and we can no longer to submit to this competition) - but we can at least see that we're getting similar results to the winners based on the dataset we have.\n",
        "\n",
        "The sklearn docs [show an example](http://scikit-learn.org/stable/auto_examples/ensemble/plot_ensemble_oob.html) of different `max_features` methods with increasing numbers of trees - as you see, using a subset of features on each split requires using more trees, but results in better models:\n",
        "![sklearn max_features chart](http://scikit-learn.org/stable/_images/sphx_glr_plot_ensemble_oob_001.png)"
      ]
    }
  ]
}